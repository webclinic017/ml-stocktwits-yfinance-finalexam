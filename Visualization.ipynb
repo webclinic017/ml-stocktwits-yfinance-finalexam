{
  "nbformat": 4,
  "nbformat_minor": 0,
  "metadata": {
    "colab": {
      "name": "Visualization.ipynb",
      "provenance": [],
      "collapsed_sections": []
    },
    "kernelspec": {
      "name": "python3",
      "display_name": "Python 3"
    },
    "language_info": {
      "name": "python"
    }
  },
  "cells": [
    {
      "cell_type": "code",
      "execution_count": null,
      "metadata": {
        "id": "kmxg54CA5TIJ"
      },
      "outputs": [],
      "source": [
        "!pip install contractions\n",
        "!pip install emoji\n",
        "!pip install ekphrasis\n",
        "!pip install -U -q PyDrive\n",
        "!pip install yfinance --upgrade --no-cache-dir\n",
        "\n",
        "import contractions\n",
        "import datetime\n",
        "from datetime import datetime , timedelta, date\n",
        "import emoji\n",
        "import itertools\n",
        "import json\n",
        "import matplotlib.pyplot as plt\n",
        "from matplotlib.ticker import FormatStrFormatter, StrMethodFormatter\n",
        "import nltk\n",
        "nltk.download('punkt')\n",
        "nltk.download('stopwords')\n",
        "from nltk.corpus import stopwords as sw\n",
        "from nltk.stem import PorterStemmer\n",
        "from nltk.tokenize import TweetTokenizer, word_tokenize\n",
        "from nltk.tokenize.treebank import TreebankWordDetokenizer\n",
        "import numpy as np\n",
        "import os\n",
        "import pandas as pd\n",
        "import pprint\n",
        "from pprint import pprint\n",
        "import random\n",
        "import re\n",
        "import requests \n",
        "import seaborn as sns\n",
        "import string\n",
        "import sys\n",
        "import tensorflow as tf\n",
        "import tensorflow_hub as hub\n",
        "from tensorflow import keras\n",
        "import torch\n",
        "import yfinance as yf\n",
        "from ekphrasis.classes.segmenter import Segmenter\n",
        "from pydrive.auth  import GoogleAuth\n",
        "from pydrive.drive import GoogleDrive\n",
        "from google.colab import auth,  drive\n",
        "from oauth2client.client import GoogleCredentials\n",
        "from sklearn.ensemble import RandomForestClassifier\n",
        "from sklearn.feature_extraction.text import CountVectorizer, TfidfTransformer, TfidfVectorizer\n",
        "from sklearn.metrics import classification_report, confusion_matrix\n",
        "from sklearn.model_selection import GridSearchCV, train_test_split\n",
        "from sklearn.naive_bayes import MultinomialNB\n",
        "from sklearn.pipeline import Pipeline\n",
        "\n",
        "drive.mount('/content/drive')\n",
        "auth.authenticate_user()\n",
        "gauth = GoogleAuth()\n",
        "gauth.credentials = GoogleCredentials.get_application_default()\n",
        "drive = GoogleDrive(gauth)"
      ]
    },
    {
      "cell_type": "code",
      "source": [
        "pb = '/content/drive/My Drive/StockTwits Data Binary/'\n",
        "pp = '/content/drive/My Drive/StockTwits Data Percentage/'\n",
        "l1 = 'label2.1.csv'\n",
        "l2 = 'label2.2.csv'\n",
        "binary_same = [pb+'HD_binary_'+l2,pb+'T_binary_'+l2,pb+'GOOG_binary_'+l2,pb+'BRK.A_binary_'+l2]\n",
        "binary_prev = [pb+'HD_binary_'+l1,pb+'T_binary_'+l1,pb+'GOOG_binary_'+l1,pb+'BRK.A_binary_'+l1]\n",
        "percentage_same = [pp+'HD_'+l2,pp+'T_'+l2,pp+'PG_'+l2,pp+'GOOG_'+l2,pp+'BRK.A_'+l2]\n",
        "percentage_prev = [pp+'HD_'+l1,pp+'T_'+l1,pp+'PG_'+l1,pp+'GOOG_'+l1,pp+'BRK.A_'+l1]\n",
        "method = [binary_same,binary_prev,percentage_same,percentage_prev]\n",
        "y = 0\n",
        "for x in method:\n",
        "  li = []\n",
        "  for filename in method[y]:\n",
        "    df = pd.read_csv(filename, index_col=None, header=0)\n",
        "    li.append(df)\n",
        "  df = pd.concat(li, axis=0, ignore_index=True)\n",
        "  df.to_csv('combined_'+str(y)+'.csv', index=False)\n",
        "  y = y+1\n",
        "binary_same = pd.read_csv('/content/combined_0.csv')\n",
        "binary_prev = pd.read_csv('/content/combined_1.csv')\n",
        "percentage_same = pd.read_csv('/content/combined_2.csv')\n",
        "percentage_prev = pd.read_csv('/content/combined_3.csv')\n",
        "binary_same.to_csv('/content/drive/MyDrive/HD_T_GOOG_BRK-A_TSLA_Binary_Sameday.csv', header=True, index=False, encoding='utf_8')\n",
        "binary_prev.to_csv('/content/drive/MyDrive/HD_T_GOOG_BRK-A_TSLA_Binary_Prevday.csv', header=True, index=False, encoding='utf_8')\n",
        "percentage_same.to_csv('/content/drive/MyDrive/HD_T_GOOG_BRK-A_TSLA_Percentage_Sameday.csv', header=True, index=False, encoding='utf_8')\n",
        "percentage_prev.to_csv('/content/drive/MyDrive/HD_T_GOOG_BRK-A_TSLA_Percentage_Prevday.csv', header=True, index=False, encoding='utf_8')\n",
        "binary_same.drop(binary_same[binary_same['Date'] <= '2019-07-20'].index, inplace = True)\n",
        "binary_same.reset_index(drop=True, inplace=True)\n",
        "binary_prev.drop(binary_prev[binary_prev['Date'] <= '2019-07-20'].index, inplace = True)\n",
        "binary_prev.reset_index(drop=True, inplace=True)\n",
        "percentage_same.drop(percentage_same[percentage_same['Date'] <= '2019-07-20'].index, inplace = True)\n",
        "percentage_same.reset_index(drop=True, inplace=True)\n",
        "percentage_prev.drop(percentage_prev[percentage_prev['Date'] <= '2019-07-20'].index, inplace = True)\n",
        "percentage_prev.reset_index(drop=True, inplace=True)\n",
        "print('Binary same day value counts:')\n",
        "print(binary_same['label'].value_counts())\n",
        "print()\n",
        "print('Binary prev day value counts:')\n",
        "print(binary_prev['label'].value_counts())\n",
        "print()\n",
        "print('Percentage same day value counts:')\n",
        "print(percentage_same['label'].value_counts())\n",
        "print()\n",
        "print('Percentage prev day value counts:')\n",
        "print(percentage_prev['label'].value_counts())"
      ],
      "metadata": {
        "id": "5ca5xrHW5Tqx"
      },
      "execution_count": 5,
      "outputs": []
    },
    {
      "cell_type": "code",
      "source": [
        "print('binary_same')\n",
        "plt.figure(figsize = (9,3))\n",
        "ax = plt.pie(binary_same['label'].value_counts(), colors = colors, autopct=\"%1.1f%%\", labels=[\"Positive\",\"Negative\"])"
      ],
      "metadata": {
        "id": "b768fYQwDbhj"
      },
      "execution_count": null,
      "outputs": []
    },
    {
      "cell_type": "code",
      "source": [
        "print('binary_prev')\n",
        "plt.figure(figsize = (9,3))\n",
        "ax = plt.pie(binary_prev['label'].value_counts(), colors = colors, autopct=\"%1.1f%%\", labels=[\"Positive\",\"Negative\"])"
      ],
      "metadata": {
        "id": "PUSXSET8D2Tc"
      },
      "execution_count": null,
      "outputs": []
    },
    {
      "cell_type": "code",
      "source": [
        "print('percentage_same')\n",
        "colors = ['cornflowerblue', 'antiquewhite', 'lightcoral']\n",
        "plt.figure(figsize = (9,3))\n",
        "ax = plt.pie(percentage_same['label'].value_counts(), colors = colors, autopct=\"%1.1f%%\", labels=[\"Positive\",\"Netrual\",\"Negative\"])"
      ],
      "metadata": {
        "id": "LQ9xAICUEIvC"
      },
      "execution_count": null,
      "outputs": []
    },
    {
      "cell_type": "code",
      "source": [
        "print('percentage_prev')\n",
        "colors = ['antiquewhite', 'cornflowerblue', 'lightcoral']\n",
        "plt.figure(figsize = (9,3))\n",
        "ax = plt.pie(percentage_prev['label'].value_counts(), colors = colors, autopct=\"%1.1f%%\", labels=[\"Netrual\",\"Positive\",\"Negative\"])"
      ],
      "metadata": {
        "id": "QSMFJF-yEcl1"
      },
      "execution_count": null,
      "outputs": []
    },
    {
      "cell_type": "code",
      "source": [
        "df['symbol'].value_counts()"
      ],
      "metadata": {
        "id": "cy85m9DeEjOL"
      },
      "execution_count": null,
      "outputs": []
    },
    {
      "cell_type": "code",
      "source": [
        "plt.figure(figsize = (9,3))\n",
        "plt.ticklabel_format(style='plain', axis='x')\n",
        "ax = sns.countplot(y=\"symbol\", data=df, palette=(\"coolwarm\"), order = df['symbol'].value_counts().index)\n",
        "ax.set(xlabel='Number of StockTwits messages', ylabel='')"
      ],
      "metadata": {
        "id": "6HTpo1kcEr_q"
      },
      "execution_count": null,
      "outputs": []
    },
    {
      "cell_type": "code",
      "source": [
        "from wordcloud import WordCloud, STOPWORDS\n",
        "import matplotlib.pyplot as plt\n",
        "import pandas as pd\n",
        "comment_words = ''\n",
        "set1 = set(STOPWORDS)\n",
        "set2 =  {\"aapl\",\"adbe\",\"amzn\",\"bac\",\"brk.a\",\"brk.b\",\"brk\",\"dia\",\"dis\",\"fb\",\"goog\",\"googl\",\"hd\",\"intc\",\"jnj\",\"nflx\",\"pg\",\"qqq\",\"spy\",\"t\",\"tsla\",\"unh\",\"v\",\"vix\",\"vz\",\"wmt\",\"quot\",\"home\",\"depot\",\"google\",\"amp\"}\n",
        "stopwords = set.union(set1, set2)\n",
        "for val in df.message:\n",
        "    val = str(val)\n",
        "    tokens = val.split()     \n",
        "    for i in range(len(tokens)):\n",
        "        tokens[i] = tokens[i].lower()  \n",
        "    comment_words += \" \".join(tokens)+\" \"\n",
        "wordcloud = WordCloud(width = 2400, height = 1600, background_color ='white',stopwords = stopwords, min_font_size = 5).generate(comment_words)\n",
        "plt.figure(figsize = (8, 8), facecolor = None)\n",
        "plt.imshow(wordcloud)\n",
        "plt.axis(\"off\")\n",
        "plt.tight_layout(pad = 0)\n",
        "plt.show()"
      ],
      "metadata": {
        "id": "jKFgk-EWEwVx"
      },
      "execution_count": null,
      "outputs": []
    },
    {
      "cell_type": "code",
      "source": [
        "result = {\"Model\":['Logistic Reggresion','Navis Bayes','Random Forest','BERT'],\"Time\":[33,65,100,185]}\n",
        "df_results = pd.DataFrame(result) \n",
        "plt.figure(figsize = (9,3))\n",
        "plt.ticklabel_format(style='plain', axis='x')\n",
        "sns.barplot(x=df_results['Model'], y=df_results['Time'], palette=(\"coolwarm\"))\n",
        "plt.title(\"Model running time in minuttes\")"
      ],
      "metadata": {
        "id": "2F5taNqlFkP4"
      },
      "execution_count": null,
      "outputs": []
    }
  ]
}