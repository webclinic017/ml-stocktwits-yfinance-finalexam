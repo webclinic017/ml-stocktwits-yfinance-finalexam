{
  "nbformat": 4,
  "nbformat_minor": 0,
  "metadata": {
    "colab": {
      "name": "Navis Bayes.ipynb",
      "provenance": [],
      "collapsed_sections": []
    },
    "kernelspec": {
      "name": "python3",
      "display_name": "Python 3"
    },
    "language_info": {
      "name": "python"
    }
  },
  "cells": [
    {
      "cell_type": "code",
      "execution_count": null,
      "metadata": {
        "id": "dAPge6L6F99Y"
      },
      "outputs": [],
      "source": [
        "!pip install contractions\n",
        "!pip install emoji\n",
        "!pip install ekphrasis\n",
        "!pip install -U -q PyDrive\n",
        "!pip install yfinance --upgrade --no-cache-dir\n",
        "\n",
        "import pandas as pd\n",
        "import re\n",
        "import emoji\n",
        "import nltk\n",
        "import contractions\n",
        "import torch\n",
        "\n",
        "nltk.download('punkt')\n",
        "nltk.download('stopwords')\n",
        "from nltk.tokenize import TweetTokenizer \n",
        "from nltk.corpus import stopwords as sw\n",
        "from nltk.tokenize import word_tokenize \n",
        "from nltk.tokenize.treebank import TreebankWordDetokenizer\n",
        "import requests \n",
        "from pprint import pprint\n",
        "import numpy as np\n",
        "from nltk.stem import PorterStemmer\n",
        "\n",
        "import tensorflow as tf\n",
        "import tensorflow_hub as hub\n",
        "from datetime import datetime\n",
        "from tensorflow import keras\n",
        "\n",
        "import os\n",
        "import pprint\n",
        "import json\n",
        "import random\n",
        "import string\n",
        "import sys\n",
        "from ekphrasis.classes.segmenter import Segmenter\n",
        "import itertools\n",
        "\n",
        "\n",
        "from pydrive.auth import GoogleAuth\n",
        "from pydrive.drive import GoogleDrive\n",
        "from google.colab import auth\n",
        "from oauth2client.client import GoogleCredentials\n",
        "import pandas as pd\n",
        "\n",
        "from google.colab import drive\n",
        "\n",
        "import seaborn as sns\n",
        "import matplotlib.pyplot as plt\n",
        "from matplotlib.ticker import FormatStrFormatter, StrMethodFormatter\n",
        "\n",
        "import datetime\n",
        "from datetime import datetime, timedelta, date\n",
        "\n",
        "import yfinance as yf\n",
        "from datetime import datetime, timedelta, date\n",
        "\n",
        "#mount's to Google Drive\n",
        "drive.mount('/content/drive')\n",
        "\n",
        "#connect's to Google Cloud SDK\n",
        "auth.authenticate_user()\n",
        "gauth = GoogleAuth()\n",
        "gauth.credentials = GoogleCredentials.get_application_default()\n",
        "drive = GoogleDrive(gauth)"
      ]
    },
    {
      "cell_type": "code",
      "source": [
        "from sklearn.model_selection import train_test_split"
      ],
      "metadata": {
        "id": "w9bNUcICGjzu"
      },
      "execution_count": null,
      "outputs": []
    },
    {
      "cell_type": "code",
      "source": [
        "df = pd.read_csv('/content/combined_0.csv')\n",
        "df = df.sample(frac=1)\n",
        "df.head()"
      ],
      "metadata": {
        "colab": {
          "base_uri": "https://localhost:8080/",
          "height": 337
        },
        "id": "c6_pTpCRGA4R",
        "outputId": "cbd6aa59-fa0b-4507-ec20-9512babdca43"
      },
      "execution_count": null,
      "outputs": [
        {
          "output_type": "execute_result",
          "data": {
            "text/plain": [
              "       symbol                                            message  \\\n",
              "199321      V  quot valuewalk frenzied alibaba group holding ...   \n",
              "6662        T              ms nok son teva latest ratings stocks   \n",
              "19786       T            looks like bad call sure careful levels   \n",
              "20469       T  held 32 5 calls weekend 200 banger money bag m...   \n",
              "43886       T  ranks 102 short volume 18 yesterday open 36 77...   \n",
              "\n",
              "                   datetime     user  message_id        Date      Time  label  \n",
              "199321  2014-10-16 23:01:30   343779    28099520  2014-10-16  23:01:30      1  \n",
              "6662    2020-04-17 20:07:28   464077   207073905  2020-04-17  20:07:28      1  \n",
              "19786   2019-06-27 21:32:53  2144172   168990298  2019-06-27  21:32:53      1  \n",
              "20469   2019-06-10 14:01:00  1486934   166926327  2019-06-10  14:01:00      0  \n",
              "43886   2018-01-18 02:55:10  1245096   109338815  2018-01-18  02:55:10      1  "
            ],
            "text/html": [
              "\n",
              "  <div id=\"df-e5ca7426-7455-47a9-a9a9-3aebdc14a62d\">\n",
              "    <div class=\"colab-df-container\">\n",
              "      <div>\n",
              "<style scoped>\n",
              "    .dataframe tbody tr th:only-of-type {\n",
              "        vertical-align: middle;\n",
              "    }\n",
              "\n",
              "    .dataframe tbody tr th {\n",
              "        vertical-align: top;\n",
              "    }\n",
              "\n",
              "    .dataframe thead th {\n",
              "        text-align: right;\n",
              "    }\n",
              "</style>\n",
              "<table border=\"1\" class=\"dataframe\">\n",
              "  <thead>\n",
              "    <tr style=\"text-align: right;\">\n",
              "      <th></th>\n",
              "      <th>symbol</th>\n",
              "      <th>message</th>\n",
              "      <th>datetime</th>\n",
              "      <th>user</th>\n",
              "      <th>message_id</th>\n",
              "      <th>Date</th>\n",
              "      <th>Time</th>\n",
              "      <th>label</th>\n",
              "    </tr>\n",
              "  </thead>\n",
              "  <tbody>\n",
              "    <tr>\n",
              "      <th>199321</th>\n",
              "      <td>V</td>\n",
              "      <td>quot valuewalk frenzied alibaba group holding ...</td>\n",
              "      <td>2014-10-16 23:01:30</td>\n",
              "      <td>343779</td>\n",
              "      <td>28099520</td>\n",
              "      <td>2014-10-16</td>\n",
              "      <td>23:01:30</td>\n",
              "      <td>1</td>\n",
              "    </tr>\n",
              "    <tr>\n",
              "      <th>6662</th>\n",
              "      <td>T</td>\n",
              "      <td>ms nok son teva latest ratings stocks</td>\n",
              "      <td>2020-04-17 20:07:28</td>\n",
              "      <td>464077</td>\n",
              "      <td>207073905</td>\n",
              "      <td>2020-04-17</td>\n",
              "      <td>20:07:28</td>\n",
              "      <td>1</td>\n",
              "    </tr>\n",
              "    <tr>\n",
              "      <th>19786</th>\n",
              "      <td>T</td>\n",
              "      <td>looks like bad call sure careful levels</td>\n",
              "      <td>2019-06-27 21:32:53</td>\n",
              "      <td>2144172</td>\n",
              "      <td>168990298</td>\n",
              "      <td>2019-06-27</td>\n",
              "      <td>21:32:53</td>\n",
              "      <td>1</td>\n",
              "    </tr>\n",
              "    <tr>\n",
              "      <th>20469</th>\n",
              "      <td>T</td>\n",
              "      <td>held 32 5 calls weekend 200 banger money bag m...</td>\n",
              "      <td>2019-06-10 14:01:00</td>\n",
              "      <td>1486934</td>\n",
              "      <td>166926327</td>\n",
              "      <td>2019-06-10</td>\n",
              "      <td>14:01:00</td>\n",
              "      <td>0</td>\n",
              "    </tr>\n",
              "    <tr>\n",
              "      <th>43886</th>\n",
              "      <td>T</td>\n",
              "      <td>ranks 102 short volume 18 yesterday open 36 77...</td>\n",
              "      <td>2018-01-18 02:55:10</td>\n",
              "      <td>1245096</td>\n",
              "      <td>109338815</td>\n",
              "      <td>2018-01-18</td>\n",
              "      <td>02:55:10</td>\n",
              "      <td>1</td>\n",
              "    </tr>\n",
              "  </tbody>\n",
              "</table>\n",
              "</div>\n",
              "      <button class=\"colab-df-convert\" onclick=\"convertToInteractive('df-e5ca7426-7455-47a9-a9a9-3aebdc14a62d')\"\n",
              "              title=\"Convert this dataframe to an interactive table.\"\n",
              "              style=\"display:none;\">\n",
              "        \n",
              "  <svg xmlns=\"http://www.w3.org/2000/svg\" height=\"24px\"viewBox=\"0 0 24 24\"\n",
              "       width=\"24px\">\n",
              "    <path d=\"M0 0h24v24H0V0z\" fill=\"none\"/>\n",
              "    <path d=\"M18.56 5.44l.94 2.06.94-2.06 2.06-.94-2.06-.94-.94-2.06-.94 2.06-2.06.94zm-11 1L8.5 8.5l.94-2.06 2.06-.94-2.06-.94L8.5 2.5l-.94 2.06-2.06.94zm10 10l.94 2.06.94-2.06 2.06-.94-2.06-.94-.94-2.06-.94 2.06-2.06.94z\"/><path d=\"M17.41 7.96l-1.37-1.37c-.4-.4-.92-.59-1.43-.59-.52 0-1.04.2-1.43.59L10.3 9.45l-7.72 7.72c-.78.78-.78 2.05 0 2.83L4 21.41c.39.39.9.59 1.41.59.51 0 1.02-.2 1.41-.59l7.78-7.78 2.81-2.81c.8-.78.8-2.07 0-2.86zM5.41 20L4 18.59l7.72-7.72 1.47 1.35L5.41 20z\"/>\n",
              "  </svg>\n",
              "      </button>\n",
              "      \n",
              "  <style>\n",
              "    .colab-df-container {\n",
              "      display:flex;\n",
              "      flex-wrap:wrap;\n",
              "      gap: 12px;\n",
              "    }\n",
              "\n",
              "    .colab-df-convert {\n",
              "      background-color: #E8F0FE;\n",
              "      border: none;\n",
              "      border-radius: 50%;\n",
              "      cursor: pointer;\n",
              "      display: none;\n",
              "      fill: #1967D2;\n",
              "      height: 32px;\n",
              "      padding: 0 0 0 0;\n",
              "      width: 32px;\n",
              "    }\n",
              "\n",
              "    .colab-df-convert:hover {\n",
              "      background-color: #E2EBFA;\n",
              "      box-shadow: 0px 1px 2px rgba(60, 64, 67, 0.3), 0px 1px 3px 1px rgba(60, 64, 67, 0.15);\n",
              "      fill: #174EA6;\n",
              "    }\n",
              "\n",
              "    [theme=dark] .colab-df-convert {\n",
              "      background-color: #3B4455;\n",
              "      fill: #D2E3FC;\n",
              "    }\n",
              "\n",
              "    [theme=dark] .colab-df-convert:hover {\n",
              "      background-color: #434B5C;\n",
              "      box-shadow: 0px 1px 3px 1px rgba(0, 0, 0, 0.15);\n",
              "      filter: drop-shadow(0px 1px 2px rgba(0, 0, 0, 0.3));\n",
              "      fill: #FFFFFF;\n",
              "    }\n",
              "  </style>\n",
              "\n",
              "      <script>\n",
              "        const buttonEl =\n",
              "          document.querySelector('#df-e5ca7426-7455-47a9-a9a9-3aebdc14a62d button.colab-df-convert');\n",
              "        buttonEl.style.display =\n",
              "          google.colab.kernel.accessAllowed ? 'block' : 'none';\n",
              "\n",
              "        async function convertToInteractive(key) {\n",
              "          const element = document.querySelector('#df-e5ca7426-7455-47a9-a9a9-3aebdc14a62d');\n",
              "          const dataTable =\n",
              "            await google.colab.kernel.invokeFunction('convertToInteractive',\n",
              "                                                     [key], {});\n",
              "          if (!dataTable) return;\n",
              "\n",
              "          const docLinkHtml = 'Like what you see? Visit the ' +\n",
              "            '<a target=\"_blank\" href=https://colab.research.google.com/notebooks/data_table.ipynb>data table notebook</a>'\n",
              "            + ' to learn more about interactive tables.';\n",
              "          element.innerHTML = '';\n",
              "          dataTable['output_type'] = 'display_data';\n",
              "          await google.colab.output.renderOutput(dataTable, element);\n",
              "          const docLink = document.createElement('div');\n",
              "          docLink.innerHTML = docLinkHtml;\n",
              "          element.appendChild(docLink);\n",
              "        }\n",
              "      </script>\n",
              "    </div>\n",
              "  </div>\n",
              "  "
            ]
          },
          "metadata": {},
          "execution_count": 58
        }
      ]
    },
    {
      "cell_type": "code",
      "source": [
        "df.drop(df[df['Date'] <= '2019-07-20'].index, inplace = True)\n",
        "df['label'].value_counts()"
      ],
      "metadata": {
        "colab": {
          "base_uri": "https://localhost:8080/"
        },
        "id": "WiRWkglhGk4N",
        "outputId": "effe6b98-a67a-4ad1-e76e-1c9e5a41ae72"
      },
      "execution_count": null,
      "outputs": [
        {
          "output_type": "execute_result",
          "data": {
            "text/plain": [
              "1    27545\n",
              "0    25205\n",
              "Name: label, dtype: int64"
            ]
          },
          "metadata": {},
          "execution_count": 59
        }
      ]
    },
    {
      "cell_type": "markdown",
      "source": [
        "Here we start the process with regression. \n",
        "1. Splitting\n",
        "2. TF-IDF Vetorize\n",
        "3. Navis Bayes\n",
        "4. Report"
      ],
      "metadata": {
        "id": "xJ469s8eHWcD"
      }
    },
    {
      "cell_type": "code",
      "source": [
        "from sklearn.model_selection import train_test_split\n",
        "X_train, X_test, y_train, y_test = train_test_split(df['message'], df['label'], random_state = 42, test_size = 0.1)"
      ],
      "metadata": {
        "id": "c0UlSIgtGm1A"
      },
      "execution_count": null,
      "outputs": []
    },
    {
      "cell_type": "code",
      "source": [
        "y_train.value_counts()"
      ],
      "metadata": {
        "colab": {
          "base_uri": "https://localhost:8080/"
        },
        "id": "yF5TZn6IHj9H",
        "outputId": "d5e9785d-1e8f-4529-8130-c5d6f2b29228"
      },
      "execution_count": null,
      "outputs": [
        {
          "output_type": "execute_result",
          "data": {
            "text/plain": [
              "1    24791\n",
              "0    22684\n",
              "Name: label, dtype: int64"
            ]
          },
          "metadata": {},
          "execution_count": 61
        }
      ]
    },
    {
      "cell_type": "code",
      "source": [
        "y_test.value_counts()"
      ],
      "metadata": {
        "colab": {
          "base_uri": "https://localhost:8080/"
        },
        "id": "K5vF9EbaICNr",
        "outputId": "4ab9a0eb-d531-4930-cf67-20f6e0f8dfab"
      },
      "execution_count": null,
      "outputs": [
        {
          "output_type": "execute_result",
          "data": {
            "text/plain": [
              "1    2754\n",
              "0    2521\n",
              "Name: label, dtype: int64"
            ]
          },
          "metadata": {},
          "execution_count": 62
        }
      ]
    },
    {
      "cell_type": "code",
      "source": [
        "from sklearn.feature_extraction.text import TfidfVectorizer\n",
        "tf_idf = TfidfVectorizer(use_idf=True,ngram_range=(2,2))"
      ],
      "metadata": {
        "id": "NJDXopfRIFW6"
      },
      "execution_count": null,
      "outputs": []
    },
    {
      "cell_type": "code",
      "source": [
        "#Extracting features of the training data\n",
        "train_features = tf_idf.fit_transform(X_train.values.astype('U'))\n",
        "\n",
        "test_features = tf_idf.transform(X_test.values.astype('U'))"
      ],
      "metadata": {
        "id": "sG1UQMBsIKkZ"
      },
      "execution_count": null,
      "outputs": []
    },
    {
      "cell_type": "code",
      "source": [
        "from sklearn.naive_bayes import MultinomialNB\n",
        "from sklearn.model_selection import GridSearchCV\n",
        "\n",
        "params = {'alpha': [0.01, 0.1, 0.5, 1.0, 10.0],}\n",
        "\n",
        "model = GridSearchCV(MultinomialNB(), param_grid=params, n_jobs=-1, cv=5, verbose=5)\n",
        "model.fit(train_features, y_train)"
      ],
      "metadata": {
        "colab": {
          "base_uri": "https://localhost:8080/"
        },
        "id": "m0lN00RHLcjS",
        "outputId": "5cdd025e-dae4-4168-c11c-21d558f00ef6"
      },
      "execution_count": null,
      "outputs": [
        {
          "output_type": "stream",
          "name": "stdout",
          "text": [
            "Fitting 5 folds for each of 5 candidates, totalling 25 fits\n"
          ]
        },
        {
          "output_type": "execute_result",
          "data": {
            "text/plain": [
              "GridSearchCV(cv=5, estimator=MultinomialNB(), n_jobs=-1,\n",
              "             param_grid={'alpha': [0.01, 0.1, 0.5, 1.0, 10.0]}, verbose=5)"
            ]
          },
          "metadata": {},
          "execution_count": 85
        }
      ]
    },
    {
      "cell_type": "code",
      "source": [
        "print('Train Accuracy : %.3f'%model.best_estimator_.score(train_features, y_train))\n",
        "print('Test Accuracy : %.3f'%model.best_estimator_.score(test_features, y_test))\n",
        "print('Best Accuracy Through Grid Search : %.3f'%model.best_score_)\n",
        "print('Best Parameters : ',model.best_params_)"
      ],
      "metadata": {
        "colab": {
          "base_uri": "https://localhost:8080/"
        },
        "id": "OXBxEvKnLgr5",
        "outputId": "9fc06204-27b4-42f5-e16f-de1e4cab217d"
      },
      "execution_count": null,
      "outputs": [
        {
          "output_type": "stream",
          "name": "stdout",
          "text": [
            "Train Accuracy : 0.921\n",
            "Test Accuracy : 0.571\n",
            "Best Accuracy Through Grid Search : 0.568\n",
            "Best Parameters :  {'alpha': 0.5}\n"
          ]
        }
      ]
    },
    {
      "cell_type": "code",
      "source": [
        "from sklearn.metrics import classification_report\n",
        "\n",
        "y_pred = model.predict(test_features)\n",
        "print(classification_report(y_test, y_pred))"
      ],
      "metadata": {
        "colab": {
          "base_uri": "https://localhost:8080/"
        },
        "id": "7KweaoXKL8mt",
        "outputId": "0a59a4be-1378-4c4f-a358-304a82806895"
      },
      "execution_count": null,
      "outputs": [
        {
          "output_type": "stream",
          "name": "stdout",
          "text": [
            "              precision    recall  f1-score   support\n",
            "\n",
            "           0       0.57      0.42      0.48      2521\n",
            "           1       0.57      0.71      0.63      2754\n",
            "\n",
            "    accuracy                           0.57      5275\n",
            "   macro avg       0.57      0.56      0.56      5275\n",
            "weighted avg       0.57      0.57      0.56      5275\n",
            "\n"
          ]
        }
      ]
    },
    {
      "cell_type": "code",
      "source": [
        ""
      ],
      "metadata": {
        "id": "5wZp7xkJOAGY"
      },
      "execution_count": null,
      "outputs": []
    }
  ]
}