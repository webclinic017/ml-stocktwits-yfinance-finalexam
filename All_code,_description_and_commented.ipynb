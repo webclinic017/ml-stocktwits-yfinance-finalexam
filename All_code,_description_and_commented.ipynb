{
  "cells": [
    {
      "cell_type": "markdown",
      "source": [
        "# Libaries, Data, Google Drive"
      ],
      "metadata": {
        "id": "TKYi64uB5vlL"
      }
    },
    {
      "cell_type": "markdown",
      "source": [
        "Before running any code, run this cell that import everything and install all that is needed. This will also connect to Google Drive and Google Cloud SDK to get all the relevant files. We connect to Google Drive so we can download all the raw data that is uploaded and stored there. We will also use google Google Drive to save our data after we have labeled it and pre-processes it. And then we will import the datasets we will use to then run the visualization and regression. In this cell we also have a definition called def get_compData(comp):. This is a definion that we will use to gather our data for a comapny using the stock ticker and download from a shared file we got from students at University at Sydeny. "
      ],
      "metadata": {
        "id": "-W_scFPq5iBK"
      }
    },
    {
      "cell_type": "code",
      "source": [
        "#Installing libaries that is not pre-installed in Google Colab\n",
        "!pip install contractions\n",
        "!pip install emoji\n",
        "!pip install ekphrasis\n",
        "!pip install -U -q PyDrive\n",
        "!pip install yfinance --upgrade --no-cache-dir\n",
        "\n",
        "#Importing all libaries needed for all of our code\n",
        "import contractions\n",
        "import datetime\n",
        "from datetime import datetime , timedelta, date\n",
        "import emoji\n",
        "import itertools\n",
        "import json\n",
        "import matplotlib.pyplot as plt\n",
        "from matplotlib.ticker import FormatStrFormatter, StrMethodFormatter\n",
        "import nltk\n",
        "nltk.download('punkt')\n",
        "nltk.download('stopwords')\n",
        "from nltk.corpus import stopwords as sw\n",
        "from nltk.stem import PorterStemmer\n",
        "from nltk.tokenize import TweetTokenizer, word_tokenize\n",
        "from nltk.tokenize.treebank import TreebankWordDetokenizer\n",
        "import numpy as np\n",
        "import os\n",
        "import pandas as pd\n",
        "import pprint\n",
        "from pprint import pprint\n",
        "import random\n",
        "import re\n",
        "import requests \n",
        "import seaborn as sns\n",
        "import string\n",
        "import sys\n",
        "import tensorflow as tf\n",
        "import tensorflow_hub as hub\n",
        "from tensorflow import keras\n",
        "import torch\n",
        "import yfinance as yf\n",
        "from ekphrasis.classes.segmenter import Segmenter\n",
        "from pydrive.auth  import GoogleAuth\n",
        "from pydrive.drive import GoogleDrive\n",
        "from google.colab import auth,  drive\n",
        "from oauth2client.client import GoogleCredentials\n",
        "from sklearn.ensemble import RandomForestClassifier\n",
        "from sklearn.feature_extraction.text import CountVectorizer, TfidfTransformer, TfidfVectorizer\n",
        "from sklearn.metrics import classification_report, confusion_matrix\n",
        "from sklearn.model_selection import GridSearchCV, train_test_split\n",
        "from sklearn.naive_bayes import MultinomialNB\n",
        "from sklearn.pipeline import Pipeline\n",
        "\n",
        "#Mount's to Google Drive\n",
        "drive.mount('/content/drive')\n",
        "\n",
        "#Connect's to Google Cloud SDK\n",
        "auth.authenticate_user()\n",
        "gauth = GoogleAuth()\n",
        "gauth.credentials = GoogleCredentials.get_application_default()\n",
        "drive = GoogleDrive(gauth)\n",
        "\n",
        "#Defintion to get comapnies data from google drive share function\n",
        "def get_compData(comp):\n",
        "  if comp =='AAPL':\n",
        "    # AAPL: https://drive.google.com/file/d/1diLooyj8DtyyxwiihpbTJdfY4D98irLE/view?usp=sharing\n",
        "    id = '1diLooyj8DtyyxwiihpbTJdfY4D98irLE'\n",
        "    downloaded1 = drive.CreateFile({'id':id}) \n",
        "    downloaded1.GetContentFile('stocktwits_AAPL.csv')\n",
        "    df_st1 = pd.read_csv('stocktwits_AAPL.csv')\n",
        "    return df_st1\n",
        "  elif comp=='ADBE':\n",
        "    # ADBE: https://drive.google.com/file/d/1SMyRg8aUnnQTbukVadBo814qdS6xDnP1/view?usp=sharing\n",
        "    id = '1SMyRg8aUnnQTbukVadBo814qdS6xDnP1'\n",
        "    downloaded2 = drive.CreateFile({'id':id}) \n",
        "    downloaded2.GetContentFile('stocktwits_ADBE.csv')\n",
        "    df_st2 = pd.read_csv('stocktwits_ADBE.csv')\n",
        "    return df_st2\n",
        "  elif comp=='AMZN':\n",
        "    # AMZN: https://drive.google.com/file/d/1ffmFOrlcaTCCByKMq7E1LCXXK6daMkB_/view?usp=sharing\n",
        "    id = '1ffmFOrlcaTCCByKMq7E1LCXXK6daMkB_'\n",
        "    downloaded3 = drive.CreateFile({'id':id}) \n",
        "    downloaded3.GetContentFile('stocktwits_AMZN.csv')\n",
        "    df_st3 = pd.read_csv('stocktwits_AMZN.csv')\n",
        "    return df_st3\n",
        "  elif comp=='BAC':\n",
        "    # BAC: https://drive.google.com/file/d/1HeaKJtlSz2xiLT3sx5FLdYmzCkVDGIjW/view?usp=sharing\n",
        "    id = '1HeaKJtlSz2xiLT3sx5FLdYmzCkVDGIjW'\n",
        "    downloaded4 = drive.CreateFile({'id':id}) \n",
        "    downloaded4.GetContentFile('stocktwits_BAC.csv')\n",
        "    df_st4 = pd.read_csv('stocktwits_BAC.csv')\n",
        "    return df_st4\n",
        "  elif comp=='BRK.A':\n",
        "    #BRK_A: https://drive.google.com/file/d/1HeQhAU20YyT1tRCD-yN83vrUGY7jDDSt/view?usp=sharing\n",
        "    id = '1HeQhAU20YyT1tRCD-yN83vrUGY7jDDSt'\n",
        "    downloaded5 = drive.CreateFile({'id':id}) \n",
        "    downloaded5.GetContentFile('stocktwits_BRK_A.csv')\n",
        "    df_st5 = pd.read_csv('stocktwits_BRK_A.csv')\n",
        "    return df_st5\n",
        "  elif comp=='BRK.B':\n",
        "    #BRK_B: https://drive.google.com/file/d/1FRrwrIVJVyFqg025SWasKW84qOJMhe84/view?usp=sharing\n",
        "    id = '1FRrwrIVJVyFqg025SWasKW84qOJMhe84'\n",
        "    downloaded6 = drive.CreateFile({'id':id}) \n",
        "    downloaded6.GetContentFile('stocktwits_BRK_B.csv')\n",
        "    df_st6 = pd.read_csv('stocktwits_BRK_B.csv')\n",
        "    return df_st6\n",
        "  elif comp=='DIA':\n",
        "    #DIA: https://drive.google.com/file/d/1riZ8IdkupLre9NQ7McBO21wDFVX_NPvg/view?usp=sharing\n",
        "    id = '1riZ8IdkupLre9NQ7McBO21wDFVX_NPvg'\n",
        "    downloaded7 = drive.CreateFile({'id':id}) \n",
        "    downloaded7.GetContentFile('stocktwits_DIA.csv')\n",
        "    df_st7 = pd.read_csv('stocktwits_DIA.csv')\n",
        "    return df_st7\n",
        "  elif comp=='DIS':\n",
        "    #DIS: https://drive.google.com/file/d/1y5IT3gA_yIJnFLTsxy1GHdIY4SHwj84Y/view?usp=sharing\n",
        "    id = '1y5IT3gA_yIJnFLTsxy1GHdIY4SHwj84Y'\n",
        "    downloaded8 = drive.CreateFile({'id':id}) \n",
        "    downloaded8.GetContentFile('stocktwits_DIS.csv')\n",
        "    df_st8 = pd.read_csv('stocktwits_DIS.csv')\n",
        "    return df_st8\n",
        "  elif comp=='FB':\n",
        "    #FB: https://drive.google.com/file/d/1x1FugJhUQx9xKWS9LYnio1MU8oi5iuTc/view?usp=sharing\n",
        "    id = '1x1FugJhUQx9xKWS9LYnio1MU8oi5iuTc'\n",
        "    downloaded9 = drive.CreateFile({'id':id}) \n",
        "    downloaded9.GetContentFile('stocktwits_FB.csv')\n",
        "    df_st9 = pd.read_csv('stocktwits_FB.csv')\n",
        "    return df_st9\n",
        "  elif comp=='GOOG':\n",
        "    #GOOG: https://drive.google.com/file/d/1UMnPXfG_XkgLJAQ2VtLvMPBPZhN68Ezw/view?usp=sharing\n",
        "    id = '1UMnPXfG_XkgLJAQ2VtLvMPBPZhN68Ezw'\n",
        "    downloaded10 = drive.CreateFile({'id':id}) \n",
        "    downloaded10.GetContentFile('stocktwits_GOOG.csv')\n",
        "    df_st10 = pd.read_csv('stocktwits_GOOG.csv')\n",
        "    return df_st10\n",
        "  elif comp=='GOOGL':\n",
        "    #GOOGL: https://drive.google.com/file/d/1NbCpQX0sTgXsqcW7xMbkrDPlAOscIoTL/view?usp=sharing\n",
        "    id = '1NbCpQX0sTgXsqcW7xMbkrDPlAOscIoTL'\n",
        "    downloaded11 = drive.CreateFile({'id':id}) \n",
        "    downloaded11.GetContentFile('stocktwits_GOOGL.csv')\n",
        "    df_st11 = pd.read_csv('stocktwits_GOOGL.csv')\n",
        "    return df_st11\n",
        "  elif comp=='HD':\n",
        "    #HD: https://drive.google.com/file/d/10wbCzJMcjLWAqrlEtHlWieIrq7dyolG2/view?usp=sharing\n",
        "    id = '10wbCzJMcjLWAqrlEtHlWieIrq7dyolG2'\n",
        "    downloaded12 = drive.CreateFile({'id':id}) \n",
        "    downloaded12.GetContentFile('stocktwits_HD.csv')\n",
        "    df_st12 = pd.read_csv('stocktwits_HD.csv')\n",
        "    return df_st12\n",
        "  elif comp=='INTC':\n",
        "    # INTC: https://drive.google.com/file/d/1k1-NSl8qLTa2oDs1G8CFC4CJzkv9mugw/view?usp=sharing \n",
        "    id = '1k1-NSl8qLTa2oDs1G8CFC4CJzkv9mugw'\n",
        "    downloaded13 = drive.CreateFile({'id':id}) \n",
        "    downloaded13.GetContentFile('stocktwits_INTC.csv')\n",
        "    df_st13 = pd.read_csv('stocktwits_INTC.csv')\n",
        "    return df_st13\n",
        "  elif comp=='JNJ':\n",
        "    # JNJ: https://drive.google.com/file/d/1Qiwu9vbDYU527szR8waaFDoFCyY4i_bc/view?usp=sharing\n",
        "    id = '1Qiwu9vbDYU527szR8waaFDoFCyY4i_bc'\n",
        "    downloaded14 = drive.CreateFile({'id':id}) \n",
        "    downloaded14.GetContentFile('stocktwits_JNJ.csv')\n",
        "    df_st14 = pd.read_csv('stocktwits_JNJ.csv')\n",
        "    return df_st14\n",
        "  elif comp=='NFLX':\n",
        "    # NFLX: https://drive.google.com/file/d/1DdJ8MPdgt9bxF3ZagkWUp45N4RMQ8Al6/view?usp=sharing\n",
        "    id = '1DdJ8MPdgt9bxF3ZagkWUp45N4RMQ8Al6'\n",
        "    downloaded15 = drive.CreateFile({'id':id}) \n",
        "    downloaded15.GetContentFile('stocktwits_NFLX.csv')\n",
        "    df_st15 = pd.read_csv('stocktwits_NFLX.csv')\n",
        "    return df_st15\n",
        "  elif comp=='PG':\n",
        "    # PG: https://drive.google.com/file/d/1tlueLaJhlduNMgRHk8Omkog5nNI8I8Yk/view?usp=sharing\n",
        "    id = '1tlueLaJhlduNMgRHk8Omkog5nNI8I8Yk'\n",
        "    downloaded16 = drive.CreateFile({'id':id}) \n",
        "    downloaded16.GetContentFile('stocktwits_PG.csv')\n",
        "    df_st16 = pd.read_csv('stocktwits_PG.csv')\n",
        "    return df_st16\n",
        "  elif comp=='QQQ':\n",
        "    # QQQ: https://drive.google.com/file/d/1gUsl5L4VBgsL9oqBxaUdk6tA9r4VxDjo/view?usp=sharing\n",
        "    id = '1gUsl5L4VBgsL9oqBxaUdk6tA9r4VxDjo'\n",
        "    downloaded17 = drive.CreateFile({'id':id}) \n",
        "    downloaded17.GetContentFile('stocktwits_QQQ.csv')\n",
        "    df_st17 = pd.read_csv('stocktwits_QQQ.csv')\n",
        "    return df_st17\n",
        "  elif comp=='SPY':\n",
        "    # SPY: https://drive.google.com/file/d/10s-zYQPIqlkNsUahgzDRqJGw0VAkn-R1/view?usp=sharing\n",
        "    id = '10s-zYQPIqlkNsUahgzDRqJGw0VAkn-R1'\n",
        "    downloaded18 = drive.CreateFile({'id':id}) \n",
        "    downloaded18.GetContentFile('stocktwits_SPY.csv')\n",
        "    df_st18 = pd.read_csv('stocktwits_SPY.csv')\n",
        "    return df_st18\n",
        "  elif comp=='T':\n",
        "    # T: https://drive.google.com/file/d/1rk3PsikhgrA7MxV28tUbzj7EOn9K5Ixu/view?usp=sharing\n",
        "    id = '1rk3PsikhgrA7MxV28tUbzj7EOn9K5Ixu'\n",
        "    downloaded19 = drive.CreateFile({'id':id}) \n",
        "    downloaded19.GetContentFile('stocktwits_T.csv')\n",
        "    df_st19 = pd.read_csv('stocktwits_T.csv')\n",
        "    return df_st19\n",
        "  elif comp=='TSLA':\n",
        "    # TSLA: https://drive.google.com/file/d/1on57uk2gd_CLsnj1dcRfuB_KsYydzEp2/view?usp=sharing\n",
        "    id = '1on57uk2gd_CLsnj1dcRfuB_KsYydzEp2'\n",
        "    downloaded20 = drive.CreateFile({'id':id}) \n",
        "    downloaded20.GetContentFile('stocktwits_TSLA.csv')\n",
        "    df_st20 = pd.read_csv('stocktwits_TSLA.csv')\n",
        "    return df_st20\n",
        "  elif comp=='UNH':\n",
        "    # UNH: https://drive.google.com/file/d/1zguMHb3pL2tCT4TYV8XJcP-dWTcq28mY/view?usp=sharing\n",
        "    id = '1zguMHb3pL2tCT4TYV8XJcP-dWTcq28mY'\n",
        "    downloaded21 = drive.CreateFile({'id':id}) \n",
        "    downloaded21.GetContentFile('stocktwits_UNH.csv')\n",
        "    df_st21 = pd.read_csv('stocktwits_UNH.csv')\n",
        "    return df_st21\n",
        "  elif comp=='V':\n",
        "    # V: https://drive.google.com/file/d/1qLI1Rsyf2ebZu53I8QaFuOQSeTyZShLg/view?usp=sharing\n",
        "    id = '1qLI1Rsyf2ebZu53I8QaFuOQSeTyZShLg'\n",
        "    downloaded22 = drive.CreateFile({'id':id}) \n",
        "    downloaded22.GetContentFile('stocktwits_V.csv')\n",
        "    df_st22 = pd.read_csv('stocktwits_V.csv')\n",
        "    return df_st22\n",
        "  elif comp=='VIX':\n",
        "    # VIX: https://drive.google.com/file/d/1SoIue0nfsn_GGMOroFg3tEp8re-v7PnJ/view?usp=sharing\n",
        "    id = '1SoIue0nfsn_GGMOroFg3tEp8re-v7PnJ'\n",
        "    downloaded23 = drive.CreateFile({'id':id}) \n",
        "    downloaded23.GetContentFile('stocktwits_VIX.csv')\n",
        "    df_st23 = pd.read_csv('stocktwits_VIX.csv')\n",
        "    return df_st23\n",
        "  elif comp=='VZ':\n",
        "    # VZ: https://drive.google.com/file/d/1ddISbB0qfDpM69senqEmmf6xbNWOpNUJ/view?usp=sharing\n",
        "    id = '1ddISbB0qfDpM69senqEmmf6xbNWOpNUJ'\n",
        "    downloaded24 = drive.CreateFile({'id':id}) \n",
        "    downloaded24.GetContentFile('stocktwits_VZ.csv')\n",
        "    df_st24 = pd.read_csv('stocktwits_VZ.csv')\n",
        "    return df_st24\n",
        "  elif comp=='WMT':\n",
        "    # WMT: https://drive.google.com/file/d/14Zdh1ZCj5RxZltXknG3Qisxhwzge5rkV/view?usp=sharing\n",
        "    id = '14Zdh1ZCj5RxZltXknG3Qisxhwzge5rkV'\n",
        "    downloaded25 = drive.CreateFile({'id':id}) \n",
        "    downloaded25.GetContentFile('stocktwits_WMT.csv')\n",
        "    df_st25 = pd.read_csv('stocktwits_WMT.csv')\n",
        "    return df_st25"
      ],
      "metadata": {
        "id": "GJGvz4xZ50CJ"
      },
      "execution_count": null,
      "outputs": []
    },
    {
      "cell_type": "markdown",
      "source": [
        "#Labeling process, Pre-processing, and Cleaning."
      ],
      "metadata": {
        "id": "F5efaso90cMk"
      }
    },
    {
      "cell_type": "markdown",
      "source": [
        "Under in the next two cells is the code for first (cell 1) binary labeling process, and second (cell 2) the percentage labeling process. Both are quite similar, but percentage has three labels (1,0,-1) and binary has two (1,0). Both processes also run pre-processing of the code and cleaning/formating. These processes are the same in both labeling techniques."
      ],
      "metadata": {
        "id": "66oL6ONJ0XNq"
      }
    },
    {
      "cell_type": "markdown",
      "source": [
        "We will first look at the Binary (Positive, Negative) method."
      ],
      "metadata": {
        "id": "IzhHzJMM09iU"
      }
    },
    {
      "cell_type": "code",
      "source": [
        "#Get the company data from the defintion above and saves it as df_st1\n",
        "df_st1 = get_compData('T')\n",
        "\n",
        "#This is the directory where i want to save the file. This will be used later for the saving of the data after labeling and preprocessing.\n",
        "PATH='/content/drive/My Drive/StockTwits Data Binary/'"
      ],
      "metadata": {
        "id": "xy7zJpjDVUUW"
      },
      "execution_count": 67,
      "outputs": []
    },
    {
      "cell_type": "markdown",
      "source": [
        "The next two cell is just for looking at the raw data for the company before we do anything. "
      ],
      "metadata": {
        "id": "DVNygnI0Vycr"
      }
    },
    {
      "cell_type": "code",
      "source": [
        "#Displays the head (5 first rows) of our chosen comapny data. \n",
        "df_st1.head()"
      ],
      "metadata": {
        "colab": {
          "base_uri": "https://localhost:8080/",
          "height": 206
        },
        "id": "h455YJsqVUz0",
        "outputId": "6e9664f2-cf66-406c-f0de-c05d13b7d98c"
      },
      "execution_count": 68,
      "outputs": [
        {
          "output_type": "execute_result",
          "data": {
            "text/plain": [
              "  symbol                                            message  \\\n",
              "0      T  $UBER Didn’t I say an offer is imminent!? @eel...   \n",
              "1      T  $T Weird$$ stock, we just need a close above 3...   \n",
              "2      T  $T waiting for this to go down so I can load u...   \n",
              "3      T  $T Pretty good behavior today. Ideally end of ...   \n",
              "4      T  $T Citi reiterates AT&amp;T headed into earnin...   \n",
              "\n",
              "               datetime     user  message_id  \n",
              "0  2020-07-21T20:32:35Z  2892577   229708771  \n",
              "1  2020-07-21T20:11:39Z  1194576   229699883  \n",
              "2  2020-07-21T19:12:10Z  3460289   229672486  \n",
              "3  2020-07-21T18:45:06Z  3393453   229660767  \n",
              "4  2020-07-21T18:34:05Z  3729123   229656088  "
            ],
            "text/html": [
              "\n",
              "  <div id=\"df-57c6ef09-d447-4cbe-b48f-95c9603f17d8\">\n",
              "    <div class=\"colab-df-container\">\n",
              "      <div>\n",
              "<style scoped>\n",
              "    .dataframe tbody tr th:only-of-type {\n",
              "        vertical-align: middle;\n",
              "    }\n",
              "\n",
              "    .dataframe tbody tr th {\n",
              "        vertical-align: top;\n",
              "    }\n",
              "\n",
              "    .dataframe thead th {\n",
              "        text-align: right;\n",
              "    }\n",
              "</style>\n",
              "<table border=\"1\" class=\"dataframe\">\n",
              "  <thead>\n",
              "    <tr style=\"text-align: right;\">\n",
              "      <th></th>\n",
              "      <th>symbol</th>\n",
              "      <th>message</th>\n",
              "      <th>datetime</th>\n",
              "      <th>user</th>\n",
              "      <th>message_id</th>\n",
              "    </tr>\n",
              "  </thead>\n",
              "  <tbody>\n",
              "    <tr>\n",
              "      <th>0</th>\n",
              "      <td>T</td>\n",
              "      <td>$UBER Didn’t I say an offer is imminent!? @eel...</td>\n",
              "      <td>2020-07-21T20:32:35Z</td>\n",
              "      <td>2892577</td>\n",
              "      <td>229708771</td>\n",
              "    </tr>\n",
              "    <tr>\n",
              "      <th>1</th>\n",
              "      <td>T</td>\n",
              "      <td>$T Weird$$ stock, we just need a close above 3...</td>\n",
              "      <td>2020-07-21T20:11:39Z</td>\n",
              "      <td>1194576</td>\n",
              "      <td>229699883</td>\n",
              "    </tr>\n",
              "    <tr>\n",
              "      <th>2</th>\n",
              "      <td>T</td>\n",
              "      <td>$T waiting for this to go down so I can load u...</td>\n",
              "      <td>2020-07-21T19:12:10Z</td>\n",
              "      <td>3460289</td>\n",
              "      <td>229672486</td>\n",
              "    </tr>\n",
              "    <tr>\n",
              "      <th>3</th>\n",
              "      <td>T</td>\n",
              "      <td>$T Pretty good behavior today. Ideally end of ...</td>\n",
              "      <td>2020-07-21T18:45:06Z</td>\n",
              "      <td>3393453</td>\n",
              "      <td>229660767</td>\n",
              "    </tr>\n",
              "    <tr>\n",
              "      <th>4</th>\n",
              "      <td>T</td>\n",
              "      <td>$T Citi reiterates AT&amp;amp;T headed into earnin...</td>\n",
              "      <td>2020-07-21T18:34:05Z</td>\n",
              "      <td>3729123</td>\n",
              "      <td>229656088</td>\n",
              "    </tr>\n",
              "  </tbody>\n",
              "</table>\n",
              "</div>\n",
              "      <button class=\"colab-df-convert\" onclick=\"convertToInteractive('df-57c6ef09-d447-4cbe-b48f-95c9603f17d8')\"\n",
              "              title=\"Convert this dataframe to an interactive table.\"\n",
              "              style=\"display:none;\">\n",
              "        \n",
              "  <svg xmlns=\"http://www.w3.org/2000/svg\" height=\"24px\"viewBox=\"0 0 24 24\"\n",
              "       width=\"24px\">\n",
              "    <path d=\"M0 0h24v24H0V0z\" fill=\"none\"/>\n",
              "    <path d=\"M18.56 5.44l.94 2.06.94-2.06 2.06-.94-2.06-.94-.94-2.06-.94 2.06-2.06.94zm-11 1L8.5 8.5l.94-2.06 2.06-.94-2.06-.94L8.5 2.5l-.94 2.06-2.06.94zm10 10l.94 2.06.94-2.06 2.06-.94-2.06-.94-.94-2.06-.94 2.06-2.06.94z\"/><path d=\"M17.41 7.96l-1.37-1.37c-.4-.4-.92-.59-1.43-.59-.52 0-1.04.2-1.43.59L10.3 9.45l-7.72 7.72c-.78.78-.78 2.05 0 2.83L4 21.41c.39.39.9.59 1.41.59.51 0 1.02-.2 1.41-.59l7.78-7.78 2.81-2.81c.8-.78.8-2.07 0-2.86zM5.41 20L4 18.59l7.72-7.72 1.47 1.35L5.41 20z\"/>\n",
              "  </svg>\n",
              "      </button>\n",
              "      \n",
              "  <style>\n",
              "    .colab-df-container {\n",
              "      display:flex;\n",
              "      flex-wrap:wrap;\n",
              "      gap: 12px;\n",
              "    }\n",
              "\n",
              "    .colab-df-convert {\n",
              "      background-color: #E8F0FE;\n",
              "      border: none;\n",
              "      border-radius: 50%;\n",
              "      cursor: pointer;\n",
              "      display: none;\n",
              "      fill: #1967D2;\n",
              "      height: 32px;\n",
              "      padding: 0 0 0 0;\n",
              "      width: 32px;\n",
              "    }\n",
              "\n",
              "    .colab-df-convert:hover {\n",
              "      background-color: #E2EBFA;\n",
              "      box-shadow: 0px 1px 2px rgba(60, 64, 67, 0.3), 0px 1px 3px 1px rgba(60, 64, 67, 0.15);\n",
              "      fill: #174EA6;\n",
              "    }\n",
              "\n",
              "    [theme=dark] .colab-df-convert {\n",
              "      background-color: #3B4455;\n",
              "      fill: #D2E3FC;\n",
              "    }\n",
              "\n",
              "    [theme=dark] .colab-df-convert:hover {\n",
              "      background-color: #434B5C;\n",
              "      box-shadow: 0px 1px 3px 1px rgba(0, 0, 0, 0.15);\n",
              "      filter: drop-shadow(0px 1px 2px rgba(0, 0, 0, 0.3));\n",
              "      fill: #FFFFFF;\n",
              "    }\n",
              "  </style>\n",
              "\n",
              "      <script>\n",
              "        const buttonEl =\n",
              "          document.querySelector('#df-57c6ef09-d447-4cbe-b48f-95c9603f17d8 button.colab-df-convert');\n",
              "        buttonEl.style.display =\n",
              "          google.colab.kernel.accessAllowed ? 'block' : 'none';\n",
              "\n",
              "        async function convertToInteractive(key) {\n",
              "          const element = document.querySelector('#df-57c6ef09-d447-4cbe-b48f-95c9603f17d8');\n",
              "          const dataTable =\n",
              "            await google.colab.kernel.invokeFunction('convertToInteractive',\n",
              "                                                     [key], {});\n",
              "          if (!dataTable) return;\n",
              "\n",
              "          const docLinkHtml = 'Like what you see? Visit the ' +\n",
              "            '<a target=\"_blank\" href=https://colab.research.google.com/notebooks/data_table.ipynb>data table notebook</a>'\n",
              "            + ' to learn more about interactive tables.';\n",
              "          element.innerHTML = '';\n",
              "          dataTable['output_type'] = 'display_data';\n",
              "          await google.colab.output.renderOutput(dataTable, element);\n",
              "          const docLink = document.createElement('div');\n",
              "          docLink.innerHTML = docLinkHtml;\n",
              "          element.appendChild(docLink);\n",
              "        }\n",
              "      </script>\n",
              "    </div>\n",
              "  </div>\n",
              "  "
            ]
          },
          "metadata": {},
          "execution_count": 68
        }
      ]
    },
    {
      "cell_type": "code",
      "source": [
        "#Displays the tail (5 last rows) of our chosen comapny data. \n",
        "df_st1.tail()"
      ],
      "metadata": {
        "colab": {
          "base_uri": "https://localhost:8080/",
          "height": 206
        },
        "id": "XQCtrljcVoGb",
        "outputId": "e10547c8-0cb5-4abf-811f-9b6e7d588a6a"
      },
      "execution_count": 69,
      "outputs": [
        {
          "output_type": "execute_result",
          "data": {
            "text/plain": [
              "      symbol                                            message  \\\n",
              "70311      T  @toddsullivan you think the $S network is that...   \n",
              "70312      T  am curious what $T would be like w/o $AAPL... ...   \n",
              "70313      T  @toddsullivan thinking of leaving $T; they won...   \n",
              "70314      T  speaking of #stuffthatdoesn&#39;twork, $T web ...   \n",
              "70315      T                $T on the morning dip huge volume..   \n",
              "\n",
              "                   datetime  user  message_id  \n",
              "70311  2009-10-27T18:20:40Z   409      713989  \n",
              "70312  2009-10-27T16:27:09Z   409      713291  \n",
              "70313  2009-10-27T16:25:18Z   409      713276  \n",
              "70314  2009-10-23T00:10:01Z    78      700068  \n",
              "70315  2009-10-20T13:28:37Z  1086      686674  "
            ],
            "text/html": [
              "\n",
              "  <div id=\"df-db77357c-6920-4be9-8b81-3ef8a29feaba\">\n",
              "    <div class=\"colab-df-container\">\n",
              "      <div>\n",
              "<style scoped>\n",
              "    .dataframe tbody tr th:only-of-type {\n",
              "        vertical-align: middle;\n",
              "    }\n",
              "\n",
              "    .dataframe tbody tr th {\n",
              "        vertical-align: top;\n",
              "    }\n",
              "\n",
              "    .dataframe thead th {\n",
              "        text-align: right;\n",
              "    }\n",
              "</style>\n",
              "<table border=\"1\" class=\"dataframe\">\n",
              "  <thead>\n",
              "    <tr style=\"text-align: right;\">\n",
              "      <th></th>\n",
              "      <th>symbol</th>\n",
              "      <th>message</th>\n",
              "      <th>datetime</th>\n",
              "      <th>user</th>\n",
              "      <th>message_id</th>\n",
              "    </tr>\n",
              "  </thead>\n",
              "  <tbody>\n",
              "    <tr>\n",
              "      <th>70311</th>\n",
              "      <td>T</td>\n",
              "      <td>@toddsullivan you think the $S network is that...</td>\n",
              "      <td>2009-10-27T18:20:40Z</td>\n",
              "      <td>409</td>\n",
              "      <td>713989</td>\n",
              "    </tr>\n",
              "    <tr>\n",
              "      <th>70312</th>\n",
              "      <td>T</td>\n",
              "      <td>am curious what $T would be like w/o $AAPL... ...</td>\n",
              "      <td>2009-10-27T16:27:09Z</td>\n",
              "      <td>409</td>\n",
              "      <td>713291</td>\n",
              "    </tr>\n",
              "    <tr>\n",
              "      <th>70313</th>\n",
              "      <td>T</td>\n",
              "      <td>@toddsullivan thinking of leaving $T; they won...</td>\n",
              "      <td>2009-10-27T16:25:18Z</td>\n",
              "      <td>409</td>\n",
              "      <td>713276</td>\n",
              "    </tr>\n",
              "    <tr>\n",
              "      <th>70314</th>\n",
              "      <td>T</td>\n",
              "      <td>speaking of #stuffthatdoesn&amp;#39;twork, $T web ...</td>\n",
              "      <td>2009-10-23T00:10:01Z</td>\n",
              "      <td>78</td>\n",
              "      <td>700068</td>\n",
              "    </tr>\n",
              "    <tr>\n",
              "      <th>70315</th>\n",
              "      <td>T</td>\n",
              "      <td>$T on the morning dip huge volume..</td>\n",
              "      <td>2009-10-20T13:28:37Z</td>\n",
              "      <td>1086</td>\n",
              "      <td>686674</td>\n",
              "    </tr>\n",
              "  </tbody>\n",
              "</table>\n",
              "</div>\n",
              "      <button class=\"colab-df-convert\" onclick=\"convertToInteractive('df-db77357c-6920-4be9-8b81-3ef8a29feaba')\"\n",
              "              title=\"Convert this dataframe to an interactive table.\"\n",
              "              style=\"display:none;\">\n",
              "        \n",
              "  <svg xmlns=\"http://www.w3.org/2000/svg\" height=\"24px\"viewBox=\"0 0 24 24\"\n",
              "       width=\"24px\">\n",
              "    <path d=\"M0 0h24v24H0V0z\" fill=\"none\"/>\n",
              "    <path d=\"M18.56 5.44l.94 2.06.94-2.06 2.06-.94-2.06-.94-.94-2.06-.94 2.06-2.06.94zm-11 1L8.5 8.5l.94-2.06 2.06-.94-2.06-.94L8.5 2.5l-.94 2.06-2.06.94zm10 10l.94 2.06.94-2.06 2.06-.94-2.06-.94-.94-2.06-.94 2.06-2.06.94z\"/><path d=\"M17.41 7.96l-1.37-1.37c-.4-.4-.92-.59-1.43-.59-.52 0-1.04.2-1.43.59L10.3 9.45l-7.72 7.72c-.78.78-.78 2.05 0 2.83L4 21.41c.39.39.9.59 1.41.59.51 0 1.02-.2 1.41-.59l7.78-7.78 2.81-2.81c.8-.78.8-2.07 0-2.86zM5.41 20L4 18.59l7.72-7.72 1.47 1.35L5.41 20z\"/>\n",
              "  </svg>\n",
              "      </button>\n",
              "      \n",
              "  <style>\n",
              "    .colab-df-container {\n",
              "      display:flex;\n",
              "      flex-wrap:wrap;\n",
              "      gap: 12px;\n",
              "    }\n",
              "\n",
              "    .colab-df-convert {\n",
              "      background-color: #E8F0FE;\n",
              "      border: none;\n",
              "      border-radius: 50%;\n",
              "      cursor: pointer;\n",
              "      display: none;\n",
              "      fill: #1967D2;\n",
              "      height: 32px;\n",
              "      padding: 0 0 0 0;\n",
              "      width: 32px;\n",
              "    }\n",
              "\n",
              "    .colab-df-convert:hover {\n",
              "      background-color: #E2EBFA;\n",
              "      box-shadow: 0px 1px 2px rgba(60, 64, 67, 0.3), 0px 1px 3px 1px rgba(60, 64, 67, 0.15);\n",
              "      fill: #174EA6;\n",
              "    }\n",
              "\n",
              "    [theme=dark] .colab-df-convert {\n",
              "      background-color: #3B4455;\n",
              "      fill: #D2E3FC;\n",
              "    }\n",
              "\n",
              "    [theme=dark] .colab-df-convert:hover {\n",
              "      background-color: #434B5C;\n",
              "      box-shadow: 0px 1px 3px 1px rgba(0, 0, 0, 0.15);\n",
              "      filter: drop-shadow(0px 1px 2px rgba(0, 0, 0, 0.3));\n",
              "      fill: #FFFFFF;\n",
              "    }\n",
              "  </style>\n",
              "\n",
              "      <script>\n",
              "        const buttonEl =\n",
              "          document.querySelector('#df-db77357c-6920-4be9-8b81-3ef8a29feaba button.colab-df-convert');\n",
              "        buttonEl.style.display =\n",
              "          google.colab.kernel.accessAllowed ? 'block' : 'none';\n",
              "\n",
              "        async function convertToInteractive(key) {\n",
              "          const element = document.querySelector('#df-db77357c-6920-4be9-8b81-3ef8a29feaba');\n",
              "          const dataTable =\n",
              "            await google.colab.kernel.invokeFunction('convertToInteractive',\n",
              "                                                     [key], {});\n",
              "          if (!dataTable) return;\n",
              "\n",
              "          const docLinkHtml = 'Like what you see? Visit the ' +\n",
              "            '<a target=\"_blank\" href=https://colab.research.google.com/notebooks/data_table.ipynb>data table notebook</a>'\n",
              "            + ' to learn more about interactive tables.';\n",
              "          element.innerHTML = '';\n",
              "          dataTable['output_type'] = 'display_data';\n",
              "          await google.colab.output.renderOutput(dataTable, element);\n",
              "          const docLink = document.createElement('div');\n",
              "          docLink.innerHTML = docLinkHtml;\n",
              "          element.appendChild(docLink);\n",
              "        }\n",
              "      </script>\n",
              "    </div>\n",
              "  </div>\n",
              "  "
            ]
          },
          "metadata": {},
          "execution_count": 69
        }
      ]
    },
    {
      "cell_type": "markdown",
      "source": [
        "The format that is in the raw data we gathered from google drive with StockTwits messages to a company is not the best one to work with. So we change this up by the code under. What we do is we change the type first, then split it up and add two new columns to the dataset. We will then have three columns \"datetime\", \"Date\", and \"Time\". We do this so we can easier work with the data, and when we later include Yahoo Fiance data that we will gather, we can easily compare and have the same format for both datasets. "
      ],
      "metadata": {
        "id": "6Uo4Mt2eWK8y"
      }
    },
    {
      "cell_type": "code",
      "source": [
        "#Change the type of datetime column to datetime64[ns]\n",
        "df_st1['datetime'] = df_st1['datetime'].astype('datetime64[ns]')\n",
        "\n",
        "#Creates a new column called Date, that for every datetime takes out the date\n",
        "df_st1['Date'] = [d.date() for d in df_st1['datetime']]\n",
        "\n",
        "#Creates a new column called Time, that for every datetime takes out the time\n",
        "df_st1['Time'] = [d.time() for d in df_st1['datetime']]"
      ],
      "metadata": {
        "id": "rcwYptO1WKNi"
      },
      "execution_count": 70,
      "outputs": []
    },
    {
      "cell_type": "markdown",
      "source": [
        "For some companies, we got an error while doing this method. That's because later we will run a loop to set a stock price for the days where there is none (eg. public holidays and weekends). For some of the data, an error occurred because there were two days left behind after running the code not getting the average price that it should. We wrote this code to drop the two latest days, and afterward, everything worked. \n",
        "\n",
        "Important to just run the cell under if company is either; AAPL, ADBE, BRK.A, BRK.B, GOOG, and GOOGL. Remove the two \"##\" before every line and run."
      ],
      "metadata": {
        "id": "ggx3GmNJW_PX"
      }
    },
    {
      "cell_type": "code",
      "source": [
        "##df_st1 = df_st1.drop(df_st1[df_st1['Date'] == df_st1['Date'][0]].index, inplace = False)\n",
        "##df_st1 = df_st1.reset_index(drop=True)\n",
        "##df_st1 = df_st1.drop(df_st1[df_st1['Date'] == df_st1['Date'][0]].index, inplace = False)\n",
        "##df_st1 = df_st1.reset_index(drop=True)"
      ],
      "metadata": {
        "id": "CMwZesc_W9Y8"
      },
      "execution_count": 71,
      "outputs": []
    },
    {
      "cell_type": "markdown",
      "source": [
        "We can now inspect the data again to see the extra columns and that everything looks like it should. "
      ],
      "metadata": {
        "id": "JqdcXH7XX8Ev"
      }
    },
    {
      "cell_type": "code",
      "source": [
        "#Displays the head (3 first rows) of our chosen company data. \n",
        "df_st1.head(3)"
      ],
      "metadata": {
        "colab": {
          "base_uri": "https://localhost:8080/",
          "height": 143
        },
        "id": "YShlkM3-X8Xq",
        "outputId": "8293e768-8eed-4065-e510-69766da35fb6"
      },
      "execution_count": 72,
      "outputs": [
        {
          "output_type": "execute_result",
          "data": {
            "text/plain": [
              "  symbol                                            message  \\\n",
              "0      T  $UBER Didn’t I say an offer is imminent!? @eel...   \n",
              "1      T  $T Weird$$ stock, we just need a close above 3...   \n",
              "2      T  $T waiting for this to go down so I can load u...   \n",
              "\n",
              "             datetime     user  message_id        Date      Time  \n",
              "0 2020-07-21 20:32:35  2892577   229708771  2020-07-21  20:32:35  \n",
              "1 2020-07-21 20:11:39  1194576   229699883  2020-07-21  20:11:39  \n",
              "2 2020-07-21 19:12:10  3460289   229672486  2020-07-21  19:12:10  "
            ],
            "text/html": [
              "\n",
              "  <div id=\"df-fcc2115c-7731-40c2-95c4-80b93e0d9f77\">\n",
              "    <div class=\"colab-df-container\">\n",
              "      <div>\n",
              "<style scoped>\n",
              "    .dataframe tbody tr th:only-of-type {\n",
              "        vertical-align: middle;\n",
              "    }\n",
              "\n",
              "    .dataframe tbody tr th {\n",
              "        vertical-align: top;\n",
              "    }\n",
              "\n",
              "    .dataframe thead th {\n",
              "        text-align: right;\n",
              "    }\n",
              "</style>\n",
              "<table border=\"1\" class=\"dataframe\">\n",
              "  <thead>\n",
              "    <tr style=\"text-align: right;\">\n",
              "      <th></th>\n",
              "      <th>symbol</th>\n",
              "      <th>message</th>\n",
              "      <th>datetime</th>\n",
              "      <th>user</th>\n",
              "      <th>message_id</th>\n",
              "      <th>Date</th>\n",
              "      <th>Time</th>\n",
              "    </tr>\n",
              "  </thead>\n",
              "  <tbody>\n",
              "    <tr>\n",
              "      <th>0</th>\n",
              "      <td>T</td>\n",
              "      <td>$UBER Didn’t I say an offer is imminent!? @eel...</td>\n",
              "      <td>2020-07-21 20:32:35</td>\n",
              "      <td>2892577</td>\n",
              "      <td>229708771</td>\n",
              "      <td>2020-07-21</td>\n",
              "      <td>20:32:35</td>\n",
              "    </tr>\n",
              "    <tr>\n",
              "      <th>1</th>\n",
              "      <td>T</td>\n",
              "      <td>$T Weird$$ stock, we just need a close above 3...</td>\n",
              "      <td>2020-07-21 20:11:39</td>\n",
              "      <td>1194576</td>\n",
              "      <td>229699883</td>\n",
              "      <td>2020-07-21</td>\n",
              "      <td>20:11:39</td>\n",
              "    </tr>\n",
              "    <tr>\n",
              "      <th>2</th>\n",
              "      <td>T</td>\n",
              "      <td>$T waiting for this to go down so I can load u...</td>\n",
              "      <td>2020-07-21 19:12:10</td>\n",
              "      <td>3460289</td>\n",
              "      <td>229672486</td>\n",
              "      <td>2020-07-21</td>\n",
              "      <td>19:12:10</td>\n",
              "    </tr>\n",
              "  </tbody>\n",
              "</table>\n",
              "</div>\n",
              "      <button class=\"colab-df-convert\" onclick=\"convertToInteractive('df-fcc2115c-7731-40c2-95c4-80b93e0d9f77')\"\n",
              "              title=\"Convert this dataframe to an interactive table.\"\n",
              "              style=\"display:none;\">\n",
              "        \n",
              "  <svg xmlns=\"http://www.w3.org/2000/svg\" height=\"24px\"viewBox=\"0 0 24 24\"\n",
              "       width=\"24px\">\n",
              "    <path d=\"M0 0h24v24H0V0z\" fill=\"none\"/>\n",
              "    <path d=\"M18.56 5.44l.94 2.06.94-2.06 2.06-.94-2.06-.94-.94-2.06-.94 2.06-2.06.94zm-11 1L8.5 8.5l.94-2.06 2.06-.94-2.06-.94L8.5 2.5l-.94 2.06-2.06.94zm10 10l.94 2.06.94-2.06 2.06-.94-2.06-.94-.94-2.06-.94 2.06-2.06.94z\"/><path d=\"M17.41 7.96l-1.37-1.37c-.4-.4-.92-.59-1.43-.59-.52 0-1.04.2-1.43.59L10.3 9.45l-7.72 7.72c-.78.78-.78 2.05 0 2.83L4 21.41c.39.39.9.59 1.41.59.51 0 1.02-.2 1.41-.59l7.78-7.78 2.81-2.81c.8-.78.8-2.07 0-2.86zM5.41 20L4 18.59l7.72-7.72 1.47 1.35L5.41 20z\"/>\n",
              "  </svg>\n",
              "      </button>\n",
              "      \n",
              "  <style>\n",
              "    .colab-df-container {\n",
              "      display:flex;\n",
              "      flex-wrap:wrap;\n",
              "      gap: 12px;\n",
              "    }\n",
              "\n",
              "    .colab-df-convert {\n",
              "      background-color: #E8F0FE;\n",
              "      border: none;\n",
              "      border-radius: 50%;\n",
              "      cursor: pointer;\n",
              "      display: none;\n",
              "      fill: #1967D2;\n",
              "      height: 32px;\n",
              "      padding: 0 0 0 0;\n",
              "      width: 32px;\n",
              "    }\n",
              "\n",
              "    .colab-df-convert:hover {\n",
              "      background-color: #E2EBFA;\n",
              "      box-shadow: 0px 1px 2px rgba(60, 64, 67, 0.3), 0px 1px 3px 1px rgba(60, 64, 67, 0.15);\n",
              "      fill: #174EA6;\n",
              "    }\n",
              "\n",
              "    [theme=dark] .colab-df-convert {\n",
              "      background-color: #3B4455;\n",
              "      fill: #D2E3FC;\n",
              "    }\n",
              "\n",
              "    [theme=dark] .colab-df-convert:hover {\n",
              "      background-color: #434B5C;\n",
              "      box-shadow: 0px 1px 3px 1px rgba(0, 0, 0, 0.15);\n",
              "      filter: drop-shadow(0px 1px 2px rgba(0, 0, 0, 0.3));\n",
              "      fill: #FFFFFF;\n",
              "    }\n",
              "  </style>\n",
              "\n",
              "      <script>\n",
              "        const buttonEl =\n",
              "          document.querySelector('#df-fcc2115c-7731-40c2-95c4-80b93e0d9f77 button.colab-df-convert');\n",
              "        buttonEl.style.display =\n",
              "          google.colab.kernel.accessAllowed ? 'block' : 'none';\n",
              "\n",
              "        async function convertToInteractive(key) {\n",
              "          const element = document.querySelector('#df-fcc2115c-7731-40c2-95c4-80b93e0d9f77');\n",
              "          const dataTable =\n",
              "            await google.colab.kernel.invokeFunction('convertToInteractive',\n",
              "                                                     [key], {});\n",
              "          if (!dataTable) return;\n",
              "\n",
              "          const docLinkHtml = 'Like what you see? Visit the ' +\n",
              "            '<a target=\"_blank\" href=https://colab.research.google.com/notebooks/data_table.ipynb>data table notebook</a>'\n",
              "            + ' to learn more about interactive tables.';\n",
              "          element.innerHTML = '';\n",
              "          dataTable['output_type'] = 'display_data';\n",
              "          await google.colab.output.renderOutput(dataTable, element);\n",
              "          const docLink = document.createElement('div');\n",
              "          docLink.innerHTML = docLinkHtml;\n",
              "          element.appendChild(docLink);\n",
              "        }\n",
              "      </script>\n",
              "    </div>\n",
              "  </div>\n",
              "  "
            ]
          },
          "metadata": {},
          "execution_count": 72
        }
      ]
    },
    {
      "cell_type": "markdown",
      "source": [
        "So the next lines of code are the code that we will use to get the start and end date for our dataset, so we can use this to get all Yahoo Finance data, and start the process of labeling our data. The code under consist of first getting the date, that is at the top and bottom of our dataset and then it will change is to the correct format that Yahoo Finance use, and add a day to end so we get the open price for the latest day."
      ],
      "metadata": {
        "id": "SDw4Y6h9YKDa"
      }
    },
    {
      "cell_type": "code",
      "source": [
        "#Takes the last row of our dataframe and string from \"Date\" column. 0 is the latest date, and -1 is the last one in the dataframe, e.g. the first date we have data from. \n",
        "start_dt = str(df_st1['Date'].iloc[-1])\n",
        "start_dt = str((datetime.strptime(start_dt, \"%Y-%m-%d\") + timedelta(days=-1)).strftime(\"%Y-%m-%d\"))\n",
        "\n",
        "#Change the start_dt to the correct format; %Y-%m-%d, and use the time delta to find out the difference from the last date and add one day, so we will get data from all days and not miss the first one. start_dt = str((datetime.strptime(start_dt, \"%Y-%m-%d\") + timedelta(days=-1)).strftime(\"%Y-%m-%d\"))\n",
        "\n",
        "end_dt = str(df_st1['Date'].iloc[0])\n",
        "end_dt =  str((datetime.strptime(end_dt, \"%Y-%m-%d\") + timedelta(days=1)).strftime(\"%Y-%m-%d\"))"
      ],
      "metadata": {
        "id": "y4CPccZdYKh2"
      },
      "execution_count": 73,
      "outputs": []
    },
    {
      "cell_type": "markdown",
      "source": [
        "Under we will get the stock symbol for the company that we work with so Yahoo Finance can use it to gather the correct data. We will also set the saving path called PATH and PATH2 to know where and what we will save the labeled, processed, and cleaned data files. Label 2.1 shows that the labeling process that was used is the same day technique and that Label 2.2 is the previous day technique. "
      ],
      "metadata": {
        "id": "ucH9JaYabC1U"
      }
    },
    {
      "cell_type": "code",
      "source": [
        "#Sets compny to be the value in the first row of the dataset in the symbol column.\n",
        "compny = df_st1['symbol'].iloc[0]\n",
        "\n",
        "#Sets the two path where we will save the files after labeling them. \n",
        "PATH2 = PATH+compny+'_binary_label2.2.csv'#PREVDAY\n",
        "PATH = PATH+compny+'_binary_label2.1.csv'#SAMEDAY"
      ],
      "metadata": {
        "id": "Qrbpq80cbCFf"
      },
      "execution_count": 74,
      "outputs": []
    },
    {
      "cell_type": "markdown",
      "source": [
        "Our dataset uses one format for the stock tickers, and yahoo finance uses another. So to fix this we have a short if statement code that checks if the company ticker is in the wrong format, e.g. \"BRK.A\", it will be changed to the correct one; BRK-A."
      ],
      "metadata": {
        "id": "mJF7B1pObD2G"
      }
    },
    {
      "cell_type": "code",
      "source": [
        "#If statement chaning the compny to the correct format so it will gather correctly later form  Yahoo Fianace.\n",
        "if compny =='BRK.A':\n",
        "  compny = 'BRK-A'\n",
        "elif compny =='BRK.B':\n",
        "  compny ='BRK-B'\n",
        "elif compny =='VIX':\n",
        "  compny = '^VIX'\n",
        "else:\n",
        "  pass"
      ],
      "metadata": {
        "id": "nPZO-ZS4bCIK"
      },
      "execution_count": 75,
      "outputs": []
    },
    {
      "cell_type": "markdown",
      "source": [
        "Now we have everything we need to run the code to gather our data from Yahoo Finance. To do this we use the yfiance library we imported earlier. This is a library made to gather financial data."
      ],
      "metadata": {
        "id": "Jm_ML5tfbELP"
      }
    },
    {
      "cell_type": "code",
      "source": [
        "#Sets yahoo_data to be the downloaded data with stock symbol = compny, we start at start_dt and end at end_dt.\n",
        "yahoo_data = yf.download(compny, start=start_dt, end=end_dt)\n",
        "\n",
        "#We need to reset the index so the date is not the indexing for our data set and that the date gets its column.\n",
        "yahoo_data.reset_index(level=0, inplace=True)\n",
        "\n",
        "#Displays the columns for data we just downloaded from Yahoo Finance. \n",
        "yahoo_data.columns"
      ],
      "metadata": {
        "colab": {
          "base_uri": "https://localhost:8080/"
        },
        "id": "Wy7sS9LYbCKo",
        "outputId": "3524789c-a828-4ccf-913c-db674fd40cc0"
      },
      "execution_count": 76,
      "outputs": [
        {
          "output_type": "stream",
          "name": "stdout",
          "text": [
            "\r[*********************100%***********************]  1 of 1 completed\n"
          ]
        },
        {
          "output_type": "execute_result",
          "data": {
            "text/plain": [
              "Index(['Date', 'Open', 'High', 'Low', 'Close', 'Adj Close', 'Volume'], dtype='object')"
            ]
          },
          "metadata": {},
          "execution_count": 76
        }
      ]
    },
    {
      "cell_type": "markdown",
      "source": [
        "Under we diaplays the head and the tail of the data to see better what kind of values it contains. "
      ],
      "metadata": {
        "id": "BzDMdN7abEfG"
      }
    },
    {
      "cell_type": "code",
      "source": [
        "#Displays the head (5 first rows) of our downloaded finance data. \n",
        "yahoo_data.head()"
      ],
      "metadata": {
        "colab": {
          "base_uri": "https://localhost:8080/",
          "height": 206
        },
        "id": "GEjF0ZP-bCNp",
        "outputId": "7ca7c60b-1834-485a-c36e-6d6ee6fea0c6"
      },
      "execution_count": 77,
      "outputs": [
        {
          "output_type": "execute_result",
          "data": {
            "text/plain": [
              "        Date       Open       High        Low      Close  Adj Close    Volume\n",
              "0 2009-10-19  19.501511  19.690332  19.410875  19.637463   9.550318  34293718\n",
              "1 2009-10-20  19.826284  19.826284  19.463745  19.629910   9.546641  45887192\n",
              "2 2009-10-21  19.743202  19.780968  19.501511  19.592146   9.528278  40552664\n",
              "3 2009-10-22  19.924471  20.120846  19.652569  19.712992   9.587046  57928442\n",
              "4 2009-10-23  19.750755  19.826284  19.290030  19.433535   9.451137  49091140"
            ],
            "text/html": [
              "\n",
              "  <div id=\"df-6229a58f-51d1-4081-866b-98bca92042df\">\n",
              "    <div class=\"colab-df-container\">\n",
              "      <div>\n",
              "<style scoped>\n",
              "    .dataframe tbody tr th:only-of-type {\n",
              "        vertical-align: middle;\n",
              "    }\n",
              "\n",
              "    .dataframe tbody tr th {\n",
              "        vertical-align: top;\n",
              "    }\n",
              "\n",
              "    .dataframe thead th {\n",
              "        text-align: right;\n",
              "    }\n",
              "</style>\n",
              "<table border=\"1\" class=\"dataframe\">\n",
              "  <thead>\n",
              "    <tr style=\"text-align: right;\">\n",
              "      <th></th>\n",
              "      <th>Date</th>\n",
              "      <th>Open</th>\n",
              "      <th>High</th>\n",
              "      <th>Low</th>\n",
              "      <th>Close</th>\n",
              "      <th>Adj Close</th>\n",
              "      <th>Volume</th>\n",
              "    </tr>\n",
              "  </thead>\n",
              "  <tbody>\n",
              "    <tr>\n",
              "      <th>0</th>\n",
              "      <td>2009-10-19</td>\n",
              "      <td>19.501511</td>\n",
              "      <td>19.690332</td>\n",
              "      <td>19.410875</td>\n",
              "      <td>19.637463</td>\n",
              "      <td>9.550318</td>\n",
              "      <td>34293718</td>\n",
              "    </tr>\n",
              "    <tr>\n",
              "      <th>1</th>\n",
              "      <td>2009-10-20</td>\n",
              "      <td>19.826284</td>\n",
              "      <td>19.826284</td>\n",
              "      <td>19.463745</td>\n",
              "      <td>19.629910</td>\n",
              "      <td>9.546641</td>\n",
              "      <td>45887192</td>\n",
              "    </tr>\n",
              "    <tr>\n",
              "      <th>2</th>\n",
              "      <td>2009-10-21</td>\n",
              "      <td>19.743202</td>\n",
              "      <td>19.780968</td>\n",
              "      <td>19.501511</td>\n",
              "      <td>19.592146</td>\n",
              "      <td>9.528278</td>\n",
              "      <td>40552664</td>\n",
              "    </tr>\n",
              "    <tr>\n",
              "      <th>3</th>\n",
              "      <td>2009-10-22</td>\n",
              "      <td>19.924471</td>\n",
              "      <td>20.120846</td>\n",
              "      <td>19.652569</td>\n",
              "      <td>19.712992</td>\n",
              "      <td>9.587046</td>\n",
              "      <td>57928442</td>\n",
              "    </tr>\n",
              "    <tr>\n",
              "      <th>4</th>\n",
              "      <td>2009-10-23</td>\n",
              "      <td>19.750755</td>\n",
              "      <td>19.826284</td>\n",
              "      <td>19.290030</td>\n",
              "      <td>19.433535</td>\n",
              "      <td>9.451137</td>\n",
              "      <td>49091140</td>\n",
              "    </tr>\n",
              "  </tbody>\n",
              "</table>\n",
              "</div>\n",
              "      <button class=\"colab-df-convert\" onclick=\"convertToInteractive('df-6229a58f-51d1-4081-866b-98bca92042df')\"\n",
              "              title=\"Convert this dataframe to an interactive table.\"\n",
              "              style=\"display:none;\">\n",
              "        \n",
              "  <svg xmlns=\"http://www.w3.org/2000/svg\" height=\"24px\"viewBox=\"0 0 24 24\"\n",
              "       width=\"24px\">\n",
              "    <path d=\"M0 0h24v24H0V0z\" fill=\"none\"/>\n",
              "    <path d=\"M18.56 5.44l.94 2.06.94-2.06 2.06-.94-2.06-.94-.94-2.06-.94 2.06-2.06.94zm-11 1L8.5 8.5l.94-2.06 2.06-.94-2.06-.94L8.5 2.5l-.94 2.06-2.06.94zm10 10l.94 2.06.94-2.06 2.06-.94-2.06-.94-.94-2.06-.94 2.06-2.06.94z\"/><path d=\"M17.41 7.96l-1.37-1.37c-.4-.4-.92-.59-1.43-.59-.52 0-1.04.2-1.43.59L10.3 9.45l-7.72 7.72c-.78.78-.78 2.05 0 2.83L4 21.41c.39.39.9.59 1.41.59.51 0 1.02-.2 1.41-.59l7.78-7.78 2.81-2.81c.8-.78.8-2.07 0-2.86zM5.41 20L4 18.59l7.72-7.72 1.47 1.35L5.41 20z\"/>\n",
              "  </svg>\n",
              "      </button>\n",
              "      \n",
              "  <style>\n",
              "    .colab-df-container {\n",
              "      display:flex;\n",
              "      flex-wrap:wrap;\n",
              "      gap: 12px;\n",
              "    }\n",
              "\n",
              "    .colab-df-convert {\n",
              "      background-color: #E8F0FE;\n",
              "      border: none;\n",
              "      border-radius: 50%;\n",
              "      cursor: pointer;\n",
              "      display: none;\n",
              "      fill: #1967D2;\n",
              "      height: 32px;\n",
              "      padding: 0 0 0 0;\n",
              "      width: 32px;\n",
              "    }\n",
              "\n",
              "    .colab-df-convert:hover {\n",
              "      background-color: #E2EBFA;\n",
              "      box-shadow: 0px 1px 2px rgba(60, 64, 67, 0.3), 0px 1px 3px 1px rgba(60, 64, 67, 0.15);\n",
              "      fill: #174EA6;\n",
              "    }\n",
              "\n",
              "    [theme=dark] .colab-df-convert {\n",
              "      background-color: #3B4455;\n",
              "      fill: #D2E3FC;\n",
              "    }\n",
              "\n",
              "    [theme=dark] .colab-df-convert:hover {\n",
              "      background-color: #434B5C;\n",
              "      box-shadow: 0px 1px 3px 1px rgba(0, 0, 0, 0.15);\n",
              "      filter: drop-shadow(0px 1px 2px rgba(0, 0, 0, 0.3));\n",
              "      fill: #FFFFFF;\n",
              "    }\n",
              "  </style>\n",
              "\n",
              "      <script>\n",
              "        const buttonEl =\n",
              "          document.querySelector('#df-6229a58f-51d1-4081-866b-98bca92042df button.colab-df-convert');\n",
              "        buttonEl.style.display =\n",
              "          google.colab.kernel.accessAllowed ? 'block' : 'none';\n",
              "\n",
              "        async function convertToInteractive(key) {\n",
              "          const element = document.querySelector('#df-6229a58f-51d1-4081-866b-98bca92042df');\n",
              "          const dataTable =\n",
              "            await google.colab.kernel.invokeFunction('convertToInteractive',\n",
              "                                                     [key], {});\n",
              "          if (!dataTable) return;\n",
              "\n",
              "          const docLinkHtml = 'Like what you see? Visit the ' +\n",
              "            '<a target=\"_blank\" href=https://colab.research.google.com/notebooks/data_table.ipynb>data table notebook</a>'\n",
              "            + ' to learn more about interactive tables.';\n",
              "          element.innerHTML = '';\n",
              "          dataTable['output_type'] = 'display_data';\n",
              "          await google.colab.output.renderOutput(dataTable, element);\n",
              "          const docLink = document.createElement('div');\n",
              "          docLink.innerHTML = docLinkHtml;\n",
              "          element.appendChild(docLink);\n",
              "        }\n",
              "      </script>\n",
              "    </div>\n",
              "  </div>\n",
              "  "
            ]
          },
          "metadata": {},
          "execution_count": 77
        }
      ]
    },
    {
      "cell_type": "code",
      "source": [
        "#Displays the tail (5 last rows) of our downloaded finance data. \n",
        "yahoo_data.tail()"
      ],
      "metadata": {
        "colab": {
          "base_uri": "https://localhost:8080/",
          "height": 206
        },
        "id": "YG7D5ko2bCQR",
        "outputId": "83eeee00-b99c-4cc1-eedd-60b2e02eaa19"
      },
      "execution_count": 78,
      "outputs": [
        {
          "output_type": "execute_result",
          "data": {
            "text/plain": [
              "           Date       Open       High        Low      Close  Adj Close  \\\n",
              "2702 2020-07-15  22.711479  22.756798  22.545317  22.666162  20.012671   \n",
              "2703 2020-07-16  22.635952  23.036255  22.598186  22.953173  20.266079   \n",
              "2704 2020-07-17  23.021149  23.058912  22.794561  22.847431  20.172720   \n",
              "2705 2020-07-20  22.794561  22.794561  22.507553  22.545317  19.905973   \n",
              "2706 2020-07-21  22.575529  22.975830  22.552870  22.847431  20.172720   \n",
              "\n",
              "        Volume  \n",
              "2702  40985612  \n",
              "2703  43674920  \n",
              "2704  30634712  \n",
              "2705  42896938  \n",
              "2706  45341572  "
            ],
            "text/html": [
              "\n",
              "  <div id=\"df-e2cb7295-e6f7-4432-a156-b73f87fdee19\">\n",
              "    <div class=\"colab-df-container\">\n",
              "      <div>\n",
              "<style scoped>\n",
              "    .dataframe tbody tr th:only-of-type {\n",
              "        vertical-align: middle;\n",
              "    }\n",
              "\n",
              "    .dataframe tbody tr th {\n",
              "        vertical-align: top;\n",
              "    }\n",
              "\n",
              "    .dataframe thead th {\n",
              "        text-align: right;\n",
              "    }\n",
              "</style>\n",
              "<table border=\"1\" class=\"dataframe\">\n",
              "  <thead>\n",
              "    <tr style=\"text-align: right;\">\n",
              "      <th></th>\n",
              "      <th>Date</th>\n",
              "      <th>Open</th>\n",
              "      <th>High</th>\n",
              "      <th>Low</th>\n",
              "      <th>Close</th>\n",
              "      <th>Adj Close</th>\n",
              "      <th>Volume</th>\n",
              "    </tr>\n",
              "  </thead>\n",
              "  <tbody>\n",
              "    <tr>\n",
              "      <th>2702</th>\n",
              "      <td>2020-07-15</td>\n",
              "      <td>22.711479</td>\n",
              "      <td>22.756798</td>\n",
              "      <td>22.545317</td>\n",
              "      <td>22.666162</td>\n",
              "      <td>20.012671</td>\n",
              "      <td>40985612</td>\n",
              "    </tr>\n",
              "    <tr>\n",
              "      <th>2703</th>\n",
              "      <td>2020-07-16</td>\n",
              "      <td>22.635952</td>\n",
              "      <td>23.036255</td>\n",
              "      <td>22.598186</td>\n",
              "      <td>22.953173</td>\n",
              "      <td>20.266079</td>\n",
              "      <td>43674920</td>\n",
              "    </tr>\n",
              "    <tr>\n",
              "      <th>2704</th>\n",
              "      <td>2020-07-17</td>\n",
              "      <td>23.021149</td>\n",
              "      <td>23.058912</td>\n",
              "      <td>22.794561</td>\n",
              "      <td>22.847431</td>\n",
              "      <td>20.172720</td>\n",
              "      <td>30634712</td>\n",
              "    </tr>\n",
              "    <tr>\n",
              "      <th>2705</th>\n",
              "      <td>2020-07-20</td>\n",
              "      <td>22.794561</td>\n",
              "      <td>22.794561</td>\n",
              "      <td>22.507553</td>\n",
              "      <td>22.545317</td>\n",
              "      <td>19.905973</td>\n",
              "      <td>42896938</td>\n",
              "    </tr>\n",
              "    <tr>\n",
              "      <th>2706</th>\n",
              "      <td>2020-07-21</td>\n",
              "      <td>22.575529</td>\n",
              "      <td>22.975830</td>\n",
              "      <td>22.552870</td>\n",
              "      <td>22.847431</td>\n",
              "      <td>20.172720</td>\n",
              "      <td>45341572</td>\n",
              "    </tr>\n",
              "  </tbody>\n",
              "</table>\n",
              "</div>\n",
              "      <button class=\"colab-df-convert\" onclick=\"convertToInteractive('df-e2cb7295-e6f7-4432-a156-b73f87fdee19')\"\n",
              "              title=\"Convert this dataframe to an interactive table.\"\n",
              "              style=\"display:none;\">\n",
              "        \n",
              "  <svg xmlns=\"http://www.w3.org/2000/svg\" height=\"24px\"viewBox=\"0 0 24 24\"\n",
              "       width=\"24px\">\n",
              "    <path d=\"M0 0h24v24H0V0z\" fill=\"none\"/>\n",
              "    <path d=\"M18.56 5.44l.94 2.06.94-2.06 2.06-.94-2.06-.94-.94-2.06-.94 2.06-2.06.94zm-11 1L8.5 8.5l.94-2.06 2.06-.94-2.06-.94L8.5 2.5l-.94 2.06-2.06.94zm10 10l.94 2.06.94-2.06 2.06-.94-2.06-.94-.94-2.06-.94 2.06-2.06.94z\"/><path d=\"M17.41 7.96l-1.37-1.37c-.4-.4-.92-.59-1.43-.59-.52 0-1.04.2-1.43.59L10.3 9.45l-7.72 7.72c-.78.78-.78 2.05 0 2.83L4 21.41c.39.39.9.59 1.41.59.51 0 1.02-.2 1.41-.59l7.78-7.78 2.81-2.81c.8-.78.8-2.07 0-2.86zM5.41 20L4 18.59l7.72-7.72 1.47 1.35L5.41 20z\"/>\n",
              "  </svg>\n",
              "      </button>\n",
              "      \n",
              "  <style>\n",
              "    .colab-df-container {\n",
              "      display:flex;\n",
              "      flex-wrap:wrap;\n",
              "      gap: 12px;\n",
              "    }\n",
              "\n",
              "    .colab-df-convert {\n",
              "      background-color: #E8F0FE;\n",
              "      border: none;\n",
              "      border-radius: 50%;\n",
              "      cursor: pointer;\n",
              "      display: none;\n",
              "      fill: #1967D2;\n",
              "      height: 32px;\n",
              "      padding: 0 0 0 0;\n",
              "      width: 32px;\n",
              "    }\n",
              "\n",
              "    .colab-df-convert:hover {\n",
              "      background-color: #E2EBFA;\n",
              "      box-shadow: 0px 1px 2px rgba(60, 64, 67, 0.3), 0px 1px 3px 1px rgba(60, 64, 67, 0.15);\n",
              "      fill: #174EA6;\n",
              "    }\n",
              "\n",
              "    [theme=dark] .colab-df-convert {\n",
              "      background-color: #3B4455;\n",
              "      fill: #D2E3FC;\n",
              "    }\n",
              "\n",
              "    [theme=dark] .colab-df-convert:hover {\n",
              "      background-color: #434B5C;\n",
              "      box-shadow: 0px 1px 3px 1px rgba(0, 0, 0, 0.15);\n",
              "      filter: drop-shadow(0px 1px 2px rgba(0, 0, 0, 0.3));\n",
              "      fill: #FFFFFF;\n",
              "    }\n",
              "  </style>\n",
              "\n",
              "      <script>\n",
              "        const buttonEl =\n",
              "          document.querySelector('#df-e2cb7295-e6f7-4432-a156-b73f87fdee19 button.colab-df-convert');\n",
              "        buttonEl.style.display =\n",
              "          google.colab.kernel.accessAllowed ? 'block' : 'none';\n",
              "\n",
              "        async function convertToInteractive(key) {\n",
              "          const element = document.querySelector('#df-e2cb7295-e6f7-4432-a156-b73f87fdee19');\n",
              "          const dataTable =\n",
              "            await google.colab.kernel.invokeFunction('convertToInteractive',\n",
              "                                                     [key], {});\n",
              "          if (!dataTable) return;\n",
              "\n",
              "          const docLinkHtml = 'Like what you see? Visit the ' +\n",
              "            '<a target=\"_blank\" href=https://colab.research.google.com/notebooks/data_table.ipynb>data table notebook</a>'\n",
              "            + ' to learn more about interactive tables.';\n",
              "          element.innerHTML = '';\n",
              "          dataTable['output_type'] = 'display_data';\n",
              "          await google.colab.output.renderOutput(dataTable, element);\n",
              "          const docLink = document.createElement('div');\n",
              "          docLink.innerHTML = docLinkHtml;\n",
              "          element.appendChild(docLink);\n",
              "        }\n",
              "      </script>\n",
              "    </div>\n",
              "  </div>\n",
              "  "
            ]
          },
          "metadata": {},
          "execution_count": 78
        }
      ]
    },
    {
      "cell_type": "markdown",
      "source": [
        "Under we make a dataframe called df_prices which is the data we just downloaded. We also change the format for Date column in df_prices to the same that we uses in df_st1. "
      ],
      "metadata": {
        "id": "A-RTI0AQbFG8"
      }
    },
    {
      "cell_type": "code",
      "source": [
        "#We set the variables start_dt and end_dt to start_date and end_date that we will use under.\n",
        "start_date = start_dt\n",
        "end_date = end_dt\n",
        "\n",
        "#Here we make the new dataframe called df_prices containing data we downloaded for the company.\n",
        "df_prices = pd.DataFrame(yahoo_data)\n",
        "\n",
        "#We change the format of the \"Date\" column for the dataset with newly downloaded finance data.\n",
        "df_prices['Date'] =  pd.to_datetime(df_prices['Date'], format='%Y-%m-%d')"
      ],
      "metadata": {
        "id": "nO6sUhKWbCSa"
      },
      "execution_count": 79,
      "outputs": []
    },
    {
      "cell_type": "code",
      "source": [
        "#Displays 5 sample rows form the dataframe df_prices\n",
        "df_prices"
      ],
      "metadata": {
        "colab": {
          "base_uri": "https://localhost:8080/",
          "height": 424
        },
        "id": "ZVj_xwx2bCUx",
        "outputId": "a9d2cba8-a346-4b4f-f565-f8c40efeb32b"
      },
      "execution_count": 80,
      "outputs": [
        {
          "output_type": "execute_result",
          "data": {
            "text/plain": [
              "           Date       Open       High        Low      Close  Adj Close  \\\n",
              "0    2009-10-19  19.501511  19.690332  19.410875  19.637463   9.550318   \n",
              "1    2009-10-20  19.826284  19.826284  19.463745  19.629910   9.546641   \n",
              "2    2009-10-21  19.743202  19.780968  19.501511  19.592146   9.528278   \n",
              "3    2009-10-22  19.924471  20.120846  19.652569  19.712992   9.587046   \n",
              "4    2009-10-23  19.750755  19.826284  19.290030  19.433535   9.451137   \n",
              "...         ...        ...        ...        ...        ...        ...   \n",
              "2702 2020-07-15  22.711479  22.756798  22.545317  22.666162  20.012671   \n",
              "2703 2020-07-16  22.635952  23.036255  22.598186  22.953173  20.266079   \n",
              "2704 2020-07-17  23.021149  23.058912  22.794561  22.847431  20.172720   \n",
              "2705 2020-07-20  22.794561  22.794561  22.507553  22.545317  19.905973   \n",
              "2706 2020-07-21  22.575529  22.975830  22.552870  22.847431  20.172720   \n",
              "\n",
              "        Volume  \n",
              "0     34293718  \n",
              "1     45887192  \n",
              "2     40552664  \n",
              "3     57928442  \n",
              "4     49091140  \n",
              "...        ...  \n",
              "2702  40985612  \n",
              "2703  43674920  \n",
              "2704  30634712  \n",
              "2705  42896938  \n",
              "2706  45341572  \n",
              "\n",
              "[2707 rows x 7 columns]"
            ],
            "text/html": [
              "\n",
              "  <div id=\"df-8904065a-1562-4d3b-9b12-dfd6fa9447f9\">\n",
              "    <div class=\"colab-df-container\">\n",
              "      <div>\n",
              "<style scoped>\n",
              "    .dataframe tbody tr th:only-of-type {\n",
              "        vertical-align: middle;\n",
              "    }\n",
              "\n",
              "    .dataframe tbody tr th {\n",
              "        vertical-align: top;\n",
              "    }\n",
              "\n",
              "    .dataframe thead th {\n",
              "        text-align: right;\n",
              "    }\n",
              "</style>\n",
              "<table border=\"1\" class=\"dataframe\">\n",
              "  <thead>\n",
              "    <tr style=\"text-align: right;\">\n",
              "      <th></th>\n",
              "      <th>Date</th>\n",
              "      <th>Open</th>\n",
              "      <th>High</th>\n",
              "      <th>Low</th>\n",
              "      <th>Close</th>\n",
              "      <th>Adj Close</th>\n",
              "      <th>Volume</th>\n",
              "    </tr>\n",
              "  </thead>\n",
              "  <tbody>\n",
              "    <tr>\n",
              "      <th>0</th>\n",
              "      <td>2009-10-19</td>\n",
              "      <td>19.501511</td>\n",
              "      <td>19.690332</td>\n",
              "      <td>19.410875</td>\n",
              "      <td>19.637463</td>\n",
              "      <td>9.550318</td>\n",
              "      <td>34293718</td>\n",
              "    </tr>\n",
              "    <tr>\n",
              "      <th>1</th>\n",
              "      <td>2009-10-20</td>\n",
              "      <td>19.826284</td>\n",
              "      <td>19.826284</td>\n",
              "      <td>19.463745</td>\n",
              "      <td>19.629910</td>\n",
              "      <td>9.546641</td>\n",
              "      <td>45887192</td>\n",
              "    </tr>\n",
              "    <tr>\n",
              "      <th>2</th>\n",
              "      <td>2009-10-21</td>\n",
              "      <td>19.743202</td>\n",
              "      <td>19.780968</td>\n",
              "      <td>19.501511</td>\n",
              "      <td>19.592146</td>\n",
              "      <td>9.528278</td>\n",
              "      <td>40552664</td>\n",
              "    </tr>\n",
              "    <tr>\n",
              "      <th>3</th>\n",
              "      <td>2009-10-22</td>\n",
              "      <td>19.924471</td>\n",
              "      <td>20.120846</td>\n",
              "      <td>19.652569</td>\n",
              "      <td>19.712992</td>\n",
              "      <td>9.587046</td>\n",
              "      <td>57928442</td>\n",
              "    </tr>\n",
              "    <tr>\n",
              "      <th>4</th>\n",
              "      <td>2009-10-23</td>\n",
              "      <td>19.750755</td>\n",
              "      <td>19.826284</td>\n",
              "      <td>19.290030</td>\n",
              "      <td>19.433535</td>\n",
              "      <td>9.451137</td>\n",
              "      <td>49091140</td>\n",
              "    </tr>\n",
              "    <tr>\n",
              "      <th>...</th>\n",
              "      <td>...</td>\n",
              "      <td>...</td>\n",
              "      <td>...</td>\n",
              "      <td>...</td>\n",
              "      <td>...</td>\n",
              "      <td>...</td>\n",
              "      <td>...</td>\n",
              "    </tr>\n",
              "    <tr>\n",
              "      <th>2702</th>\n",
              "      <td>2020-07-15</td>\n",
              "      <td>22.711479</td>\n",
              "      <td>22.756798</td>\n",
              "      <td>22.545317</td>\n",
              "      <td>22.666162</td>\n",
              "      <td>20.012671</td>\n",
              "      <td>40985612</td>\n",
              "    </tr>\n",
              "    <tr>\n",
              "      <th>2703</th>\n",
              "      <td>2020-07-16</td>\n",
              "      <td>22.635952</td>\n",
              "      <td>23.036255</td>\n",
              "      <td>22.598186</td>\n",
              "      <td>22.953173</td>\n",
              "      <td>20.266079</td>\n",
              "      <td>43674920</td>\n",
              "    </tr>\n",
              "    <tr>\n",
              "      <th>2704</th>\n",
              "      <td>2020-07-17</td>\n",
              "      <td>23.021149</td>\n",
              "      <td>23.058912</td>\n",
              "      <td>22.794561</td>\n",
              "      <td>22.847431</td>\n",
              "      <td>20.172720</td>\n",
              "      <td>30634712</td>\n",
              "    </tr>\n",
              "    <tr>\n",
              "      <th>2705</th>\n",
              "      <td>2020-07-20</td>\n",
              "      <td>22.794561</td>\n",
              "      <td>22.794561</td>\n",
              "      <td>22.507553</td>\n",
              "      <td>22.545317</td>\n",
              "      <td>19.905973</td>\n",
              "      <td>42896938</td>\n",
              "    </tr>\n",
              "    <tr>\n",
              "      <th>2706</th>\n",
              "      <td>2020-07-21</td>\n",
              "      <td>22.575529</td>\n",
              "      <td>22.975830</td>\n",
              "      <td>22.552870</td>\n",
              "      <td>22.847431</td>\n",
              "      <td>20.172720</td>\n",
              "      <td>45341572</td>\n",
              "    </tr>\n",
              "  </tbody>\n",
              "</table>\n",
              "<p>2707 rows × 7 columns</p>\n",
              "</div>\n",
              "      <button class=\"colab-df-convert\" onclick=\"convertToInteractive('df-8904065a-1562-4d3b-9b12-dfd6fa9447f9')\"\n",
              "              title=\"Convert this dataframe to an interactive table.\"\n",
              "              style=\"display:none;\">\n",
              "        \n",
              "  <svg xmlns=\"http://www.w3.org/2000/svg\" height=\"24px\"viewBox=\"0 0 24 24\"\n",
              "       width=\"24px\">\n",
              "    <path d=\"M0 0h24v24H0V0z\" fill=\"none\"/>\n",
              "    <path d=\"M18.56 5.44l.94 2.06.94-2.06 2.06-.94-2.06-.94-.94-2.06-.94 2.06-2.06.94zm-11 1L8.5 8.5l.94-2.06 2.06-.94-2.06-.94L8.5 2.5l-.94 2.06-2.06.94zm10 10l.94 2.06.94-2.06 2.06-.94-2.06-.94-.94-2.06-.94 2.06-2.06.94z\"/><path d=\"M17.41 7.96l-1.37-1.37c-.4-.4-.92-.59-1.43-.59-.52 0-1.04.2-1.43.59L10.3 9.45l-7.72 7.72c-.78.78-.78 2.05 0 2.83L4 21.41c.39.39.9.59 1.41.59.51 0 1.02-.2 1.41-.59l7.78-7.78 2.81-2.81c.8-.78.8-2.07 0-2.86zM5.41 20L4 18.59l7.72-7.72 1.47 1.35L5.41 20z\"/>\n",
              "  </svg>\n",
              "      </button>\n",
              "      \n",
              "  <style>\n",
              "    .colab-df-container {\n",
              "      display:flex;\n",
              "      flex-wrap:wrap;\n",
              "      gap: 12px;\n",
              "    }\n",
              "\n",
              "    .colab-df-convert {\n",
              "      background-color: #E8F0FE;\n",
              "      border: none;\n",
              "      border-radius: 50%;\n",
              "      cursor: pointer;\n",
              "      display: none;\n",
              "      fill: #1967D2;\n",
              "      height: 32px;\n",
              "      padding: 0 0 0 0;\n",
              "      width: 32px;\n",
              "    }\n",
              "\n",
              "    .colab-df-convert:hover {\n",
              "      background-color: #E2EBFA;\n",
              "      box-shadow: 0px 1px 2px rgba(60, 64, 67, 0.3), 0px 1px 3px 1px rgba(60, 64, 67, 0.15);\n",
              "      fill: #174EA6;\n",
              "    }\n",
              "\n",
              "    [theme=dark] .colab-df-convert {\n",
              "      background-color: #3B4455;\n",
              "      fill: #D2E3FC;\n",
              "    }\n",
              "\n",
              "    [theme=dark] .colab-df-convert:hover {\n",
              "      background-color: #434B5C;\n",
              "      box-shadow: 0px 1px 3px 1px rgba(0, 0, 0, 0.15);\n",
              "      filter: drop-shadow(0px 1px 2px rgba(0, 0, 0, 0.3));\n",
              "      fill: #FFFFFF;\n",
              "    }\n",
              "  </style>\n",
              "\n",
              "      <script>\n",
              "        const buttonEl =\n",
              "          document.querySelector('#df-8904065a-1562-4d3b-9b12-dfd6fa9447f9 button.colab-df-convert');\n",
              "        buttonEl.style.display =\n",
              "          google.colab.kernel.accessAllowed ? 'block' : 'none';\n",
              "\n",
              "        async function convertToInteractive(key) {\n",
              "          const element = document.querySelector('#df-8904065a-1562-4d3b-9b12-dfd6fa9447f9');\n",
              "          const dataTable =\n",
              "            await google.colab.kernel.invokeFunction('convertToInteractive',\n",
              "                                                     [key], {});\n",
              "          if (!dataTable) return;\n",
              "\n",
              "          const docLinkHtml = 'Like what you see? Visit the ' +\n",
              "            '<a target=\"_blank\" href=https://colab.research.google.com/notebooks/data_table.ipynb>data table notebook</a>'\n",
              "            + ' to learn more about interactive tables.';\n",
              "          element.innerHTML = '';\n",
              "          dataTable['output_type'] = 'display_data';\n",
              "          await google.colab.output.renderOutput(dataTable, element);\n",
              "          const docLink = document.createElement('div');\n",
              "          docLink.innerHTML = docLinkHtml;\n",
              "          element.appendChild(docLink);\n",
              "        }\n",
              "      </script>\n",
              "    </div>\n",
              "  </div>\n",
              "  "
            ]
          },
          "metadata": {},
          "execution_count": 80
        }
      ]
    },
    {
      "cell_type": "markdown",
      "source": [
        "Now we just want to check how many messages we have and how many days we have in total that we will label and pre-process."
      ],
      "metadata": {
        "id": "42dQp1MCbSz9"
      }
    },
    {
      "cell_type": "code",
      "source": [
        "#Tweet_dates adds all the dates for the company and stocktwits datafile to a list.\n",
        "tweet_dates = (df_st1['Date'].astype(str)).tolist()\n",
        "\n",
        "#Stock_dates adds all the dates from yahoo fiance dataframe to a list\n",
        "stock_dates = (df_prices['Date'].astype(str)).tolist()\n",
        "\n",
        "#Print how many we have of each. Tweet dates have many more because alot of messages comes in each date.\n",
        "print(len(tweet_dates))\n",
        "print(len(stock_dates))"
      ],
      "metadata": {
        "colab": {
          "base_uri": "https://localhost:8080/"
        },
        "id": "Wi_fdGs8bS0D",
        "outputId": "5e816194-5730-4df3-edc9-8a8c1ffa39e8"
      },
      "execution_count": 81,
      "outputs": [
        {
          "output_type": "stream",
          "name": "stdout",
          "text": [
            "70316\n",
            "2707\n"
          ]
        }
      ]
    },
    {
      "cell_type": "markdown",
      "source": [
        "In the code under we will sett all_days to equal the date range between start_date and end_date. We will then sort the df_prices dataframe. This way it will be the same as our dataframe. We then set the index of df_prices to be the \"Date\" column. Then we add all the days that we have data from to the df_prices column. SInce from Yahoo Finance it wont gather any data from example public holidays, so know we fill them with just NaN, since we have data from those days gatherd from StockTwits."
      ],
      "metadata": {
        "id": "SC0nuHlDmHsw"
      }
    },
    {
      "cell_type": "code",
      "source": [
        "all_days = pd.date_range(start=start_date, end=end_date, freq='D')\n",
        "df_prices = df_prices.sort_values(by=['Date'], ascending=[True])\n",
        "df_prices.set_index('Date', inplace=True)\n",
        "df_prices = df_prices.reindex(all_days).reset_index().rename(columns={\"index\":\"Date\"})"
      ],
      "metadata": {
        "id": "AdacqImMmHCW"
      },
      "execution_count": 82,
      "outputs": []
    },
    {
      "cell_type": "markdown",
      "source": [
        "Here we will calculate and clean up the data that we now have in df_prices. Alot is empty so we will fill them by calculating the mean of the value above and under. This is so we get to fill out df_prices and have data for every day where there has been sent messages."
      ],
      "metadata": {
        "id": "L6LfItl-mIQf"
      }
    },
    {
      "cell_type": "code",
      "source": [
        "#Remove last row with NaN\n",
        "if np.isnan(df_prices.iloc[-1][1]):\n",
        "  df_prices.drop(df_prices.tail(1).index,inplace=True)\n",
        "\n",
        "#A for loop that will fill missing values calculating mean\n",
        "#Will go over all rows in df_prices\n",
        "for i in range(len(df_prices)):\n",
        "  \n",
        "  #Continue if open price is NaN \n",
        "  if np.isnan(df_prices.iloc[i][1]): \n",
        "    \n",
        "    #Set counter to 0\n",
        "    counter = 1 \n",
        "    \n",
        "    #While the counter is not 0 it will run the loop\n",
        "    while counter != 0:\n",
        "      \n",
        "      #This will find the next value that is not NaN using counter. \n",
        "      if ~np.isnan(df_prices.iloc[i+counter][1]):\n",
        "\n",
        "        #For loop in range of 1,7\n",
        "        for j in range(1, 7):\n",
        "\n",
        "          #Will set new to be the mean of the two prices that it has found\n",
        "          new = (df_prices.iloc[i - 1][j] + df_prices.iloc[i + counter][j]) / 2\n",
        "\n",
        "          #Will set the df_prices row that had a NaN with the new mean price that we calculatied.\n",
        "          df_prices.at[i, df_prices.columns[j]] = new\n",
        "        break\n",
        "      counter += 1"
      ],
      "metadata": {
        "id": "yKSVqdammIQf"
      },
      "execution_count": 83,
      "outputs": []
    },
    {
      "cell_type": "markdown",
      "source": [
        "We then have all the data in df_prices to generate the binary labeling for our StockTwits data in df_st1. We have two methods that we will use. One that calculates the change using the open price of a day and the close price of that day. Then we also have a method that will look at the close price of a previous day and the close price of the current day. Just run the cell that you want to use to label the data. "
      ],
      "metadata": {
        "id": "y4bs0010mIVK"
      }
    },
    {
      "cell_type": "code",
      "source": [
        "#This will measure the label we need using the sameday technique\n",
        "# price_change = []\n",
        "# for i in range(len(df_prices)):\n",
        "#   if df_prices.iloc[i][4] > df_prices.iloc[i][1]:\n",
        "#     price_change.append(1)\n",
        "#   else:\n",
        "#     price_change.append(0)\n",
        "# df_prices['PriceChange'] = price_change"
      ],
      "metadata": {
        "id": "IOjaXxf9mIVK"
      },
      "execution_count": 84,
      "outputs": []
    },
    {
      "cell_type": "code",
      "source": [
        "#This will measure the label we need using the sameday technique \n",
        "price_change = []\n",
        "for i in range(len(df_prices)):\n",
        "  if df_prices.iloc[i-1][4] < df_prices.iloc[i][4]:\n",
        "    price_change.append(1)\n",
        "  else:\n",
        "    price_change.append(0)\n",
        "df_prices['PriceChange'] = price_change"
      ],
      "metadata": {
        "id": "JsvDV4NimWBv"
      },
      "execution_count": 86,
      "outputs": []
    },
    {
      "cell_type": "code",
      "source": [
        "#Displays the value counts of PriceChnage column in df_prices. \n",
        "df_prices['PriceChange'].value_counts()"
      ],
      "metadata": {
        "colab": {
          "base_uri": "https://localhost:8080/"
        },
        "id": "JtuTWSZDtcJN",
        "outputId": "e46c837a-3795-4e32-e619-70891d110d90"
      },
      "execution_count": 87,
      "outputs": [
        {
          "output_type": "execute_result",
          "data": {
            "text/plain": [
              "1    2089\n",
              "0    1840\n",
              "Name: PriceChange, dtype: int64"
            ]
          },
          "metadata": {},
          "execution_count": 87
        }
      ]
    },
    {
      "cell_type": "markdown",
      "source": [
        "Now we need to set the label for our dataframe which includes the StockTwits data. So to do this we wrote a function called get_polarity (date): that we can call back to to get for the date we give the label it has labeled the date. We then for loop every message in the df_st1 dataframe and add the label to the correct dates. We need to do this because there are many messages on the same day."
      ],
      "metadata": {
        "id": "yHMDCA08mIYc"
      }
    },
    {
      "cell_type": "code",
      "source": [
        "#Function to return tha label we have for the given date in df_prices. We return this as rslt_df\n",
        "def get_label (date):\n",
        "  rslt_df = df_prices[df_prices['Date'] == date] \n",
        "  return rslt_df['PriceChange'].values[0]\n",
        "\n",
        "#For loop using the def above to gather the label for the correct date at then lookup the row its on and add the label to df_st1 label column\n",
        "for i in range(len(df_st1)):\n",
        "  label = get_label(df_st1.iloc[i][5].strftime(\"%Y-%m-%d\"))\n",
        "  df_st1.at[i, 'label'] = label"
      ],
      "metadata": {
        "id": "nvjEhf_9mIYc"
      },
      "execution_count": 88,
      "outputs": []
    },
    {
      "cell_type": "markdown",
      "source": [
        "This just checks the df_prices that there is nothing that: isna should come out as False, notnull should come out at True, and isnull should come out as False. If it does that then everything is good and we can continue. "
      ],
      "metadata": {
        "id": "wXyq6ovHmIbI"
      }
    },
    {
      "cell_type": "code",
      "source": [
        "#This will print if the df_prices inclued any errors. \n",
        "print(df_prices.isna().values.any())\n",
        "print(df_prices.notnull().values.all())\n",
        "print(df_prices.isnull().values.any()) "
      ],
      "metadata": {
        "colab": {
          "base_uri": "https://localhost:8080/"
        },
        "id": "jnGjbyCgmIbJ",
        "outputId": "0651b1c8-24fa-4cbe-e4b8-88f76aac94e3"
      },
      "execution_count": 36,
      "outputs": [
        {
          "output_type": "stream",
          "name": "stdout",
          "text": [
            "False\n",
            "True\n",
            "False\n"
          ]
        }
      ]
    },
    {
      "cell_type": "markdown",
      "source": [
        "Now we just need to convert the labeling column to int, making our labeling process done. We need to run this code many times for each company and both methods so in total 50 times. We can also inspect our data to see that everything looks good before starting with the pre-processing of the text in messages column."
      ],
      "metadata": {
        "id": "o9xJkCCUmId0"
      }
    },
    {
      "cell_type": "code",
      "source": [
        "#Turning \"label\" column in df_st1 to first a float then a int.\n",
        "df_st1[\"label\"] = df_st1[\"label\"].astype(float).astype(int)"
      ],
      "metadata": {
        "id": "ZC8200HQmId0"
      },
      "execution_count": 89,
      "outputs": []
    },
    {
      "cell_type": "code",
      "source": [
        "df_st1.head(3)"
      ],
      "metadata": {
        "colab": {
          "base_uri": "https://localhost:8080/",
          "height": 143
        },
        "id": "1TIBKjXa3u2Q",
        "outputId": "ad6db104-20dd-4790-a10f-f37b7cb26164"
      },
      "execution_count": 90,
      "outputs": [
        {
          "output_type": "execute_result",
          "data": {
            "text/plain": [
              "  symbol                                            message  \\\n",
              "0      T  $UBER Didn’t I say an offer is imminent!? @eel...   \n",
              "1      T  $T Weird$$ stock, we just need a close above 3...   \n",
              "2      T  $T waiting for this to go down so I can load u...   \n",
              "\n",
              "             datetime     user  message_id        Date      Time  label  \n",
              "0 2020-07-21 20:32:35  2892577   229708771  2020-07-21  20:32:35      1  \n",
              "1 2020-07-21 20:11:39  1194576   229699883  2020-07-21  20:11:39      1  \n",
              "2 2020-07-21 19:12:10  3460289   229672486  2020-07-21  19:12:10      1  "
            ],
            "text/html": [
              "\n",
              "  <div id=\"df-6cda40f2-507e-481f-b2f4-04f545b01c79\">\n",
              "    <div class=\"colab-df-container\">\n",
              "      <div>\n",
              "<style scoped>\n",
              "    .dataframe tbody tr th:only-of-type {\n",
              "        vertical-align: middle;\n",
              "    }\n",
              "\n",
              "    .dataframe tbody tr th {\n",
              "        vertical-align: top;\n",
              "    }\n",
              "\n",
              "    .dataframe thead th {\n",
              "        text-align: right;\n",
              "    }\n",
              "</style>\n",
              "<table border=\"1\" class=\"dataframe\">\n",
              "  <thead>\n",
              "    <tr style=\"text-align: right;\">\n",
              "      <th></th>\n",
              "      <th>symbol</th>\n",
              "      <th>message</th>\n",
              "      <th>datetime</th>\n",
              "      <th>user</th>\n",
              "      <th>message_id</th>\n",
              "      <th>Date</th>\n",
              "      <th>Time</th>\n",
              "      <th>label</th>\n",
              "    </tr>\n",
              "  </thead>\n",
              "  <tbody>\n",
              "    <tr>\n",
              "      <th>0</th>\n",
              "      <td>T</td>\n",
              "      <td>$UBER Didn’t I say an offer is imminent!? @eel...</td>\n",
              "      <td>2020-07-21 20:32:35</td>\n",
              "      <td>2892577</td>\n",
              "      <td>229708771</td>\n",
              "      <td>2020-07-21</td>\n",
              "      <td>20:32:35</td>\n",
              "      <td>1</td>\n",
              "    </tr>\n",
              "    <tr>\n",
              "      <th>1</th>\n",
              "      <td>T</td>\n",
              "      <td>$T Weird$$ stock, we just need a close above 3...</td>\n",
              "      <td>2020-07-21 20:11:39</td>\n",
              "      <td>1194576</td>\n",
              "      <td>229699883</td>\n",
              "      <td>2020-07-21</td>\n",
              "      <td>20:11:39</td>\n",
              "      <td>1</td>\n",
              "    </tr>\n",
              "    <tr>\n",
              "      <th>2</th>\n",
              "      <td>T</td>\n",
              "      <td>$T waiting for this to go down so I can load u...</td>\n",
              "      <td>2020-07-21 19:12:10</td>\n",
              "      <td>3460289</td>\n",
              "      <td>229672486</td>\n",
              "      <td>2020-07-21</td>\n",
              "      <td>19:12:10</td>\n",
              "      <td>1</td>\n",
              "    </tr>\n",
              "  </tbody>\n",
              "</table>\n",
              "</div>\n",
              "      <button class=\"colab-df-convert\" onclick=\"convertToInteractive('df-6cda40f2-507e-481f-b2f4-04f545b01c79')\"\n",
              "              title=\"Convert this dataframe to an interactive table.\"\n",
              "              style=\"display:none;\">\n",
              "        \n",
              "  <svg xmlns=\"http://www.w3.org/2000/svg\" height=\"24px\"viewBox=\"0 0 24 24\"\n",
              "       width=\"24px\">\n",
              "    <path d=\"M0 0h24v24H0V0z\" fill=\"none\"/>\n",
              "    <path d=\"M18.56 5.44l.94 2.06.94-2.06 2.06-.94-2.06-.94-.94-2.06-.94 2.06-2.06.94zm-11 1L8.5 8.5l.94-2.06 2.06-.94-2.06-.94L8.5 2.5l-.94 2.06-2.06.94zm10 10l.94 2.06.94-2.06 2.06-.94-2.06-.94-.94-2.06-.94 2.06-2.06.94z\"/><path d=\"M17.41 7.96l-1.37-1.37c-.4-.4-.92-.59-1.43-.59-.52 0-1.04.2-1.43.59L10.3 9.45l-7.72 7.72c-.78.78-.78 2.05 0 2.83L4 21.41c.39.39.9.59 1.41.59.51 0 1.02-.2 1.41-.59l7.78-7.78 2.81-2.81c.8-.78.8-2.07 0-2.86zM5.41 20L4 18.59l7.72-7.72 1.47 1.35L5.41 20z\"/>\n",
              "  </svg>\n",
              "      </button>\n",
              "      \n",
              "  <style>\n",
              "    .colab-df-container {\n",
              "      display:flex;\n",
              "      flex-wrap:wrap;\n",
              "      gap: 12px;\n",
              "    }\n",
              "\n",
              "    .colab-df-convert {\n",
              "      background-color: #E8F0FE;\n",
              "      border: none;\n",
              "      border-radius: 50%;\n",
              "      cursor: pointer;\n",
              "      display: none;\n",
              "      fill: #1967D2;\n",
              "      height: 32px;\n",
              "      padding: 0 0 0 0;\n",
              "      width: 32px;\n",
              "    }\n",
              "\n",
              "    .colab-df-convert:hover {\n",
              "      background-color: #E2EBFA;\n",
              "      box-shadow: 0px 1px 2px rgba(60, 64, 67, 0.3), 0px 1px 3px 1px rgba(60, 64, 67, 0.15);\n",
              "      fill: #174EA6;\n",
              "    }\n",
              "\n",
              "    [theme=dark] .colab-df-convert {\n",
              "      background-color: #3B4455;\n",
              "      fill: #D2E3FC;\n",
              "    }\n",
              "\n",
              "    [theme=dark] .colab-df-convert:hover {\n",
              "      background-color: #434B5C;\n",
              "      box-shadow: 0px 1px 3px 1px rgba(0, 0, 0, 0.15);\n",
              "      filter: drop-shadow(0px 1px 2px rgba(0, 0, 0, 0.3));\n",
              "      fill: #FFFFFF;\n",
              "    }\n",
              "  </style>\n",
              "\n",
              "      <script>\n",
              "        const buttonEl =\n",
              "          document.querySelector('#df-6cda40f2-507e-481f-b2f4-04f545b01c79 button.colab-df-convert');\n",
              "        buttonEl.style.display =\n",
              "          google.colab.kernel.accessAllowed ? 'block' : 'none';\n",
              "\n",
              "        async function convertToInteractive(key) {\n",
              "          const element = document.querySelector('#df-6cda40f2-507e-481f-b2f4-04f545b01c79');\n",
              "          const dataTable =\n",
              "            await google.colab.kernel.invokeFunction('convertToInteractive',\n",
              "                                                     [key], {});\n",
              "          if (!dataTable) return;\n",
              "\n",
              "          const docLinkHtml = 'Like what you see? Visit the ' +\n",
              "            '<a target=\"_blank\" href=https://colab.research.google.com/notebooks/data_table.ipynb>data table notebook</a>'\n",
              "            + ' to learn more about interactive tables.';\n",
              "          element.innerHTML = '';\n",
              "          dataTable['output_type'] = 'display_data';\n",
              "          await google.colab.output.renderOutput(dataTable, element);\n",
              "          const docLink = document.createElement('div');\n",
              "          docLink.innerHTML = docLinkHtml;\n",
              "          element.appendChild(docLink);\n",
              "        }\n",
              "      </script>\n",
              "    </div>\n",
              "  </div>\n",
              "  "
            ]
          },
          "metadata": {},
          "execution_count": 90
        }
      ]
    },
    {
      "cell_type": "code",
      "source": [
        "df_st1.tail(3)"
      ],
      "metadata": {
        "colab": {
          "base_uri": "https://localhost:8080/",
          "height": 143
        },
        "id": "YAC5GfuO34Nb",
        "outputId": "74ba0022-c5a4-4bec-be07-f89b26a98d82"
      },
      "execution_count": 91,
      "outputs": [
        {
          "output_type": "execute_result",
          "data": {
            "text/plain": [
              "      symbol                                            message  \\\n",
              "70313      T  @toddsullivan thinking of leaving $T; they won...   \n",
              "70314      T  speaking of #stuffthatdoesn&#39;twork, $T web ...   \n",
              "70315      T                $T on the morning dip huge volume..   \n",
              "\n",
              "                 datetime  user  message_id        Date      Time  label  \n",
              "70313 2009-10-27 16:25:18   409      713276  2009-10-27  16:25:18      1  \n",
              "70314 2009-10-23 00:10:01    78      700068  2009-10-23  00:10:01      0  \n",
              "70315 2009-10-20 13:28:37  1086      686674  2009-10-20  13:28:37      0  "
            ],
            "text/html": [
              "\n",
              "  <div id=\"df-e3a0cc40-a628-46f5-bda7-ad538989065b\">\n",
              "    <div class=\"colab-df-container\">\n",
              "      <div>\n",
              "<style scoped>\n",
              "    .dataframe tbody tr th:only-of-type {\n",
              "        vertical-align: middle;\n",
              "    }\n",
              "\n",
              "    .dataframe tbody tr th {\n",
              "        vertical-align: top;\n",
              "    }\n",
              "\n",
              "    .dataframe thead th {\n",
              "        text-align: right;\n",
              "    }\n",
              "</style>\n",
              "<table border=\"1\" class=\"dataframe\">\n",
              "  <thead>\n",
              "    <tr style=\"text-align: right;\">\n",
              "      <th></th>\n",
              "      <th>symbol</th>\n",
              "      <th>message</th>\n",
              "      <th>datetime</th>\n",
              "      <th>user</th>\n",
              "      <th>message_id</th>\n",
              "      <th>Date</th>\n",
              "      <th>Time</th>\n",
              "      <th>label</th>\n",
              "    </tr>\n",
              "  </thead>\n",
              "  <tbody>\n",
              "    <tr>\n",
              "      <th>70313</th>\n",
              "      <td>T</td>\n",
              "      <td>@toddsullivan thinking of leaving $T; they won...</td>\n",
              "      <td>2009-10-27 16:25:18</td>\n",
              "      <td>409</td>\n",
              "      <td>713276</td>\n",
              "      <td>2009-10-27</td>\n",
              "      <td>16:25:18</td>\n",
              "      <td>1</td>\n",
              "    </tr>\n",
              "    <tr>\n",
              "      <th>70314</th>\n",
              "      <td>T</td>\n",
              "      <td>speaking of #stuffthatdoesn&amp;#39;twork, $T web ...</td>\n",
              "      <td>2009-10-23 00:10:01</td>\n",
              "      <td>78</td>\n",
              "      <td>700068</td>\n",
              "      <td>2009-10-23</td>\n",
              "      <td>00:10:01</td>\n",
              "      <td>0</td>\n",
              "    </tr>\n",
              "    <tr>\n",
              "      <th>70315</th>\n",
              "      <td>T</td>\n",
              "      <td>$T on the morning dip huge volume..</td>\n",
              "      <td>2009-10-20 13:28:37</td>\n",
              "      <td>1086</td>\n",
              "      <td>686674</td>\n",
              "      <td>2009-10-20</td>\n",
              "      <td>13:28:37</td>\n",
              "      <td>0</td>\n",
              "    </tr>\n",
              "  </tbody>\n",
              "</table>\n",
              "</div>\n",
              "      <button class=\"colab-df-convert\" onclick=\"convertToInteractive('df-e3a0cc40-a628-46f5-bda7-ad538989065b')\"\n",
              "              title=\"Convert this dataframe to an interactive table.\"\n",
              "              style=\"display:none;\">\n",
              "        \n",
              "  <svg xmlns=\"http://www.w3.org/2000/svg\" height=\"24px\"viewBox=\"0 0 24 24\"\n",
              "       width=\"24px\">\n",
              "    <path d=\"M0 0h24v24H0V0z\" fill=\"none\"/>\n",
              "    <path d=\"M18.56 5.44l.94 2.06.94-2.06 2.06-.94-2.06-.94-.94-2.06-.94 2.06-2.06.94zm-11 1L8.5 8.5l.94-2.06 2.06-.94-2.06-.94L8.5 2.5l-.94 2.06-2.06.94zm10 10l.94 2.06.94-2.06 2.06-.94-2.06-.94-.94-2.06-.94 2.06-2.06.94z\"/><path d=\"M17.41 7.96l-1.37-1.37c-.4-.4-.92-.59-1.43-.59-.52 0-1.04.2-1.43.59L10.3 9.45l-7.72 7.72c-.78.78-.78 2.05 0 2.83L4 21.41c.39.39.9.59 1.41.59.51 0 1.02-.2 1.41-.59l7.78-7.78 2.81-2.81c.8-.78.8-2.07 0-2.86zM5.41 20L4 18.59l7.72-7.72 1.47 1.35L5.41 20z\"/>\n",
              "  </svg>\n",
              "      </button>\n",
              "      \n",
              "  <style>\n",
              "    .colab-df-container {\n",
              "      display:flex;\n",
              "      flex-wrap:wrap;\n",
              "      gap: 12px;\n",
              "    }\n",
              "\n",
              "    .colab-df-convert {\n",
              "      background-color: #E8F0FE;\n",
              "      border: none;\n",
              "      border-radius: 50%;\n",
              "      cursor: pointer;\n",
              "      display: none;\n",
              "      fill: #1967D2;\n",
              "      height: 32px;\n",
              "      padding: 0 0 0 0;\n",
              "      width: 32px;\n",
              "    }\n",
              "\n",
              "    .colab-df-convert:hover {\n",
              "      background-color: #E2EBFA;\n",
              "      box-shadow: 0px 1px 2px rgba(60, 64, 67, 0.3), 0px 1px 3px 1px rgba(60, 64, 67, 0.15);\n",
              "      fill: #174EA6;\n",
              "    }\n",
              "\n",
              "    [theme=dark] .colab-df-convert {\n",
              "      background-color: #3B4455;\n",
              "      fill: #D2E3FC;\n",
              "    }\n",
              "\n",
              "    [theme=dark] .colab-df-convert:hover {\n",
              "      background-color: #434B5C;\n",
              "      box-shadow: 0px 1px 3px 1px rgba(0, 0, 0, 0.15);\n",
              "      filter: drop-shadow(0px 1px 2px rgba(0, 0, 0, 0.3));\n",
              "      fill: #FFFFFF;\n",
              "    }\n",
              "  </style>\n",
              "\n",
              "      <script>\n",
              "        const buttonEl =\n",
              "          document.querySelector('#df-e3a0cc40-a628-46f5-bda7-ad538989065b button.colab-df-convert');\n",
              "        buttonEl.style.display =\n",
              "          google.colab.kernel.accessAllowed ? 'block' : 'none';\n",
              "\n",
              "        async function convertToInteractive(key) {\n",
              "          const element = document.querySelector('#df-e3a0cc40-a628-46f5-bda7-ad538989065b');\n",
              "          const dataTable =\n",
              "            await google.colab.kernel.invokeFunction('convertToInteractive',\n",
              "                                                     [key], {});\n",
              "          if (!dataTable) return;\n",
              "\n",
              "          const docLinkHtml = 'Like what you see? Visit the ' +\n",
              "            '<a target=\"_blank\" href=https://colab.research.google.com/notebooks/data_table.ipynb>data table notebook</a>'\n",
              "            + ' to learn more about interactive tables.';\n",
              "          element.innerHTML = '';\n",
              "          dataTable['output_type'] = 'display_data';\n",
              "          await google.colab.output.renderOutput(dataTable, element);\n",
              "          const docLink = document.createElement('div');\n",
              "          docLink.innerHTML = docLinkHtml;\n",
              "          element.appendChild(docLink);\n",
              "        }\n",
              "      </script>\n",
              "    </div>\n",
              "  </div>\n",
              "  "
            ]
          },
          "metadata": {},
          "execution_count": 91
        }
      ]
    },
    {
      "cell_type": "code",
      "source": [
        "df_st1.sample(5)"
      ],
      "metadata": {
        "colab": {
          "base_uri": "https://localhost:8080/",
          "height": 206
        },
        "id": "i4PNq4fF37WF",
        "outputId": "3ed04345-f68c-42c2-f4c2-3fd35da6bf7f"
      },
      "execution_count": 92,
      "outputs": [
        {
          "output_type": "execute_result",
          "data": {
            "text/plain": [
              "      symbol                                            message  \\\n",
              "20239      T  Taiwan Semiconductor Mfg. announces annual div...   \n",
              "50413      T  $T https://www.nytimes.com/2017/03/01/technolo...   \n",
              "37038      T                 $HUSA $SWN $HTZ $T $CRON $AMD $FIT   \n",
              "33288      T                          $T what gives this is up😂   \n",
              "45659      T  $T just needs merger approval but US govt not ...   \n",
              "\n",
              "                 datetime     user  message_id        Date      Time  label  \n",
              "20239 2019-06-13 21:44:51   284225   167430973  2019-06-13  21:44:51      1  \n",
              "50413 2017-03-02 02:29:27   458426    75970576  2017-03-02  02:29:27      1  \n",
              "37038 2018-07-26 05:23:32  1533778   131445971  2018-07-26  05:23:32      1  \n",
              "33288 2018-09-10 13:39:20  1107807   136688444  2018-09-10  13:39:20      1  \n",
              "45659 2017-11-01 18:02:49   584870    99787385  2017-11-01  18:02:49      0  "
            ],
            "text/html": [
              "\n",
              "  <div id=\"df-8378144d-2429-4a62-b21d-8dee179be58a\">\n",
              "    <div class=\"colab-df-container\">\n",
              "      <div>\n",
              "<style scoped>\n",
              "    .dataframe tbody tr th:only-of-type {\n",
              "        vertical-align: middle;\n",
              "    }\n",
              "\n",
              "    .dataframe tbody tr th {\n",
              "        vertical-align: top;\n",
              "    }\n",
              "\n",
              "    .dataframe thead th {\n",
              "        text-align: right;\n",
              "    }\n",
              "</style>\n",
              "<table border=\"1\" class=\"dataframe\">\n",
              "  <thead>\n",
              "    <tr style=\"text-align: right;\">\n",
              "      <th></th>\n",
              "      <th>symbol</th>\n",
              "      <th>message</th>\n",
              "      <th>datetime</th>\n",
              "      <th>user</th>\n",
              "      <th>message_id</th>\n",
              "      <th>Date</th>\n",
              "      <th>Time</th>\n",
              "      <th>label</th>\n",
              "    </tr>\n",
              "  </thead>\n",
              "  <tbody>\n",
              "    <tr>\n",
              "      <th>20239</th>\n",
              "      <td>T</td>\n",
              "      <td>Taiwan Semiconductor Mfg. announces annual div...</td>\n",
              "      <td>2019-06-13 21:44:51</td>\n",
              "      <td>284225</td>\n",
              "      <td>167430973</td>\n",
              "      <td>2019-06-13</td>\n",
              "      <td>21:44:51</td>\n",
              "      <td>1</td>\n",
              "    </tr>\n",
              "    <tr>\n",
              "      <th>50413</th>\n",
              "      <td>T</td>\n",
              "      <td>$T https://www.nytimes.com/2017/03/01/technolo...</td>\n",
              "      <td>2017-03-02 02:29:27</td>\n",
              "      <td>458426</td>\n",
              "      <td>75970576</td>\n",
              "      <td>2017-03-02</td>\n",
              "      <td>02:29:27</td>\n",
              "      <td>1</td>\n",
              "    </tr>\n",
              "    <tr>\n",
              "      <th>37038</th>\n",
              "      <td>T</td>\n",
              "      <td>$HUSA $SWN $HTZ $T $CRON $AMD $FIT</td>\n",
              "      <td>2018-07-26 05:23:32</td>\n",
              "      <td>1533778</td>\n",
              "      <td>131445971</td>\n",
              "      <td>2018-07-26</td>\n",
              "      <td>05:23:32</td>\n",
              "      <td>1</td>\n",
              "    </tr>\n",
              "    <tr>\n",
              "      <th>33288</th>\n",
              "      <td>T</td>\n",
              "      <td>$T what gives this is up😂</td>\n",
              "      <td>2018-09-10 13:39:20</td>\n",
              "      <td>1107807</td>\n",
              "      <td>136688444</td>\n",
              "      <td>2018-09-10</td>\n",
              "      <td>13:39:20</td>\n",
              "      <td>1</td>\n",
              "    </tr>\n",
              "    <tr>\n",
              "      <th>45659</th>\n",
              "      <td>T</td>\n",
              "      <td>$T just needs merger approval but US govt not ...</td>\n",
              "      <td>2017-11-01 18:02:49</td>\n",
              "      <td>584870</td>\n",
              "      <td>99787385</td>\n",
              "      <td>2017-11-01</td>\n",
              "      <td>18:02:49</td>\n",
              "      <td>0</td>\n",
              "    </tr>\n",
              "  </tbody>\n",
              "</table>\n",
              "</div>\n",
              "      <button class=\"colab-df-convert\" onclick=\"convertToInteractive('df-8378144d-2429-4a62-b21d-8dee179be58a')\"\n",
              "              title=\"Convert this dataframe to an interactive table.\"\n",
              "              style=\"display:none;\">\n",
              "        \n",
              "  <svg xmlns=\"http://www.w3.org/2000/svg\" height=\"24px\"viewBox=\"0 0 24 24\"\n",
              "       width=\"24px\">\n",
              "    <path d=\"M0 0h24v24H0V0z\" fill=\"none\"/>\n",
              "    <path d=\"M18.56 5.44l.94 2.06.94-2.06 2.06-.94-2.06-.94-.94-2.06-.94 2.06-2.06.94zm-11 1L8.5 8.5l.94-2.06 2.06-.94-2.06-.94L8.5 2.5l-.94 2.06-2.06.94zm10 10l.94 2.06.94-2.06 2.06-.94-2.06-.94-.94-2.06-.94 2.06-2.06.94z\"/><path d=\"M17.41 7.96l-1.37-1.37c-.4-.4-.92-.59-1.43-.59-.52 0-1.04.2-1.43.59L10.3 9.45l-7.72 7.72c-.78.78-.78 2.05 0 2.83L4 21.41c.39.39.9.59 1.41.59.51 0 1.02-.2 1.41-.59l7.78-7.78 2.81-2.81c.8-.78.8-2.07 0-2.86zM5.41 20L4 18.59l7.72-7.72 1.47 1.35L5.41 20z\"/>\n",
              "  </svg>\n",
              "      </button>\n",
              "      \n",
              "  <style>\n",
              "    .colab-df-container {\n",
              "      display:flex;\n",
              "      flex-wrap:wrap;\n",
              "      gap: 12px;\n",
              "    }\n",
              "\n",
              "    .colab-df-convert {\n",
              "      background-color: #E8F0FE;\n",
              "      border: none;\n",
              "      border-radius: 50%;\n",
              "      cursor: pointer;\n",
              "      display: none;\n",
              "      fill: #1967D2;\n",
              "      height: 32px;\n",
              "      padding: 0 0 0 0;\n",
              "      width: 32px;\n",
              "    }\n",
              "\n",
              "    .colab-df-convert:hover {\n",
              "      background-color: #E2EBFA;\n",
              "      box-shadow: 0px 1px 2px rgba(60, 64, 67, 0.3), 0px 1px 3px 1px rgba(60, 64, 67, 0.15);\n",
              "      fill: #174EA6;\n",
              "    }\n",
              "\n",
              "    [theme=dark] .colab-df-convert {\n",
              "      background-color: #3B4455;\n",
              "      fill: #D2E3FC;\n",
              "    }\n",
              "\n",
              "    [theme=dark] .colab-df-convert:hover {\n",
              "      background-color: #434B5C;\n",
              "      box-shadow: 0px 1px 3px 1px rgba(0, 0, 0, 0.15);\n",
              "      filter: drop-shadow(0px 1px 2px rgba(0, 0, 0, 0.3));\n",
              "      fill: #FFFFFF;\n",
              "    }\n",
              "  </style>\n",
              "\n",
              "      <script>\n",
              "        const buttonEl =\n",
              "          document.querySelector('#df-8378144d-2429-4a62-b21d-8dee179be58a button.colab-df-convert');\n",
              "        buttonEl.style.display =\n",
              "          google.colab.kernel.accessAllowed ? 'block' : 'none';\n",
              "\n",
              "        async function convertToInteractive(key) {\n",
              "          const element = document.querySelector('#df-8378144d-2429-4a62-b21d-8dee179be58a');\n",
              "          const dataTable =\n",
              "            await google.colab.kernel.invokeFunction('convertToInteractive',\n",
              "                                                     [key], {});\n",
              "          if (!dataTable) return;\n",
              "\n",
              "          const docLinkHtml = 'Like what you see? Visit the ' +\n",
              "            '<a target=\"_blank\" href=https://colab.research.google.com/notebooks/data_table.ipynb>data table notebook</a>'\n",
              "            + ' to learn more about interactive tables.';\n",
              "          element.innerHTML = '';\n",
              "          dataTable['output_type'] = 'display_data';\n",
              "          await google.colab.output.renderOutput(dataTable, element);\n",
              "          const docLink = document.createElement('div');\n",
              "          docLink.innerHTML = docLinkHtml;\n",
              "          element.appendChild(docLink);\n",
              "        }\n",
              "      </script>\n",
              "    </div>\n",
              "  </div>\n",
              "  "
            ]
          },
          "metadata": {},
          "execution_count": 92
        }
      ]
    },
    {
      "cell_type": "markdown",
      "source": [
        "Now the process where we need to process all the messages starts. This is a process containing many steps such as removing links, removing, mentions, removing hashtags, and emojis. Since our data is in a \"Social media\" language we need to do this to get the result that we feel reflects the sentiment of the message in our research. In the process, we will write definitions that do the processing for each message and it will loop over every message. IF the dataset is large this can take some time. We will also here use a tweet tokenizer and detokenizer to get the word to a sentence again. We also use a segmenter since this is twitter language."
      ],
      "metadata": {
        "id": "pIGQT-aTmIgf"
      }
    },
    {
      "cell_type": "markdown",
      "source": [
        "First we will start by making all the messages lowercase and adding them to a list we call message. "
      ],
      "metadata": {
        "id": "6smvTroVmIjU"
      }
    },
    {
      "cell_type": "code",
      "source": [
        "#Every message in df_st1 get edited to a lowercase.\n",
        "df_st1['message'] = df_st1['message'].str.lower()\n",
        "\n",
        "#This adds all of the messages to a list called message\n",
        "message = df_st1['message'].tolist()"
      ],
      "metadata": {
        "id": "lKdFUuzxtS-A"
      },
      "execution_count": 94,
      "outputs": []
    },
    {
      "cell_type": "markdown",
      "source": [
        "Here comes the diffrent defintion that we will use in our loop. "
      ],
      "metadata": {
        "id": "IsHKWSVUtTQB"
      }
    },
    {
      "cell_type": "code",
      "source": [
        "#Removes stopwords form a message. This we need to do after going thorugh every word in the sentenc and setting it back. \n",
        "def remove_stopwords(msg):\n",
        "    #filtered_sentence is a loop that go througs and removes everything thats a stopword and then return the message.\n",
        "    filtered_sentence = [w for w in msg_tokens if not w in stop_words]\n",
        "    return filtered_sentence\n",
        "\n",
        "#Removes URLS, mentions hashtags, and emojies. \n",
        "def remove_punctuation_re(x):\n",
        "    #Removes the urls thata are in the messages using re.sub (found online)\n",
        "    x = ' '.join(re.sub(\"https?://\\S+\",\"\",x).split())     \n",
        "\n",
        "    #Removes all mentions in the messages using re.sub (found online)\n",
        "    x = ' '.join(re.sub(\"^@\\S+|\\s@\\S+\",\"\",x).split())     \n",
        "\n",
        "    x = ' '.join(re.sub(r'[^$\\w\\s]',\" \",x).split())\n",
        "    \n",
        "    #Removes hashtages using re.sub (found online)\n",
        "    x = ' '.join(re.sub(r'[^\\w\\s]',\" \",x).split())        \n",
        "\n",
        "    #Removes the underscore \"_\" from emojis using re.sub (found online)\n",
        "    x = ' '.join(re.sub(r'_',\" \",x).split())              \n",
        "\n",
        "    #Returns the word that are beign processes\n",
        "    return x\n",
        "\n",
        "#Defintion that removed \n",
        "def rpt_replace(match):\n",
        "    print(match.group(1))\n",
        "    return match.group(1)+match.group(1)\n",
        "  \n",
        "#Defenition that\n",
        "def processRepeatings(data):\n",
        "    re_t= re.sub(message_rpt, rpt_replace, data )\n",
        "    #print(re_t)\n",
        "    return re_t"
      ],
      "metadata": {
        "id": "pnF4NGAjtTTS"
      },
      "execution_count": 99,
      "outputs": []
    },
    {
      "cell_type": "markdown",
      "source": [
        "All defentions is set and we now need to download the stopwords, tweet tokanizer that dont split the hashtags from words and set the detokanizer. We also need to set the segmetner that we will use so we acutally can get words out of the hashtags that gives moremeaning for an AI."
      ],
      "metadata": {
        "id": "YzWiFlGxtTb3"
      }
    },
    {
      "cell_type": "code",
      "source": [
        "#Getting the stopwords that is english\n",
        "stop_words = sw.words(\"english\")\n",
        "\n",
        "#Tweet_tokanizer, is a tokanizer that dont splits the hashtags from the word. \n",
        "tweet_tokenizer = TweetTokenizer()\n",
        "\n",
        "#Detokanizer that we will use \n",
        "detokenizer = TreebankWordDetokenizer()\n",
        "\n",
        "#For repeating characters in words\n",
        "message_rpt = re.compile(r\"(.)\\1{2,}\", re.IGNORECASE)\n",
        "\n",
        "#Segmenter that will make hashtags into words. e.g., #netflixwillgoup = netflix will go up\n",
        "seg_tw = Segmenter(corpus=\"twitter\")\n"
      ],
      "metadata": {
        "colab": {
          "base_uri": "https://localhost:8080/"
        },
        "id": "E6AsufJPtTfd",
        "outputId": "51aefeb3-cb00-40fb-bf61-b2293aa72a6c"
      },
      "execution_count": 100,
      "outputs": [
        {
          "output_type": "stream",
          "name": "stdout",
          "text": [
            "Reading twitter - 1grams ...\n",
            "Reading twitter - 2grams ...\n"
          ]
        }
      ]
    },
    {
      "cell_type": "markdown",
      "source": [
        "We will start with an empty list. Then we will run a loop for all messages in df_st1. If the message is NaN then we will set it to -1. Else it will continue with the loop and first remove emojis, or at least demojize them; for example, a 😠 to \"_angry_face\" and then later in the process make it into \"angry face\". It will then fix contractions meaning you're becomes you are and I'm become what I am. I will then run the definition remove_punctuation_re doing the processing. Then all messages will be tokanized and a loop start that will turn hashtags into words using a segmenter. It will then remove all stopwords from the message and remove retweets and make it to a -1 as we did with NaN messages. Lastly, the code will detokanize the message making it back to a whole sentence, and then remove repeating characters. This works on a whole sentence. We then append the msg to message_p and it will go over all rows in df_st1."
      ],
      "metadata": {
        "id": "0_mVrAfftTjX"
      }
    },
    {
      "cell_type": "code",
      "source": [
        "message_p = []\n",
        "\n",
        "for msg in message:\n",
        "\n",
        "    if msg == '0': #nan replaced by '0'\n",
        "      message_p.append('-1')\n",
        "\n",
        "    else:\n",
        "      # remove emojis\n",
        "      msg = emoji.demojize(msg)\n",
        "\n",
        "      # fix contractions\n",
        "      msg = contractions.fix(msg)\n",
        "\n",
        "      # remove punctuations\n",
        "      msg = remove_punctuation_re(msg) \n",
        "\n",
        "      #tokenize\n",
        "      msg_tokens = tweet_tokenizer.tokenize(msg)\n",
        "\n",
        "      #For Hashtags elongated words using Word segmenter\n",
        "      message_seg = []\n",
        "      for w in msg_tokens:\n",
        "        if len(w)>=300:\n",
        "          w=w[:100]\n",
        "        message_seg.append(seg_tw.segment(w))\n",
        "\n",
        "      # remove stopwords\n",
        "      msg = remove_stopwords(message_seg)\n",
        "\n",
        "      if 'rt' in msg:\n",
        "        # remove retweets\n",
        "        message_p.append('-1')\n",
        "      else: \n",
        "        # detokenize\n",
        "        msg = detokenizer.detokenize(msg)\n",
        "\n",
        "        # removing repeating characters like hurrrryyyyyy-- worrks on tokenized list\n",
        "        msg = processRepeatings(msg)\n",
        "\n",
        "        message_p.append(msg)"
      ],
      "metadata": {
        "id": "6Djfzy7XtTnY"
      },
      "execution_count": null,
      "outputs": []
    },
    {
      "cell_type": "markdown",
      "source": [
        "Now we can take a look on how the messages appear after the pre-processing and making it cleaner and rawer, which is good for our usecase."
      ],
      "metadata": {
        "id": "Z0HXHSYj7HbK"
      }
    },
    {
      "cell_type": "code",
      "source": [
        "message_p[:10]"
      ],
      "metadata": {
        "colab": {
          "base_uri": "https://localhost:8080/"
        },
        "id": "yoxHBOLE7Gzi",
        "outputId": "e91963fa-436e-45e7-9e1d-3f140e0fa205"
      },
      "execution_count": 105,
      "outputs": [
        {
          "output_type": "execute_result",
          "data": {
            "text/plain": [
              "['uber say offer imminent thinks emotional whenever legit analysis simple math body really knows well 10 years know going lose many billions smart invest high value plenty better investment market short longterm buy undervalued dividend paying stock people chase short term runups lyft follow recommend coty intc short term might unattractive long term decent cash influx appreciation difficult times',\n",
              " 'weird stock need close 30 4 rocket',\n",
              " 'waiting go load calls smh',\n",
              " 'pretty good behavior today ideally end day see 30 35ish',\n",
              " 'citi reiterates amp headed earnings expecting profit beat topics could found',\n",
              " 'parabolic thinking face',\n",
              " 'telecom work home feel like bubble levels',\n",
              " 'completed delivery managed trusted internet protocol services mtips national labor relations board',\n",
              " 'concern citi buy recommendation noticed immediate price action often contrary recommendations still following price action around prints',\n",
              " '39 release second quarter results offering clearer picture various challenges faced different parts communications media conglomerate due coronavirus pandemic']"
            ]
          },
          "metadata": {},
          "execution_count": 105
        }
      ]
    },
    {
      "cell_type": "markdown",
      "source": [
        "Now we can replace the messages in the df_st1 datafram (Original ones) with the processes ones. We do this in the code under. We also drop all messages that was eiter retweets or a NaN value. "
      ],
      "metadata": {
        "id": "YBDsLbXmtTqu"
      }
    },
    {
      "cell_type": "code",
      "source": [
        "df_st1['message'] = message_p\n",
        "\n",
        "df_st1.drop(df_st1[df_st1['message'] == '-1'].index, inplace = True) "
      ],
      "metadata": {
        "id": "sKrCZnBntTuy"
      },
      "execution_count": 106,
      "outputs": []
    },
    {
      "cell_type": "markdown",
      "source": [
        "We can inspect the dataframe know what it looks like before we save it into our google drive. The file will be saved as the path we wrote early in the code. If the price labeling method is the sameday then we need to set path to PATH and if it is the previous day method we need to change it to PATH2. Remember to do this so everything is correct"
      ],
      "metadata": {
        "id": "i-gQzVcVBpLX"
      }
    },
    {
      "cell_type": "code",
      "source": [
        "df_st1.head()"
      ],
      "metadata": {
        "colab": {
          "base_uri": "https://localhost:8080/",
          "height": 206
        },
        "id": "qRczgTbfn2Qs",
        "outputId": "da4a08da-fe15-476f-8578-962132176cfa"
      },
      "execution_count": 107,
      "outputs": [
        {
          "output_type": "execute_result",
          "data": {
            "text/plain": [
              "  symbol                                            message  \\\n",
              "0      T  uber say offer imminent thinks emotional whene...   \n",
              "1      T                 weird stock need close 30 4 rocket   \n",
              "2      T                          waiting go load calls smh   \n",
              "3      T  pretty good behavior today ideally end day see...   \n",
              "4      T  citi reiterates amp headed earnings expecting ...   \n",
              "\n",
              "             datetime     user  message_id        Date      Time  label  \n",
              "0 2020-07-21 20:32:35  2892577   229708771  2020-07-21  20:32:35      1  \n",
              "1 2020-07-21 20:11:39  1194576   229699883  2020-07-21  20:11:39      1  \n",
              "2 2020-07-21 19:12:10  3460289   229672486  2020-07-21  19:12:10      1  \n",
              "3 2020-07-21 18:45:06  3393453   229660767  2020-07-21  18:45:06      1  \n",
              "4 2020-07-21 18:34:05  3729123   229656088  2020-07-21  18:34:05      1  "
            ],
            "text/html": [
              "\n",
              "  <div id=\"df-0a06e993-fc72-48bb-a280-9e254c72b90b\">\n",
              "    <div class=\"colab-df-container\">\n",
              "      <div>\n",
              "<style scoped>\n",
              "    .dataframe tbody tr th:only-of-type {\n",
              "        vertical-align: middle;\n",
              "    }\n",
              "\n",
              "    .dataframe tbody tr th {\n",
              "        vertical-align: top;\n",
              "    }\n",
              "\n",
              "    .dataframe thead th {\n",
              "        text-align: right;\n",
              "    }\n",
              "</style>\n",
              "<table border=\"1\" class=\"dataframe\">\n",
              "  <thead>\n",
              "    <tr style=\"text-align: right;\">\n",
              "      <th></th>\n",
              "      <th>symbol</th>\n",
              "      <th>message</th>\n",
              "      <th>datetime</th>\n",
              "      <th>user</th>\n",
              "      <th>message_id</th>\n",
              "      <th>Date</th>\n",
              "      <th>Time</th>\n",
              "      <th>label</th>\n",
              "    </tr>\n",
              "  </thead>\n",
              "  <tbody>\n",
              "    <tr>\n",
              "      <th>0</th>\n",
              "      <td>T</td>\n",
              "      <td>uber say offer imminent thinks emotional whene...</td>\n",
              "      <td>2020-07-21 20:32:35</td>\n",
              "      <td>2892577</td>\n",
              "      <td>229708771</td>\n",
              "      <td>2020-07-21</td>\n",
              "      <td>20:32:35</td>\n",
              "      <td>1</td>\n",
              "    </tr>\n",
              "    <tr>\n",
              "      <th>1</th>\n",
              "      <td>T</td>\n",
              "      <td>weird stock need close 30 4 rocket</td>\n",
              "      <td>2020-07-21 20:11:39</td>\n",
              "      <td>1194576</td>\n",
              "      <td>229699883</td>\n",
              "      <td>2020-07-21</td>\n",
              "      <td>20:11:39</td>\n",
              "      <td>1</td>\n",
              "    </tr>\n",
              "    <tr>\n",
              "      <th>2</th>\n",
              "      <td>T</td>\n",
              "      <td>waiting go load calls smh</td>\n",
              "      <td>2020-07-21 19:12:10</td>\n",
              "      <td>3460289</td>\n",
              "      <td>229672486</td>\n",
              "      <td>2020-07-21</td>\n",
              "      <td>19:12:10</td>\n",
              "      <td>1</td>\n",
              "    </tr>\n",
              "    <tr>\n",
              "      <th>3</th>\n",
              "      <td>T</td>\n",
              "      <td>pretty good behavior today ideally end day see...</td>\n",
              "      <td>2020-07-21 18:45:06</td>\n",
              "      <td>3393453</td>\n",
              "      <td>229660767</td>\n",
              "      <td>2020-07-21</td>\n",
              "      <td>18:45:06</td>\n",
              "      <td>1</td>\n",
              "    </tr>\n",
              "    <tr>\n",
              "      <th>4</th>\n",
              "      <td>T</td>\n",
              "      <td>citi reiterates amp headed earnings expecting ...</td>\n",
              "      <td>2020-07-21 18:34:05</td>\n",
              "      <td>3729123</td>\n",
              "      <td>229656088</td>\n",
              "      <td>2020-07-21</td>\n",
              "      <td>18:34:05</td>\n",
              "      <td>1</td>\n",
              "    </tr>\n",
              "  </tbody>\n",
              "</table>\n",
              "</div>\n",
              "      <button class=\"colab-df-convert\" onclick=\"convertToInteractive('df-0a06e993-fc72-48bb-a280-9e254c72b90b')\"\n",
              "              title=\"Convert this dataframe to an interactive table.\"\n",
              "              style=\"display:none;\">\n",
              "        \n",
              "  <svg xmlns=\"http://www.w3.org/2000/svg\" height=\"24px\"viewBox=\"0 0 24 24\"\n",
              "       width=\"24px\">\n",
              "    <path d=\"M0 0h24v24H0V0z\" fill=\"none\"/>\n",
              "    <path d=\"M18.56 5.44l.94 2.06.94-2.06 2.06-.94-2.06-.94-.94-2.06-.94 2.06-2.06.94zm-11 1L8.5 8.5l.94-2.06 2.06-.94-2.06-.94L8.5 2.5l-.94 2.06-2.06.94zm10 10l.94 2.06.94-2.06 2.06-.94-2.06-.94-.94-2.06-.94 2.06-2.06.94z\"/><path d=\"M17.41 7.96l-1.37-1.37c-.4-.4-.92-.59-1.43-.59-.52 0-1.04.2-1.43.59L10.3 9.45l-7.72 7.72c-.78.78-.78 2.05 0 2.83L4 21.41c.39.39.9.59 1.41.59.51 0 1.02-.2 1.41-.59l7.78-7.78 2.81-2.81c.8-.78.8-2.07 0-2.86zM5.41 20L4 18.59l7.72-7.72 1.47 1.35L5.41 20z\"/>\n",
              "  </svg>\n",
              "      </button>\n",
              "      \n",
              "  <style>\n",
              "    .colab-df-container {\n",
              "      display:flex;\n",
              "      flex-wrap:wrap;\n",
              "      gap: 12px;\n",
              "    }\n",
              "\n",
              "    .colab-df-convert {\n",
              "      background-color: #E8F0FE;\n",
              "      border: none;\n",
              "      border-radius: 50%;\n",
              "      cursor: pointer;\n",
              "      display: none;\n",
              "      fill: #1967D2;\n",
              "      height: 32px;\n",
              "      padding: 0 0 0 0;\n",
              "      width: 32px;\n",
              "    }\n",
              "\n",
              "    .colab-df-convert:hover {\n",
              "      background-color: #E2EBFA;\n",
              "      box-shadow: 0px 1px 2px rgba(60, 64, 67, 0.3), 0px 1px 3px 1px rgba(60, 64, 67, 0.15);\n",
              "      fill: #174EA6;\n",
              "    }\n",
              "\n",
              "    [theme=dark] .colab-df-convert {\n",
              "      background-color: #3B4455;\n",
              "      fill: #D2E3FC;\n",
              "    }\n",
              "\n",
              "    [theme=dark] .colab-df-convert:hover {\n",
              "      background-color: #434B5C;\n",
              "      box-shadow: 0px 1px 3px 1px rgba(0, 0, 0, 0.15);\n",
              "      filter: drop-shadow(0px 1px 2px rgba(0, 0, 0, 0.3));\n",
              "      fill: #FFFFFF;\n",
              "    }\n",
              "  </style>\n",
              "\n",
              "      <script>\n",
              "        const buttonEl =\n",
              "          document.querySelector('#df-0a06e993-fc72-48bb-a280-9e254c72b90b button.colab-df-convert');\n",
              "        buttonEl.style.display =\n",
              "          google.colab.kernel.accessAllowed ? 'block' : 'none';\n",
              "\n",
              "        async function convertToInteractive(key) {\n",
              "          const element = document.querySelector('#df-0a06e993-fc72-48bb-a280-9e254c72b90b');\n",
              "          const dataTable =\n",
              "            await google.colab.kernel.invokeFunction('convertToInteractive',\n",
              "                                                     [key], {});\n",
              "          if (!dataTable) return;\n",
              "\n",
              "          const docLinkHtml = 'Like what you see? Visit the ' +\n",
              "            '<a target=\"_blank\" href=https://colab.research.google.com/notebooks/data_table.ipynb>data table notebook</a>'\n",
              "            + ' to learn more about interactive tables.';\n",
              "          element.innerHTML = '';\n",
              "          dataTable['output_type'] = 'display_data';\n",
              "          await google.colab.output.renderOutput(dataTable, element);\n",
              "          const docLink = document.createElement('div');\n",
              "          docLink.innerHTML = docLinkHtml;\n",
              "          element.appendChild(docLink);\n",
              "        }\n",
              "      </script>\n",
              "    </div>\n",
              "  </div>\n",
              "  "
            ]
          },
          "metadata": {},
          "execution_count": 107
        }
      ]
    },
    {
      "cell_type": "code",
      "source": [
        "df_st1['label'].value_counts()"
      ],
      "metadata": {
        "colab": {
          "base_uri": "https://localhost:8080/"
        },
        "id": "LaLcbwJmn2Qs",
        "outputId": "abed2576-78e0-44ec-b8f2-e87fb59401d9"
      },
      "execution_count": 108,
      "outputs": [
        {
          "output_type": "execute_result",
          "data": {
            "text/plain": [
              "1    36702\n",
              "0    33389\n",
              "Name: label, dtype: int64"
            ]
          },
          "metadata": {},
          "execution_count": 108
        }
      ]
    },
    {
      "cell_type": "markdown",
      "source": [
        ""
      ],
      "metadata": {
        "id": "ENG2CJPCmInC"
      }
    },
    {
      "cell_type": "code",
      "source": [
        "df_st1.to_csv(PATH2, header=True, index=False, encoding='utf_8')"
      ],
      "metadata": {
        "id": "9mai-XbmmInC"
      },
      "execution_count": null,
      "outputs": []
    },
    {
      "cell_type": "markdown",
      "source": [
        "Percentage (Positive, Netural, Negative)"
      ],
      "metadata": {
        "id": "wc6Etpr21BH9"
      }
    },
    {
      "cell_type": "markdown",
      "source": [
        "Here we have all the code for the method where we use three labels, which we call the percentage labeling method. The only difference in this code is the labeling process that will be done differently. So I will remove many of the comments here and have no explanations for the code. If the explanation is needed or something is different from the code done in the labeling binary method above it will be commented."
      ],
      "metadata": {
        "id": "Gpc6twSLpHhV"
      }
    },
    {
      "cell_type": "code",
      "source": [
        "df_st1 = get_compData('T')\n",
        "PATH='/content/drive/My Drive/StockTwits Data Percentage/'"
      ],
      "metadata": {
        "id": "pbffLX5ejSJL"
      },
      "execution_count": 109,
      "outputs": []
    },
    {
      "cell_type": "code",
      "source": [
        "df_st1.head()"
      ],
      "metadata": {
        "colab": {
          "base_uri": "https://localhost:8080/",
          "height": 206
        },
        "outputId": "2b036012-5623-408c-ce46-58ab40eb598c",
        "id": "eP_sVN6-jSJQ"
      },
      "execution_count": 110,
      "outputs": [
        {
          "output_type": "execute_result",
          "data": {
            "text/plain": [
              "  symbol                                            message  \\\n",
              "0      T  $UBER Didn’t I say an offer is imminent!? @eel...   \n",
              "1      T  $T Weird$$ stock, we just need a close above 3...   \n",
              "2      T  $T waiting for this to go down so I can load u...   \n",
              "3      T  $T Pretty good behavior today. Ideally end of ...   \n",
              "4      T  $T Citi reiterates AT&amp;T headed into earnin...   \n",
              "\n",
              "               datetime     user  message_id  \n",
              "0  2020-07-21T20:32:35Z  2892577   229708771  \n",
              "1  2020-07-21T20:11:39Z  1194576   229699883  \n",
              "2  2020-07-21T19:12:10Z  3460289   229672486  \n",
              "3  2020-07-21T18:45:06Z  3393453   229660767  \n",
              "4  2020-07-21T18:34:05Z  3729123   229656088  "
            ],
            "text/html": [
              "\n",
              "  <div id=\"df-24fb7526-7ce1-431a-8189-3b6876446332\">\n",
              "    <div class=\"colab-df-container\">\n",
              "      <div>\n",
              "<style scoped>\n",
              "    .dataframe tbody tr th:only-of-type {\n",
              "        vertical-align: middle;\n",
              "    }\n",
              "\n",
              "    .dataframe tbody tr th {\n",
              "        vertical-align: top;\n",
              "    }\n",
              "\n",
              "    .dataframe thead th {\n",
              "        text-align: right;\n",
              "    }\n",
              "</style>\n",
              "<table border=\"1\" class=\"dataframe\">\n",
              "  <thead>\n",
              "    <tr style=\"text-align: right;\">\n",
              "      <th></th>\n",
              "      <th>symbol</th>\n",
              "      <th>message</th>\n",
              "      <th>datetime</th>\n",
              "      <th>user</th>\n",
              "      <th>message_id</th>\n",
              "    </tr>\n",
              "  </thead>\n",
              "  <tbody>\n",
              "    <tr>\n",
              "      <th>0</th>\n",
              "      <td>T</td>\n",
              "      <td>$UBER Didn’t I say an offer is imminent!? @eel...</td>\n",
              "      <td>2020-07-21T20:32:35Z</td>\n",
              "      <td>2892577</td>\n",
              "      <td>229708771</td>\n",
              "    </tr>\n",
              "    <tr>\n",
              "      <th>1</th>\n",
              "      <td>T</td>\n",
              "      <td>$T Weird$$ stock, we just need a close above 3...</td>\n",
              "      <td>2020-07-21T20:11:39Z</td>\n",
              "      <td>1194576</td>\n",
              "      <td>229699883</td>\n",
              "    </tr>\n",
              "    <tr>\n",
              "      <th>2</th>\n",
              "      <td>T</td>\n",
              "      <td>$T waiting for this to go down so I can load u...</td>\n",
              "      <td>2020-07-21T19:12:10Z</td>\n",
              "      <td>3460289</td>\n",
              "      <td>229672486</td>\n",
              "    </tr>\n",
              "    <tr>\n",
              "      <th>3</th>\n",
              "      <td>T</td>\n",
              "      <td>$T Pretty good behavior today. Ideally end of ...</td>\n",
              "      <td>2020-07-21T18:45:06Z</td>\n",
              "      <td>3393453</td>\n",
              "      <td>229660767</td>\n",
              "    </tr>\n",
              "    <tr>\n",
              "      <th>4</th>\n",
              "      <td>T</td>\n",
              "      <td>$T Citi reiterates AT&amp;amp;T headed into earnin...</td>\n",
              "      <td>2020-07-21T18:34:05Z</td>\n",
              "      <td>3729123</td>\n",
              "      <td>229656088</td>\n",
              "    </tr>\n",
              "  </tbody>\n",
              "</table>\n",
              "</div>\n",
              "      <button class=\"colab-df-convert\" onclick=\"convertToInteractive('df-24fb7526-7ce1-431a-8189-3b6876446332')\"\n",
              "              title=\"Convert this dataframe to an interactive table.\"\n",
              "              style=\"display:none;\">\n",
              "        \n",
              "  <svg xmlns=\"http://www.w3.org/2000/svg\" height=\"24px\"viewBox=\"0 0 24 24\"\n",
              "       width=\"24px\">\n",
              "    <path d=\"M0 0h24v24H0V0z\" fill=\"none\"/>\n",
              "    <path d=\"M18.56 5.44l.94 2.06.94-2.06 2.06-.94-2.06-.94-.94-2.06-.94 2.06-2.06.94zm-11 1L8.5 8.5l.94-2.06 2.06-.94-2.06-.94L8.5 2.5l-.94 2.06-2.06.94zm10 10l.94 2.06.94-2.06 2.06-.94-2.06-.94-.94-2.06-.94 2.06-2.06.94z\"/><path d=\"M17.41 7.96l-1.37-1.37c-.4-.4-.92-.59-1.43-.59-.52 0-1.04.2-1.43.59L10.3 9.45l-7.72 7.72c-.78.78-.78 2.05 0 2.83L4 21.41c.39.39.9.59 1.41.59.51 0 1.02-.2 1.41-.59l7.78-7.78 2.81-2.81c.8-.78.8-2.07 0-2.86zM5.41 20L4 18.59l7.72-7.72 1.47 1.35L5.41 20z\"/>\n",
              "  </svg>\n",
              "      </button>\n",
              "      \n",
              "  <style>\n",
              "    .colab-df-container {\n",
              "      display:flex;\n",
              "      flex-wrap:wrap;\n",
              "      gap: 12px;\n",
              "    }\n",
              "\n",
              "    .colab-df-convert {\n",
              "      background-color: #E8F0FE;\n",
              "      border: none;\n",
              "      border-radius: 50%;\n",
              "      cursor: pointer;\n",
              "      display: none;\n",
              "      fill: #1967D2;\n",
              "      height: 32px;\n",
              "      padding: 0 0 0 0;\n",
              "      width: 32px;\n",
              "    }\n",
              "\n",
              "    .colab-df-convert:hover {\n",
              "      background-color: #E2EBFA;\n",
              "      box-shadow: 0px 1px 2px rgba(60, 64, 67, 0.3), 0px 1px 3px 1px rgba(60, 64, 67, 0.15);\n",
              "      fill: #174EA6;\n",
              "    }\n",
              "\n",
              "    [theme=dark] .colab-df-convert {\n",
              "      background-color: #3B4455;\n",
              "      fill: #D2E3FC;\n",
              "    }\n",
              "\n",
              "    [theme=dark] .colab-df-convert:hover {\n",
              "      background-color: #434B5C;\n",
              "      box-shadow: 0px 1px 3px 1px rgba(0, 0, 0, 0.15);\n",
              "      filter: drop-shadow(0px 1px 2px rgba(0, 0, 0, 0.3));\n",
              "      fill: #FFFFFF;\n",
              "    }\n",
              "  </style>\n",
              "\n",
              "      <script>\n",
              "        const buttonEl =\n",
              "          document.querySelector('#df-24fb7526-7ce1-431a-8189-3b6876446332 button.colab-df-convert');\n",
              "        buttonEl.style.display =\n",
              "          google.colab.kernel.accessAllowed ? 'block' : 'none';\n",
              "\n",
              "        async function convertToInteractive(key) {\n",
              "          const element = document.querySelector('#df-24fb7526-7ce1-431a-8189-3b6876446332');\n",
              "          const dataTable =\n",
              "            await google.colab.kernel.invokeFunction('convertToInteractive',\n",
              "                                                     [key], {});\n",
              "          if (!dataTable) return;\n",
              "\n",
              "          const docLinkHtml = 'Like what you see? Visit the ' +\n",
              "            '<a target=\"_blank\" href=https://colab.research.google.com/notebooks/data_table.ipynb>data table notebook</a>'\n",
              "            + ' to learn more about interactive tables.';\n",
              "          element.innerHTML = '';\n",
              "          dataTable['output_type'] = 'display_data';\n",
              "          await google.colab.output.renderOutput(dataTable, element);\n",
              "          const docLink = document.createElement('div');\n",
              "          docLink.innerHTML = docLinkHtml;\n",
              "          element.appendChild(docLink);\n",
              "        }\n",
              "      </script>\n",
              "    </div>\n",
              "  </div>\n",
              "  "
            ]
          },
          "metadata": {},
          "execution_count": 110
        }
      ]
    },
    {
      "cell_type": "code",
      "source": [
        "df_st1.tail()"
      ],
      "metadata": {
        "colab": {
          "base_uri": "https://localhost:8080/",
          "height": 206
        },
        "outputId": "5f19d9f1-9fec-4f1c-b639-34c210e02481",
        "id": "bbKL3mDKjSJQ"
      },
      "execution_count": 111,
      "outputs": [
        {
          "output_type": "execute_result",
          "data": {
            "text/plain": [
              "      symbol                                            message  \\\n",
              "70311      T  @toddsullivan you think the $S network is that...   \n",
              "70312      T  am curious what $T would be like w/o $AAPL... ...   \n",
              "70313      T  @toddsullivan thinking of leaving $T; they won...   \n",
              "70314      T  speaking of #stuffthatdoesn&#39;twork, $T web ...   \n",
              "70315      T                $T on the morning dip huge volume..   \n",
              "\n",
              "                   datetime  user  message_id  \n",
              "70311  2009-10-27T18:20:40Z   409      713989  \n",
              "70312  2009-10-27T16:27:09Z   409      713291  \n",
              "70313  2009-10-27T16:25:18Z   409      713276  \n",
              "70314  2009-10-23T00:10:01Z    78      700068  \n",
              "70315  2009-10-20T13:28:37Z  1086      686674  "
            ],
            "text/html": [
              "\n",
              "  <div id=\"df-d3a3e9a8-2f6e-4690-8d31-587aa8555249\">\n",
              "    <div class=\"colab-df-container\">\n",
              "      <div>\n",
              "<style scoped>\n",
              "    .dataframe tbody tr th:only-of-type {\n",
              "        vertical-align: middle;\n",
              "    }\n",
              "\n",
              "    .dataframe tbody tr th {\n",
              "        vertical-align: top;\n",
              "    }\n",
              "\n",
              "    .dataframe thead th {\n",
              "        text-align: right;\n",
              "    }\n",
              "</style>\n",
              "<table border=\"1\" class=\"dataframe\">\n",
              "  <thead>\n",
              "    <tr style=\"text-align: right;\">\n",
              "      <th></th>\n",
              "      <th>symbol</th>\n",
              "      <th>message</th>\n",
              "      <th>datetime</th>\n",
              "      <th>user</th>\n",
              "      <th>message_id</th>\n",
              "    </tr>\n",
              "  </thead>\n",
              "  <tbody>\n",
              "    <tr>\n",
              "      <th>70311</th>\n",
              "      <td>T</td>\n",
              "      <td>@toddsullivan you think the $S network is that...</td>\n",
              "      <td>2009-10-27T18:20:40Z</td>\n",
              "      <td>409</td>\n",
              "      <td>713989</td>\n",
              "    </tr>\n",
              "    <tr>\n",
              "      <th>70312</th>\n",
              "      <td>T</td>\n",
              "      <td>am curious what $T would be like w/o $AAPL... ...</td>\n",
              "      <td>2009-10-27T16:27:09Z</td>\n",
              "      <td>409</td>\n",
              "      <td>713291</td>\n",
              "    </tr>\n",
              "    <tr>\n",
              "      <th>70313</th>\n",
              "      <td>T</td>\n",
              "      <td>@toddsullivan thinking of leaving $T; they won...</td>\n",
              "      <td>2009-10-27T16:25:18Z</td>\n",
              "      <td>409</td>\n",
              "      <td>713276</td>\n",
              "    </tr>\n",
              "    <tr>\n",
              "      <th>70314</th>\n",
              "      <td>T</td>\n",
              "      <td>speaking of #stuffthatdoesn&amp;#39;twork, $T web ...</td>\n",
              "      <td>2009-10-23T00:10:01Z</td>\n",
              "      <td>78</td>\n",
              "      <td>700068</td>\n",
              "    </tr>\n",
              "    <tr>\n",
              "      <th>70315</th>\n",
              "      <td>T</td>\n",
              "      <td>$T on the morning dip huge volume..</td>\n",
              "      <td>2009-10-20T13:28:37Z</td>\n",
              "      <td>1086</td>\n",
              "      <td>686674</td>\n",
              "    </tr>\n",
              "  </tbody>\n",
              "</table>\n",
              "</div>\n",
              "      <button class=\"colab-df-convert\" onclick=\"convertToInteractive('df-d3a3e9a8-2f6e-4690-8d31-587aa8555249')\"\n",
              "              title=\"Convert this dataframe to an interactive table.\"\n",
              "              style=\"display:none;\">\n",
              "        \n",
              "  <svg xmlns=\"http://www.w3.org/2000/svg\" height=\"24px\"viewBox=\"0 0 24 24\"\n",
              "       width=\"24px\">\n",
              "    <path d=\"M0 0h24v24H0V0z\" fill=\"none\"/>\n",
              "    <path d=\"M18.56 5.44l.94 2.06.94-2.06 2.06-.94-2.06-.94-.94-2.06-.94 2.06-2.06.94zm-11 1L8.5 8.5l.94-2.06 2.06-.94-2.06-.94L8.5 2.5l-.94 2.06-2.06.94zm10 10l.94 2.06.94-2.06 2.06-.94-2.06-.94-.94-2.06-.94 2.06-2.06.94z\"/><path d=\"M17.41 7.96l-1.37-1.37c-.4-.4-.92-.59-1.43-.59-.52 0-1.04.2-1.43.59L10.3 9.45l-7.72 7.72c-.78.78-.78 2.05 0 2.83L4 21.41c.39.39.9.59 1.41.59.51 0 1.02-.2 1.41-.59l7.78-7.78 2.81-2.81c.8-.78.8-2.07 0-2.86zM5.41 20L4 18.59l7.72-7.72 1.47 1.35L5.41 20z\"/>\n",
              "  </svg>\n",
              "      </button>\n",
              "      \n",
              "  <style>\n",
              "    .colab-df-container {\n",
              "      display:flex;\n",
              "      flex-wrap:wrap;\n",
              "      gap: 12px;\n",
              "    }\n",
              "\n",
              "    .colab-df-convert {\n",
              "      background-color: #E8F0FE;\n",
              "      border: none;\n",
              "      border-radius: 50%;\n",
              "      cursor: pointer;\n",
              "      display: none;\n",
              "      fill: #1967D2;\n",
              "      height: 32px;\n",
              "      padding: 0 0 0 0;\n",
              "      width: 32px;\n",
              "    }\n",
              "\n",
              "    .colab-df-convert:hover {\n",
              "      background-color: #E2EBFA;\n",
              "      box-shadow: 0px 1px 2px rgba(60, 64, 67, 0.3), 0px 1px 3px 1px rgba(60, 64, 67, 0.15);\n",
              "      fill: #174EA6;\n",
              "    }\n",
              "\n",
              "    [theme=dark] .colab-df-convert {\n",
              "      background-color: #3B4455;\n",
              "      fill: #D2E3FC;\n",
              "    }\n",
              "\n",
              "    [theme=dark] .colab-df-convert:hover {\n",
              "      background-color: #434B5C;\n",
              "      box-shadow: 0px 1px 3px 1px rgba(0, 0, 0, 0.15);\n",
              "      filter: drop-shadow(0px 1px 2px rgba(0, 0, 0, 0.3));\n",
              "      fill: #FFFFFF;\n",
              "    }\n",
              "  </style>\n",
              "\n",
              "      <script>\n",
              "        const buttonEl =\n",
              "          document.querySelector('#df-d3a3e9a8-2f6e-4690-8d31-587aa8555249 button.colab-df-convert');\n",
              "        buttonEl.style.display =\n",
              "          google.colab.kernel.accessAllowed ? 'block' : 'none';\n",
              "\n",
              "        async function convertToInteractive(key) {\n",
              "          const element = document.querySelector('#df-d3a3e9a8-2f6e-4690-8d31-587aa8555249');\n",
              "          const dataTable =\n",
              "            await google.colab.kernel.invokeFunction('convertToInteractive',\n",
              "                                                     [key], {});\n",
              "          if (!dataTable) return;\n",
              "\n",
              "          const docLinkHtml = 'Like what you see? Visit the ' +\n",
              "            '<a target=\"_blank\" href=https://colab.research.google.com/notebooks/data_table.ipynb>data table notebook</a>'\n",
              "            + ' to learn more about interactive tables.';\n",
              "          element.innerHTML = '';\n",
              "          dataTable['output_type'] = 'display_data';\n",
              "          await google.colab.output.renderOutput(dataTable, element);\n",
              "          const docLink = document.createElement('div');\n",
              "          docLink.innerHTML = docLinkHtml;\n",
              "          element.appendChild(docLink);\n",
              "        }\n",
              "      </script>\n",
              "    </div>\n",
              "  </div>\n",
              "  "
            ]
          },
          "metadata": {},
          "execution_count": 111
        }
      ]
    },
    {
      "cell_type": "code",
      "source": [
        "df_st1['datetime'] = df_st1['datetime'].astype('datetime64[ns]')\n",
        "df_st1['Date'] = [d.date() for d in df_st1['datetime']]\n",
        "df_st1['Time'] = [d.time() for d in df_st1['datetime']]"
      ],
      "metadata": {
        "id": "x87ny0Y4jSJQ"
      },
      "execution_count": 112,
      "outputs": []
    },
    {
      "cell_type": "code",
      "source": [
        "df_st1.head(3)"
      ],
      "metadata": {
        "colab": {
          "base_uri": "https://localhost:8080/",
          "height": 143
        },
        "outputId": "cfea9252-2557-4add-9fda-2d3d803bf0ca",
        "id": "H4v708VtjSJQ"
      },
      "execution_count": 113,
      "outputs": [
        {
          "output_type": "execute_result",
          "data": {
            "text/plain": [
              "  symbol                                            message  \\\n",
              "0      T  $UBER Didn’t I say an offer is imminent!? @eel...   \n",
              "1      T  $T Weird$$ stock, we just need a close above 3...   \n",
              "2      T  $T waiting for this to go down so I can load u...   \n",
              "\n",
              "             datetime     user  message_id        Date      Time  \n",
              "0 2020-07-21 20:32:35  2892577   229708771  2020-07-21  20:32:35  \n",
              "1 2020-07-21 20:11:39  1194576   229699883  2020-07-21  20:11:39  \n",
              "2 2020-07-21 19:12:10  3460289   229672486  2020-07-21  19:12:10  "
            ],
            "text/html": [
              "\n",
              "  <div id=\"df-58e597c1-b0fd-43e3-b824-e4c61bddf9a4\">\n",
              "    <div class=\"colab-df-container\">\n",
              "      <div>\n",
              "<style scoped>\n",
              "    .dataframe tbody tr th:only-of-type {\n",
              "        vertical-align: middle;\n",
              "    }\n",
              "\n",
              "    .dataframe tbody tr th {\n",
              "        vertical-align: top;\n",
              "    }\n",
              "\n",
              "    .dataframe thead th {\n",
              "        text-align: right;\n",
              "    }\n",
              "</style>\n",
              "<table border=\"1\" class=\"dataframe\">\n",
              "  <thead>\n",
              "    <tr style=\"text-align: right;\">\n",
              "      <th></th>\n",
              "      <th>symbol</th>\n",
              "      <th>message</th>\n",
              "      <th>datetime</th>\n",
              "      <th>user</th>\n",
              "      <th>message_id</th>\n",
              "      <th>Date</th>\n",
              "      <th>Time</th>\n",
              "    </tr>\n",
              "  </thead>\n",
              "  <tbody>\n",
              "    <tr>\n",
              "      <th>0</th>\n",
              "      <td>T</td>\n",
              "      <td>$UBER Didn’t I say an offer is imminent!? @eel...</td>\n",
              "      <td>2020-07-21 20:32:35</td>\n",
              "      <td>2892577</td>\n",
              "      <td>229708771</td>\n",
              "      <td>2020-07-21</td>\n",
              "      <td>20:32:35</td>\n",
              "    </tr>\n",
              "    <tr>\n",
              "      <th>1</th>\n",
              "      <td>T</td>\n",
              "      <td>$T Weird$$ stock, we just need a close above 3...</td>\n",
              "      <td>2020-07-21 20:11:39</td>\n",
              "      <td>1194576</td>\n",
              "      <td>229699883</td>\n",
              "      <td>2020-07-21</td>\n",
              "      <td>20:11:39</td>\n",
              "    </tr>\n",
              "    <tr>\n",
              "      <th>2</th>\n",
              "      <td>T</td>\n",
              "      <td>$T waiting for this to go down so I can load u...</td>\n",
              "      <td>2020-07-21 19:12:10</td>\n",
              "      <td>3460289</td>\n",
              "      <td>229672486</td>\n",
              "      <td>2020-07-21</td>\n",
              "      <td>19:12:10</td>\n",
              "    </tr>\n",
              "  </tbody>\n",
              "</table>\n",
              "</div>\n",
              "      <button class=\"colab-df-convert\" onclick=\"convertToInteractive('df-58e597c1-b0fd-43e3-b824-e4c61bddf9a4')\"\n",
              "              title=\"Convert this dataframe to an interactive table.\"\n",
              "              style=\"display:none;\">\n",
              "        \n",
              "  <svg xmlns=\"http://www.w3.org/2000/svg\" height=\"24px\"viewBox=\"0 0 24 24\"\n",
              "       width=\"24px\">\n",
              "    <path d=\"M0 0h24v24H0V0z\" fill=\"none\"/>\n",
              "    <path d=\"M18.56 5.44l.94 2.06.94-2.06 2.06-.94-2.06-.94-.94-2.06-.94 2.06-2.06.94zm-11 1L8.5 8.5l.94-2.06 2.06-.94-2.06-.94L8.5 2.5l-.94 2.06-2.06.94zm10 10l.94 2.06.94-2.06 2.06-.94-2.06-.94-.94-2.06-.94 2.06-2.06.94z\"/><path d=\"M17.41 7.96l-1.37-1.37c-.4-.4-.92-.59-1.43-.59-.52 0-1.04.2-1.43.59L10.3 9.45l-7.72 7.72c-.78.78-.78 2.05 0 2.83L4 21.41c.39.39.9.59 1.41.59.51 0 1.02-.2 1.41-.59l7.78-7.78 2.81-2.81c.8-.78.8-2.07 0-2.86zM5.41 20L4 18.59l7.72-7.72 1.47 1.35L5.41 20z\"/>\n",
              "  </svg>\n",
              "      </button>\n",
              "      \n",
              "  <style>\n",
              "    .colab-df-container {\n",
              "      display:flex;\n",
              "      flex-wrap:wrap;\n",
              "      gap: 12px;\n",
              "    }\n",
              "\n",
              "    .colab-df-convert {\n",
              "      background-color: #E8F0FE;\n",
              "      border: none;\n",
              "      border-radius: 50%;\n",
              "      cursor: pointer;\n",
              "      display: none;\n",
              "      fill: #1967D2;\n",
              "      height: 32px;\n",
              "      padding: 0 0 0 0;\n",
              "      width: 32px;\n",
              "    }\n",
              "\n",
              "    .colab-df-convert:hover {\n",
              "      background-color: #E2EBFA;\n",
              "      box-shadow: 0px 1px 2px rgba(60, 64, 67, 0.3), 0px 1px 3px 1px rgba(60, 64, 67, 0.15);\n",
              "      fill: #174EA6;\n",
              "    }\n",
              "\n",
              "    [theme=dark] .colab-df-convert {\n",
              "      background-color: #3B4455;\n",
              "      fill: #D2E3FC;\n",
              "    }\n",
              "\n",
              "    [theme=dark] .colab-df-convert:hover {\n",
              "      background-color: #434B5C;\n",
              "      box-shadow: 0px 1px 3px 1px rgba(0, 0, 0, 0.15);\n",
              "      filter: drop-shadow(0px 1px 2px rgba(0, 0, 0, 0.3));\n",
              "      fill: #FFFFFF;\n",
              "    }\n",
              "  </style>\n",
              "\n",
              "      <script>\n",
              "        const buttonEl =\n",
              "          document.querySelector('#df-58e597c1-b0fd-43e3-b824-e4c61bddf9a4 button.colab-df-convert');\n",
              "        buttonEl.style.display =\n",
              "          google.colab.kernel.accessAllowed ? 'block' : 'none';\n",
              "\n",
              "        async function convertToInteractive(key) {\n",
              "          const element = document.querySelector('#df-58e597c1-b0fd-43e3-b824-e4c61bddf9a4');\n",
              "          const dataTable =\n",
              "            await google.colab.kernel.invokeFunction('convertToInteractive',\n",
              "                                                     [key], {});\n",
              "          if (!dataTable) return;\n",
              "\n",
              "          const docLinkHtml = 'Like what you see? Visit the ' +\n",
              "            '<a target=\"_blank\" href=https://colab.research.google.com/notebooks/data_table.ipynb>data table notebook</a>'\n",
              "            + ' to learn more about interactive tables.';\n",
              "          element.innerHTML = '';\n",
              "          dataTable['output_type'] = 'display_data';\n",
              "          await google.colab.output.renderOutput(dataTable, element);\n",
              "          const docLink = document.createElement('div');\n",
              "          docLink.innerHTML = docLinkHtml;\n",
              "          element.appendChild(docLink);\n",
              "        }\n",
              "      </script>\n",
              "    </div>\n",
              "  </div>\n",
              "  "
            ]
          },
          "metadata": {},
          "execution_count": 113
        }
      ]
    },
    {
      "cell_type": "code",
      "source": [
        "start_dt = str(df_st1['Date'].iloc[-1])\n",
        "start_dt = str((datetime.strptime(start_dt, \"%Y-%m-%d\") + timedelta(days=-1)).strftime(\"%Y-%m-%d\"))\n",
        "end_dt = str(df_st1['Date'].iloc[0])\n",
        "end_dt =  str((datetime.strptime(end_dt, \"%Y-%m-%d\") + timedelta(days=1)).strftime(\"%Y-%m-%d\"))"
      ],
      "metadata": {
        "id": "iyL89Md0jSJQ"
      },
      "execution_count": 114,
      "outputs": []
    },
    {
      "cell_type": "code",
      "source": [
        "compny = df_st1['symbol'].iloc[0]\n",
        "PATH2 = PATH+compny+'_label2.2.csv'#PREVDAY\n",
        "PATH = PATH+compny+'_label2.1.csv'#SAMEDAY"
      ],
      "metadata": {
        "id": "nsYkiayKjSJR"
      },
      "execution_count": 115,
      "outputs": []
    },
    {
      "cell_type": "code",
      "source": [
        "if compny =='BRK.A':\n",
        "  compny = 'BRK-A'\n",
        "elif compny =='BRK.B':\n",
        "  compny ='BRK-B'\n",
        "elif compny =='VIX':\n",
        "  compny = '^VIX'\n",
        "else:\n",
        "  pass"
      ],
      "metadata": {
        "id": "NLOhF3WojSJR"
      },
      "execution_count": 116,
      "outputs": []
    },
    {
      "cell_type": "code",
      "source": [
        "yahoo_data = yf.download(compny, start=start_dt, end=end_dt)\n",
        "yahoo_data.reset_index(level=0, inplace=True)\n",
        "yahoo_data.columns"
      ],
      "metadata": {
        "colab": {
          "base_uri": "https://localhost:8080/"
        },
        "outputId": "63022377-e921-4a04-9bd6-d6febbe42b94",
        "id": "-9ATfM7hjSJR"
      },
      "execution_count": 117,
      "outputs": [
        {
          "output_type": "stream",
          "name": "stdout",
          "text": [
            "\r[*********************100%***********************]  1 of 1 completed\n"
          ]
        },
        {
          "output_type": "execute_result",
          "data": {
            "text/plain": [
              "Index(['Date', 'Open', 'High', 'Low', 'Close', 'Adj Close', 'Volume'], dtype='object')"
            ]
          },
          "metadata": {},
          "execution_count": 117
        }
      ]
    },
    {
      "cell_type": "code",
      "source": [
        "yahoo_data.head()"
      ],
      "metadata": {
        "colab": {
          "base_uri": "https://localhost:8080/",
          "height": 206
        },
        "outputId": "0b243d33-724f-4cff-aa29-903de565c100",
        "id": "rlvlsSnDjSJR"
      },
      "execution_count": 118,
      "outputs": [
        {
          "output_type": "execute_result",
          "data": {
            "text/plain": [
              "        Date       Open       High        Low      Close  Adj Close    Volume\n",
              "0 2009-10-19  19.501511  19.690332  19.410875  19.637463   9.550315  34293718\n",
              "1 2009-10-20  19.826284  19.826284  19.463745  19.629910   9.546643  45887192\n",
              "2 2009-10-21  19.743202  19.780968  19.501511  19.592146   9.528277  40552664\n",
              "3 2009-10-22  19.924471  20.120846  19.652569  19.712992   9.587049  57928442\n",
              "4 2009-10-23  19.750755  19.826284  19.290030  19.433535   9.451140  49091140"
            ],
            "text/html": [
              "\n",
              "  <div id=\"df-f3121609-c67c-48c1-b3bd-7ca8e54daf6a\">\n",
              "    <div class=\"colab-df-container\">\n",
              "      <div>\n",
              "<style scoped>\n",
              "    .dataframe tbody tr th:only-of-type {\n",
              "        vertical-align: middle;\n",
              "    }\n",
              "\n",
              "    .dataframe tbody tr th {\n",
              "        vertical-align: top;\n",
              "    }\n",
              "\n",
              "    .dataframe thead th {\n",
              "        text-align: right;\n",
              "    }\n",
              "</style>\n",
              "<table border=\"1\" class=\"dataframe\">\n",
              "  <thead>\n",
              "    <tr style=\"text-align: right;\">\n",
              "      <th></th>\n",
              "      <th>Date</th>\n",
              "      <th>Open</th>\n",
              "      <th>High</th>\n",
              "      <th>Low</th>\n",
              "      <th>Close</th>\n",
              "      <th>Adj Close</th>\n",
              "      <th>Volume</th>\n",
              "    </tr>\n",
              "  </thead>\n",
              "  <tbody>\n",
              "    <tr>\n",
              "      <th>0</th>\n",
              "      <td>2009-10-19</td>\n",
              "      <td>19.501511</td>\n",
              "      <td>19.690332</td>\n",
              "      <td>19.410875</td>\n",
              "      <td>19.637463</td>\n",
              "      <td>9.550315</td>\n",
              "      <td>34293718</td>\n",
              "    </tr>\n",
              "    <tr>\n",
              "      <th>1</th>\n",
              "      <td>2009-10-20</td>\n",
              "      <td>19.826284</td>\n",
              "      <td>19.826284</td>\n",
              "      <td>19.463745</td>\n",
              "      <td>19.629910</td>\n",
              "      <td>9.546643</td>\n",
              "      <td>45887192</td>\n",
              "    </tr>\n",
              "    <tr>\n",
              "      <th>2</th>\n",
              "      <td>2009-10-21</td>\n",
              "      <td>19.743202</td>\n",
              "      <td>19.780968</td>\n",
              "      <td>19.501511</td>\n",
              "      <td>19.592146</td>\n",
              "      <td>9.528277</td>\n",
              "      <td>40552664</td>\n",
              "    </tr>\n",
              "    <tr>\n",
              "      <th>3</th>\n",
              "      <td>2009-10-22</td>\n",
              "      <td>19.924471</td>\n",
              "      <td>20.120846</td>\n",
              "      <td>19.652569</td>\n",
              "      <td>19.712992</td>\n",
              "      <td>9.587049</td>\n",
              "      <td>57928442</td>\n",
              "    </tr>\n",
              "    <tr>\n",
              "      <th>4</th>\n",
              "      <td>2009-10-23</td>\n",
              "      <td>19.750755</td>\n",
              "      <td>19.826284</td>\n",
              "      <td>19.290030</td>\n",
              "      <td>19.433535</td>\n",
              "      <td>9.451140</td>\n",
              "      <td>49091140</td>\n",
              "    </tr>\n",
              "  </tbody>\n",
              "</table>\n",
              "</div>\n",
              "      <button class=\"colab-df-convert\" onclick=\"convertToInteractive('df-f3121609-c67c-48c1-b3bd-7ca8e54daf6a')\"\n",
              "              title=\"Convert this dataframe to an interactive table.\"\n",
              "              style=\"display:none;\">\n",
              "        \n",
              "  <svg xmlns=\"http://www.w3.org/2000/svg\" height=\"24px\"viewBox=\"0 0 24 24\"\n",
              "       width=\"24px\">\n",
              "    <path d=\"M0 0h24v24H0V0z\" fill=\"none\"/>\n",
              "    <path d=\"M18.56 5.44l.94 2.06.94-2.06 2.06-.94-2.06-.94-.94-2.06-.94 2.06-2.06.94zm-11 1L8.5 8.5l.94-2.06 2.06-.94-2.06-.94L8.5 2.5l-.94 2.06-2.06.94zm10 10l.94 2.06.94-2.06 2.06-.94-2.06-.94-.94-2.06-.94 2.06-2.06.94z\"/><path d=\"M17.41 7.96l-1.37-1.37c-.4-.4-.92-.59-1.43-.59-.52 0-1.04.2-1.43.59L10.3 9.45l-7.72 7.72c-.78.78-.78 2.05 0 2.83L4 21.41c.39.39.9.59 1.41.59.51 0 1.02-.2 1.41-.59l7.78-7.78 2.81-2.81c.8-.78.8-2.07 0-2.86zM5.41 20L4 18.59l7.72-7.72 1.47 1.35L5.41 20z\"/>\n",
              "  </svg>\n",
              "      </button>\n",
              "      \n",
              "  <style>\n",
              "    .colab-df-container {\n",
              "      display:flex;\n",
              "      flex-wrap:wrap;\n",
              "      gap: 12px;\n",
              "    }\n",
              "\n",
              "    .colab-df-convert {\n",
              "      background-color: #E8F0FE;\n",
              "      border: none;\n",
              "      border-radius: 50%;\n",
              "      cursor: pointer;\n",
              "      display: none;\n",
              "      fill: #1967D2;\n",
              "      height: 32px;\n",
              "      padding: 0 0 0 0;\n",
              "      width: 32px;\n",
              "    }\n",
              "\n",
              "    .colab-df-convert:hover {\n",
              "      background-color: #E2EBFA;\n",
              "      box-shadow: 0px 1px 2px rgba(60, 64, 67, 0.3), 0px 1px 3px 1px rgba(60, 64, 67, 0.15);\n",
              "      fill: #174EA6;\n",
              "    }\n",
              "\n",
              "    [theme=dark] .colab-df-convert {\n",
              "      background-color: #3B4455;\n",
              "      fill: #D2E3FC;\n",
              "    }\n",
              "\n",
              "    [theme=dark] .colab-df-convert:hover {\n",
              "      background-color: #434B5C;\n",
              "      box-shadow: 0px 1px 3px 1px rgba(0, 0, 0, 0.15);\n",
              "      filter: drop-shadow(0px 1px 2px rgba(0, 0, 0, 0.3));\n",
              "      fill: #FFFFFF;\n",
              "    }\n",
              "  </style>\n",
              "\n",
              "      <script>\n",
              "        const buttonEl =\n",
              "          document.querySelector('#df-f3121609-c67c-48c1-b3bd-7ca8e54daf6a button.colab-df-convert');\n",
              "        buttonEl.style.display =\n",
              "          google.colab.kernel.accessAllowed ? 'block' : 'none';\n",
              "\n",
              "        async function convertToInteractive(key) {\n",
              "          const element = document.querySelector('#df-f3121609-c67c-48c1-b3bd-7ca8e54daf6a');\n",
              "          const dataTable =\n",
              "            await google.colab.kernel.invokeFunction('convertToInteractive',\n",
              "                                                     [key], {});\n",
              "          if (!dataTable) return;\n",
              "\n",
              "          const docLinkHtml = 'Like what you see? Visit the ' +\n",
              "            '<a target=\"_blank\" href=https://colab.research.google.com/notebooks/data_table.ipynb>data table notebook</a>'\n",
              "            + ' to learn more about interactive tables.';\n",
              "          element.innerHTML = '';\n",
              "          dataTable['output_type'] = 'display_data';\n",
              "          await google.colab.output.renderOutput(dataTable, element);\n",
              "          const docLink = document.createElement('div');\n",
              "          docLink.innerHTML = docLinkHtml;\n",
              "          element.appendChild(docLink);\n",
              "        }\n",
              "      </script>\n",
              "    </div>\n",
              "  </div>\n",
              "  "
            ]
          },
          "metadata": {},
          "execution_count": 118
        }
      ]
    },
    {
      "cell_type": "code",
      "source": [
        "yahoo_data.tail()"
      ],
      "metadata": {
        "colab": {
          "base_uri": "https://localhost:8080/",
          "height": 206
        },
        "outputId": "09d56280-a7c2-4c24-8c35-a30683aeb7d5",
        "id": "Bq2gRb8AjSJR"
      },
      "execution_count": 119,
      "outputs": [
        {
          "output_type": "execute_result",
          "data": {
            "text/plain": [
              "           Date       Open       High        Low      Close  Adj Close  \\\n",
              "2702 2020-07-15  22.711479  22.756798  22.545317  22.666162  20.012671   \n",
              "2703 2020-07-16  22.635952  23.036255  22.598186  22.953173  20.266079   \n",
              "2704 2020-07-17  23.021149  23.058912  22.794561  22.847431  20.172720   \n",
              "2705 2020-07-20  22.794561  22.794561  22.507553  22.545317  19.905972   \n",
              "2706 2020-07-21  22.575529  22.975830  22.552870  22.847431  20.172720   \n",
              "\n",
              "        Volume  \n",
              "2702  40985612  \n",
              "2703  43674920  \n",
              "2704  30634712  \n",
              "2705  42896938  \n",
              "2706  45341572  "
            ],
            "text/html": [
              "\n",
              "  <div id=\"df-57d05c31-0bbf-46af-9ed7-b8bcb6ce7f97\">\n",
              "    <div class=\"colab-df-container\">\n",
              "      <div>\n",
              "<style scoped>\n",
              "    .dataframe tbody tr th:only-of-type {\n",
              "        vertical-align: middle;\n",
              "    }\n",
              "\n",
              "    .dataframe tbody tr th {\n",
              "        vertical-align: top;\n",
              "    }\n",
              "\n",
              "    .dataframe thead th {\n",
              "        text-align: right;\n",
              "    }\n",
              "</style>\n",
              "<table border=\"1\" class=\"dataframe\">\n",
              "  <thead>\n",
              "    <tr style=\"text-align: right;\">\n",
              "      <th></th>\n",
              "      <th>Date</th>\n",
              "      <th>Open</th>\n",
              "      <th>High</th>\n",
              "      <th>Low</th>\n",
              "      <th>Close</th>\n",
              "      <th>Adj Close</th>\n",
              "      <th>Volume</th>\n",
              "    </tr>\n",
              "  </thead>\n",
              "  <tbody>\n",
              "    <tr>\n",
              "      <th>2702</th>\n",
              "      <td>2020-07-15</td>\n",
              "      <td>22.711479</td>\n",
              "      <td>22.756798</td>\n",
              "      <td>22.545317</td>\n",
              "      <td>22.666162</td>\n",
              "      <td>20.012671</td>\n",
              "      <td>40985612</td>\n",
              "    </tr>\n",
              "    <tr>\n",
              "      <th>2703</th>\n",
              "      <td>2020-07-16</td>\n",
              "      <td>22.635952</td>\n",
              "      <td>23.036255</td>\n",
              "      <td>22.598186</td>\n",
              "      <td>22.953173</td>\n",
              "      <td>20.266079</td>\n",
              "      <td>43674920</td>\n",
              "    </tr>\n",
              "    <tr>\n",
              "      <th>2704</th>\n",
              "      <td>2020-07-17</td>\n",
              "      <td>23.021149</td>\n",
              "      <td>23.058912</td>\n",
              "      <td>22.794561</td>\n",
              "      <td>22.847431</td>\n",
              "      <td>20.172720</td>\n",
              "      <td>30634712</td>\n",
              "    </tr>\n",
              "    <tr>\n",
              "      <th>2705</th>\n",
              "      <td>2020-07-20</td>\n",
              "      <td>22.794561</td>\n",
              "      <td>22.794561</td>\n",
              "      <td>22.507553</td>\n",
              "      <td>22.545317</td>\n",
              "      <td>19.905972</td>\n",
              "      <td>42896938</td>\n",
              "    </tr>\n",
              "    <tr>\n",
              "      <th>2706</th>\n",
              "      <td>2020-07-21</td>\n",
              "      <td>22.575529</td>\n",
              "      <td>22.975830</td>\n",
              "      <td>22.552870</td>\n",
              "      <td>22.847431</td>\n",
              "      <td>20.172720</td>\n",
              "      <td>45341572</td>\n",
              "    </tr>\n",
              "  </tbody>\n",
              "</table>\n",
              "</div>\n",
              "      <button class=\"colab-df-convert\" onclick=\"convertToInteractive('df-57d05c31-0bbf-46af-9ed7-b8bcb6ce7f97')\"\n",
              "              title=\"Convert this dataframe to an interactive table.\"\n",
              "              style=\"display:none;\">\n",
              "        \n",
              "  <svg xmlns=\"http://www.w3.org/2000/svg\" height=\"24px\"viewBox=\"0 0 24 24\"\n",
              "       width=\"24px\">\n",
              "    <path d=\"M0 0h24v24H0V0z\" fill=\"none\"/>\n",
              "    <path d=\"M18.56 5.44l.94 2.06.94-2.06 2.06-.94-2.06-.94-.94-2.06-.94 2.06-2.06.94zm-11 1L8.5 8.5l.94-2.06 2.06-.94-2.06-.94L8.5 2.5l-.94 2.06-2.06.94zm10 10l.94 2.06.94-2.06 2.06-.94-2.06-.94-.94-2.06-.94 2.06-2.06.94z\"/><path d=\"M17.41 7.96l-1.37-1.37c-.4-.4-.92-.59-1.43-.59-.52 0-1.04.2-1.43.59L10.3 9.45l-7.72 7.72c-.78.78-.78 2.05 0 2.83L4 21.41c.39.39.9.59 1.41.59.51 0 1.02-.2 1.41-.59l7.78-7.78 2.81-2.81c.8-.78.8-2.07 0-2.86zM5.41 20L4 18.59l7.72-7.72 1.47 1.35L5.41 20z\"/>\n",
              "  </svg>\n",
              "      </button>\n",
              "      \n",
              "  <style>\n",
              "    .colab-df-container {\n",
              "      display:flex;\n",
              "      flex-wrap:wrap;\n",
              "      gap: 12px;\n",
              "    }\n",
              "\n",
              "    .colab-df-convert {\n",
              "      background-color: #E8F0FE;\n",
              "      border: none;\n",
              "      border-radius: 50%;\n",
              "      cursor: pointer;\n",
              "      display: none;\n",
              "      fill: #1967D2;\n",
              "      height: 32px;\n",
              "      padding: 0 0 0 0;\n",
              "      width: 32px;\n",
              "    }\n",
              "\n",
              "    .colab-df-convert:hover {\n",
              "      background-color: #E2EBFA;\n",
              "      box-shadow: 0px 1px 2px rgba(60, 64, 67, 0.3), 0px 1px 3px 1px rgba(60, 64, 67, 0.15);\n",
              "      fill: #174EA6;\n",
              "    }\n",
              "\n",
              "    [theme=dark] .colab-df-convert {\n",
              "      background-color: #3B4455;\n",
              "      fill: #D2E3FC;\n",
              "    }\n",
              "\n",
              "    [theme=dark] .colab-df-convert:hover {\n",
              "      background-color: #434B5C;\n",
              "      box-shadow: 0px 1px 3px 1px rgba(0, 0, 0, 0.15);\n",
              "      filter: drop-shadow(0px 1px 2px rgba(0, 0, 0, 0.3));\n",
              "      fill: #FFFFFF;\n",
              "    }\n",
              "  </style>\n",
              "\n",
              "      <script>\n",
              "        const buttonEl =\n",
              "          document.querySelector('#df-57d05c31-0bbf-46af-9ed7-b8bcb6ce7f97 button.colab-df-convert');\n",
              "        buttonEl.style.display =\n",
              "          google.colab.kernel.accessAllowed ? 'block' : 'none';\n",
              "\n",
              "        async function convertToInteractive(key) {\n",
              "          const element = document.querySelector('#df-57d05c31-0bbf-46af-9ed7-b8bcb6ce7f97');\n",
              "          const dataTable =\n",
              "            await google.colab.kernel.invokeFunction('convertToInteractive',\n",
              "                                                     [key], {});\n",
              "          if (!dataTable) return;\n",
              "\n",
              "          const docLinkHtml = 'Like what you see? Visit the ' +\n",
              "            '<a target=\"_blank\" href=https://colab.research.google.com/notebooks/data_table.ipynb>data table notebook</a>'\n",
              "            + ' to learn more about interactive tables.';\n",
              "          element.innerHTML = '';\n",
              "          dataTable['output_type'] = 'display_data';\n",
              "          await google.colab.output.renderOutput(dataTable, element);\n",
              "          const docLink = document.createElement('div');\n",
              "          docLink.innerHTML = docLinkHtml;\n",
              "          element.appendChild(docLink);\n",
              "        }\n",
              "      </script>\n",
              "    </div>\n",
              "  </div>\n",
              "  "
            ]
          },
          "metadata": {},
          "execution_count": 119
        }
      ]
    },
    {
      "cell_type": "code",
      "source": [
        "start_date = start_dt\n",
        "end_date = end_dt\n",
        "df_prices = pd.DataFrame(yahoo_data)\n",
        "df_prices['Date'] =  pd.to_datetime(df_prices['Date'], format='%Y-%m-%d')"
      ],
      "metadata": {
        "id": "0lz6vBBxjSJR"
      },
      "execution_count": 120,
      "outputs": []
    },
    {
      "cell_type": "code",
      "source": [
        "df_prices.sample(5)"
      ],
      "metadata": {
        "colab": {
          "base_uri": "https://localhost:8080/",
          "height": 206
        },
        "outputId": "2a2ab2d3-67fd-48ef-84be-924831917787",
        "id": "UxuzYqIajSJR"
      },
      "execution_count": 121,
      "outputs": [
        {
          "output_type": "execute_result",
          "data": {
            "text/plain": [
              "           Date       Open       High        Low      Close  Adj Close  \\\n",
              "559  2012-01-06  22.711479  22.726585  22.356495  22.416918  12.476050   \n",
              "186  2010-07-16  18.859516  18.957705  18.617825  18.648035   9.518166   \n",
              "145  2010-05-18  19.531721  19.561934  19.116314  19.327795   9.695384   \n",
              "2616 2020-03-12  24.063444  25.249245  23.459215  23.663141  20.181248   \n",
              "1558 2015-12-28  26.148035  26.344412  26.132931  26.253777  17.787186   \n",
              "\n",
              "         Volume  \n",
              "559    60348979  \n",
              "186    44056100  \n",
              "145    50265925  \n",
              "2616  111500925  \n",
              "1558   18441202  "
            ],
            "text/html": [
              "\n",
              "  <div id=\"df-34b223ba-9c16-4b6a-a8af-25cfa9ea3bbc\">\n",
              "    <div class=\"colab-df-container\">\n",
              "      <div>\n",
              "<style scoped>\n",
              "    .dataframe tbody tr th:only-of-type {\n",
              "        vertical-align: middle;\n",
              "    }\n",
              "\n",
              "    .dataframe tbody tr th {\n",
              "        vertical-align: top;\n",
              "    }\n",
              "\n",
              "    .dataframe thead th {\n",
              "        text-align: right;\n",
              "    }\n",
              "</style>\n",
              "<table border=\"1\" class=\"dataframe\">\n",
              "  <thead>\n",
              "    <tr style=\"text-align: right;\">\n",
              "      <th></th>\n",
              "      <th>Date</th>\n",
              "      <th>Open</th>\n",
              "      <th>High</th>\n",
              "      <th>Low</th>\n",
              "      <th>Close</th>\n",
              "      <th>Adj Close</th>\n",
              "      <th>Volume</th>\n",
              "    </tr>\n",
              "  </thead>\n",
              "  <tbody>\n",
              "    <tr>\n",
              "      <th>559</th>\n",
              "      <td>2012-01-06</td>\n",
              "      <td>22.711479</td>\n",
              "      <td>22.726585</td>\n",
              "      <td>22.356495</td>\n",
              "      <td>22.416918</td>\n",
              "      <td>12.476050</td>\n",
              "      <td>60348979</td>\n",
              "    </tr>\n",
              "    <tr>\n",
              "      <th>186</th>\n",
              "      <td>2010-07-16</td>\n",
              "      <td>18.859516</td>\n",
              "      <td>18.957705</td>\n",
              "      <td>18.617825</td>\n",
              "      <td>18.648035</td>\n",
              "      <td>9.518166</td>\n",
              "      <td>44056100</td>\n",
              "    </tr>\n",
              "    <tr>\n",
              "      <th>145</th>\n",
              "      <td>2010-05-18</td>\n",
              "      <td>19.531721</td>\n",
              "      <td>19.561934</td>\n",
              "      <td>19.116314</td>\n",
              "      <td>19.327795</td>\n",
              "      <td>9.695384</td>\n",
              "      <td>50265925</td>\n",
              "    </tr>\n",
              "    <tr>\n",
              "      <th>2616</th>\n",
              "      <td>2020-03-12</td>\n",
              "      <td>24.063444</td>\n",
              "      <td>25.249245</td>\n",
              "      <td>23.459215</td>\n",
              "      <td>23.663141</td>\n",
              "      <td>20.181248</td>\n",
              "      <td>111500925</td>\n",
              "    </tr>\n",
              "    <tr>\n",
              "      <th>1558</th>\n",
              "      <td>2015-12-28</td>\n",
              "      <td>26.148035</td>\n",
              "      <td>26.344412</td>\n",
              "      <td>26.132931</td>\n",
              "      <td>26.253777</td>\n",
              "      <td>17.787186</td>\n",
              "      <td>18441202</td>\n",
              "    </tr>\n",
              "  </tbody>\n",
              "</table>\n",
              "</div>\n",
              "      <button class=\"colab-df-convert\" onclick=\"convertToInteractive('df-34b223ba-9c16-4b6a-a8af-25cfa9ea3bbc')\"\n",
              "              title=\"Convert this dataframe to an interactive table.\"\n",
              "              style=\"display:none;\">\n",
              "        \n",
              "  <svg xmlns=\"http://www.w3.org/2000/svg\" height=\"24px\"viewBox=\"0 0 24 24\"\n",
              "       width=\"24px\">\n",
              "    <path d=\"M0 0h24v24H0V0z\" fill=\"none\"/>\n",
              "    <path d=\"M18.56 5.44l.94 2.06.94-2.06 2.06-.94-2.06-.94-.94-2.06-.94 2.06-2.06.94zm-11 1L8.5 8.5l.94-2.06 2.06-.94-2.06-.94L8.5 2.5l-.94 2.06-2.06.94zm10 10l.94 2.06.94-2.06 2.06-.94-2.06-.94-.94-2.06-.94 2.06-2.06.94z\"/><path d=\"M17.41 7.96l-1.37-1.37c-.4-.4-.92-.59-1.43-.59-.52 0-1.04.2-1.43.59L10.3 9.45l-7.72 7.72c-.78.78-.78 2.05 0 2.83L4 21.41c.39.39.9.59 1.41.59.51 0 1.02-.2 1.41-.59l7.78-7.78 2.81-2.81c.8-.78.8-2.07 0-2.86zM5.41 20L4 18.59l7.72-7.72 1.47 1.35L5.41 20z\"/>\n",
              "  </svg>\n",
              "      </button>\n",
              "      \n",
              "  <style>\n",
              "    .colab-df-container {\n",
              "      display:flex;\n",
              "      flex-wrap:wrap;\n",
              "      gap: 12px;\n",
              "    }\n",
              "\n",
              "    .colab-df-convert {\n",
              "      background-color: #E8F0FE;\n",
              "      border: none;\n",
              "      border-radius: 50%;\n",
              "      cursor: pointer;\n",
              "      display: none;\n",
              "      fill: #1967D2;\n",
              "      height: 32px;\n",
              "      padding: 0 0 0 0;\n",
              "      width: 32px;\n",
              "    }\n",
              "\n",
              "    .colab-df-convert:hover {\n",
              "      background-color: #E2EBFA;\n",
              "      box-shadow: 0px 1px 2px rgba(60, 64, 67, 0.3), 0px 1px 3px 1px rgba(60, 64, 67, 0.15);\n",
              "      fill: #174EA6;\n",
              "    }\n",
              "\n",
              "    [theme=dark] .colab-df-convert {\n",
              "      background-color: #3B4455;\n",
              "      fill: #D2E3FC;\n",
              "    }\n",
              "\n",
              "    [theme=dark] .colab-df-convert:hover {\n",
              "      background-color: #434B5C;\n",
              "      box-shadow: 0px 1px 3px 1px rgba(0, 0, 0, 0.15);\n",
              "      filter: drop-shadow(0px 1px 2px rgba(0, 0, 0, 0.3));\n",
              "      fill: #FFFFFF;\n",
              "    }\n",
              "  </style>\n",
              "\n",
              "      <script>\n",
              "        const buttonEl =\n",
              "          document.querySelector('#df-34b223ba-9c16-4b6a-a8af-25cfa9ea3bbc button.colab-df-convert');\n",
              "        buttonEl.style.display =\n",
              "          google.colab.kernel.accessAllowed ? 'block' : 'none';\n",
              "\n",
              "        async function convertToInteractive(key) {\n",
              "          const element = document.querySelector('#df-34b223ba-9c16-4b6a-a8af-25cfa9ea3bbc');\n",
              "          const dataTable =\n",
              "            await google.colab.kernel.invokeFunction('convertToInteractive',\n",
              "                                                     [key], {});\n",
              "          if (!dataTable) return;\n",
              "\n",
              "          const docLinkHtml = 'Like what you see? Visit the ' +\n",
              "            '<a target=\"_blank\" href=https://colab.research.google.com/notebooks/data_table.ipynb>data table notebook</a>'\n",
              "            + ' to learn more about interactive tables.';\n",
              "          element.innerHTML = '';\n",
              "          dataTable['output_type'] = 'display_data';\n",
              "          await google.colab.output.renderOutput(dataTable, element);\n",
              "          const docLink = document.createElement('div');\n",
              "          docLink.innerHTML = docLinkHtml;\n",
              "          element.appendChild(docLink);\n",
              "        }\n",
              "      </script>\n",
              "    </div>\n",
              "  </div>\n",
              "  "
            ]
          },
          "metadata": {},
          "execution_count": 121
        }
      ]
    },
    {
      "cell_type": "code",
      "source": [
        "tweet_dates = (df_st1['Date'].astype(str)).tolist()\n",
        "stock_dates = (df_prices['Date'].astype(str)).tolist()\n",
        "print(len(tweet_dates))\n",
        "print(len(stock_dates))"
      ],
      "metadata": {
        "colab": {
          "base_uri": "https://localhost:8080/"
        },
        "outputId": "e46b73b9-eb83-4db5-8a22-5e9df8dcf2cc",
        "id": "JqY7gdEQjSJR"
      },
      "execution_count": 122,
      "outputs": [
        {
          "output_type": "stream",
          "name": "stdout",
          "text": [
            "70316\n",
            "2707\n"
          ]
        }
      ]
    },
    {
      "cell_type": "markdown",
      "source": [
        "Now we come to the part that is diffrent form our binary labeling method. Here i will comment again and go through. Its basic math and using a definiton to either give it a 1,0, or -1 if the percentage change is over 0.5, between 0.5 and -0.5, or lower than -0.5. Here we also run the two method at the same time. Sameday and previous day gets done for the same company in one run but the code is a bit longer."
      ],
      "metadata": {
        "id": "hvHhu-WO59hH"
      }
    },
    {
      "cell_type": "code",
      "source": [
        "#Definition we will call back til. Ch stand for change, and if the stock price change is smaller than 0.5 but between -0.5 it will be 0, over 0.5 is a 1 and under -0.5 is a -1. \n",
        "def get_label(ch):\n",
        "  if ch>0.5:\n",
        "    return 1\n",
        "  elif ch<-0.5:\n",
        "    return -1\n",
        "  else:\n",
        "    return 0"
      ],
      "metadata": {
        "id": "ape2DtPVC9Zh"
      },
      "execution_count": 123,
      "outputs": []
    },
    {
      "cell_type": "markdown",
      "source": [
        "Firstly we create three empty lists that we will use. One is called date_label, one is called dates_index and one is called date_label_same. We also set stock_open to be the open price from the data frame containing Yahoo Finance data and the same with the close price. "
      ],
      "metadata": {
        "id": "FPJc0qfDEZq6"
      }
    },
    {
      "cell_type": "code",
      "source": [
        "#here we make three empty lists for date_label, dates_index, and date_label_same. \n",
        "date_label = []\n",
        "dates_index = []\n",
        "date_label_same=[]\n",
        "\n",
        "#Stock_close = close price column form yahoo fiance and stock_open is the open column form yahoo finance.\n",
        "stock_close = df_prices['Close']\n",
        "stock_open = df_prices['Open']"
      ],
      "metadata": {
        "id": "RK_e8jGgC_Jv"
      },
      "execution_count": 124,
      "outputs": []
    },
    {
      "cell_type": "markdown",
      "source": [
        "Under in the cell is the code that will label everything with both methods. This is kinda long since we need to firsly do it by calculating the percentage change, then giving it the label is suppose to have. We also need to do it for both methods (same day, and previous day). Therefore the loop is long but its just basic mathemathical percentage caluclations. We also need to fill out the days that there is no data, e.g. public holidays and weekends. "
      ],
      "metadata": {
        "id": "Bg7siqKxEaKA"
      }
    },
    {
      "cell_type": "code",
      "source": [
        "for i in range(1,len(stock_close)):\n",
        "  label=99\n",
        "  daydiff = datetime.strptime(stock_dates[i], \"%Y-%m-%d\") - datetime.strptime(stock_dates[i-1], \"%Y-%m-%d\")\n",
        "  if daydiff.days == 1:\n",
        "    change = ((stock_close[i]-stock_close[i-1])/stock_close[i-1])*100\n",
        "    change_same = ((stock_close[i]-stock_open[i])/stock_open[i])*100\n",
        "    if change>0.5:\n",
        "      label = 1\n",
        "    elif change<-0.5:\n",
        "      label = -1\n",
        "    else:\n",
        "      label = 0\n",
        "    label_same = get_label(change_same)\n",
        "    date_label_same.append((datetime.strptime(stock_dates[i], \"%Y-%m-%d\"), change_same,label_same))\n",
        "    date_label.append((datetime.strptime(stock_dates[i], \"%Y-%m-%d\"), change,label))\n",
        "    dates_index.append(datetime.strptime(stock_dates[i], \"%Y-%m-%d\"))\n",
        "  else:\n",
        "    daysgap = daydiff.days\n",
        "    daysadd = 1\n",
        "    change_l_same = ((stock_close[i]-stock_open[i])/stock_open[i])*100\n",
        "    change_l = ((stock_close[i]-stock_close[i-1])/stock_close[i-1])*100\n",
        "    while daysgap >1:\n",
        "      gapDate = datetime.strptime(stock_dates[i-1], \"%Y-%m-%d\") + timedelta(days=daysadd)\n",
        "      change_g_mean_same = (change_l_same + date_label_same[-1][1])/2\n",
        "      change_g_mean = (change_l + date_label[-1][1])/2\n",
        "      if change_g_mean>0.5:\n",
        "        label = 1\n",
        "      elif change_g_mean<-0.5:\n",
        "        label = -1\n",
        "      else:\n",
        "        label = 0\n",
        "      label_same = get_label(change_g_mean_same)\n",
        "      date_label_same.append((datetime.strptime(datetime.strftime(gapDate, \"%Y-%m-%d\"),\"%Y-%m-%d\"), change_g_mean_same,label_same))\n",
        "      date_label.append((datetime.strptime(datetime.strftime(gapDate, \"%Y-%m-%d\"),\"%Y-%m-%d\"), change_g_mean,label))\n",
        "      dates_index.append(datetime.strptime(datetime.strftime(gapDate, \"%Y-%m-%d\"),\"%Y-%m-%d\"))\n",
        "      daysgap = daysgap - 1\n",
        "      daysadd = daysadd + 1\n",
        "    date_label_same.append((datetime.strptime(stock_dates[i], \"%Y-%m-%d\"), change_l_same,get_label(change_l_same)))\n",
        "    label = get_label(change_l)\n",
        "    date_label.append((datetime.strptime(stock_dates[i], \"%Y-%m-%d\"), change_l,label))\n",
        "    date_check = datetime.strptime(stock_dates[i], \"%Y-%m-%d\")\n",
        "\n",
        "    dates_index.append(date_check)"
      ],
      "metadata": {
        "id": "WkzID0r50_oY"
      },
      "execution_count": 125,
      "outputs": []
    },
    {
      "cell_type": "markdown",
      "source": [
        "Here again we create 4 empty list that we will use. We have labeled each day for both methods for either one of three labels and we then need to go over every message that we have in the dataframe. We wil loop over, and if there is no data for that day we will set it too -99 so wee can drop it later. The change we also add to the orignal data so we can inspect that later if needed."
      ],
      "metadata": {
        "id": "_Nthr6ksDcoD"
      }
    },
    {
      "cell_type": "code",
      "source": [
        "#creates 4 empty lists, for each labeling method and for change for that day.\n",
        "polarity = []\n",
        "change = []\n",
        "polarity_same = []\n",
        "change_same = []\n",
        "\n",
        "#Starts a for loop that will go through all dates in the stocktwits data set\n",
        "for index, row in df_st1.iterrows():\n",
        "  \n",
        "  #\n",
        "  d1 = datetime.strftime(row['Date'], \"%Y-%m-%d\")\t\n",
        "  d2 = datetime.strptime(d1, \"%Y-%m-%d\")\n",
        "  \n",
        "  #If loop if the date in df stocktwits is not in yahoo fiance, and seth the change for same day and previous day to -99 and the polarity to -99. \n",
        "  if d2 not in dates_index:\n",
        "    change.append(-99)\n",
        "    polarity.append(-99)\n",
        "    polarity_same.append(-99)\n",
        "    change_same.append(-99)\n",
        "    continue\n",
        "  \n",
        "  \n",
        "  d_index = dates_index.index(d2)\n",
        "  polarity_same.append(date_label_same[d_index][2])\n",
        "  polarity.append(date_label[d_index][2])\n",
        "  change.append(date_label[d_index][1])\n",
        "\n",
        "df_st1['change'] = change\n",
        "\n",
        "df_st1['label_previous'] = polarity\n",
        "df_st1['label_same'] = polarity_same"
      ],
      "metadata": {
        "id": "0IH4WoJBDcwo"
      },
      "execution_count": 126,
      "outputs": []
    },
    {
      "cell_type": "markdown",
      "source": [
        "Now the labeling process is done with the labels and the code under is the same as what we used in binary labeling."
      ],
      "metadata": {
        "id": "s1I_QgtODdl7"
      }
    },
    {
      "cell_type": "code",
      "source": [
        "df_st1['message'] = df_st1['message'].str.lower()\n",
        "message = df_st1['message'].tolist()\n",
        "def remove_stopwords(msg):\n",
        "    filtered_sentence = [w for w in msg_tokens if not w in stop_words]\n",
        "    return filtered_sentence\n",
        "def remove_punctuation_re(x):\n",
        "    x = ' '.join(re.sub(\"https?://\\S+\",\"\",x).split())     \n",
        "    x = ' '.join(re.sub(\"^@\\S+|\\s@\\S+\",\"\",x).split())     \n",
        "    x = ' '.join(re.sub(r'[^$\\w\\s]',\" \",x).split())\n",
        "    x = ' '.join(re.sub(r'[^\\w\\s]',\" \",x).split())        \n",
        "    x = ' '.join(re.sub(r'_',\" \",x).split())              \n",
        "    return x\n",
        "def rpt_replace(match):\n",
        "    print(match.group(1))\n",
        "    return match.group(1)+match.group(1)\n",
        "def processRepeatings(data):\n",
        "    re_t= re.sub(message_rpt, rpt_replace, data )\n",
        "    return re_t\n",
        "stop_words = sw.words(\"english\")\n",
        "tweet_tokenizer = TweetTokenizer()\n",
        "detokenizer = TreebankWordDetokenizer()\n",
        "message_rpt = re.compile(r\"(.)\\1{2,}\", re.IGNORECASE)\n",
        "seg_tw = Segmenter(corpus=\"twitter\")\n",
        "message_p = []\n",
        "for msg in message:\n",
        "    if msg == '0':\n",
        "      message_p.append('-1')\n",
        "    else:\n",
        "      msg = emoji.demojize(msg)\n",
        "      msg = contractions.fix(msg)\n",
        "      msg = remove_punctuation_re(msg) \n",
        "      msg_tokens = tweet_tokenizer.tokenize(msg)\n",
        "      message_seg = []\n",
        "      for w in msg_tokens:\n",
        "        if len(w)>=300:\n",
        "          w=w[:100]\n",
        "          print(w)\n",
        "        message_seg.append(seg_tw.segment(w))\n",
        "      msg = remove_stopwords(message_seg)\n",
        "      if 'rt' in msg:\n",
        "        message_p.append('-1')\n",
        "      else: \n",
        "        msg = detokenizer.detokenize(msg)\n",
        "        msg = processRepeatings(msg)\n",
        "        message_p.append(msg)\n",
        "df_st1['message'] = message_p\n",
        "df_st1.drop(df_st1[df_st1['message'] == '-1'].index, inplace = True) "
      ],
      "metadata": {
        "id": "nh8-JJuamsJP"
      },
      "execution_count": null,
      "outputs": []
    },
    {
      "cell_type": "markdown",
      "source": [
        "Since we did the labeling for both method at the same time, we need to create a copy of the original df_st1, calling it df_st2 and then drop the one of the method columns and rename it to just label. We will also here dropp everything that has the value equal -99 meaning that there is no data for the day."
      ],
      "metadata": {
        "id": "N28jF2CaDnH1"
      }
    },
    {
      "cell_type": "code",
      "source": [
        "#makes a copy of the original dataframe so we have two dataframes (one for each labeling method)\n",
        "df_st2 = df_st1.copy()\n",
        "\n",
        "#Drop the method that the dataframe should not have.\n",
        "df_st1.drop(columns=['label_same'], axis=1, inplace=True)\n",
        "df_st2.drop(columns=['label_previous'], axis=1, inplace=True)\n",
        "\n",
        "#Rename the method to just label\n",
        "df_st2.rename(columns = {'label_same':'label'}, inplace = True) \n",
        "df_st1.rename(columns = {'label_previous':'label'}, inplace = True) \n",
        "\n",
        "#Drops every rows that the label equals -99\n",
        "df_st1.drop(df_st1[df_st1['label'] == -99].index, inplace = True) \n",
        "df_st2.drop(df_st2[df_st2['label'] == -99].index, inplace = True) "
      ],
      "metadata": {
        "id": "CJu38I4lmsSE"
      },
      "execution_count": 128,
      "outputs": []
    },
    {
      "cell_type": "markdown",
      "source": [
        "Now all the coding for the percentage labeling method is done. We can now inspect the two dataframe we have gotten from running all of the code. This is a pre-processing, cleaned, and labeled dataframes that we will use for our regression and visualization. "
      ],
      "metadata": {
        "id": "ulZXvheHnMUC"
      }
    },
    {
      "cell_type": "code",
      "source": [
        "df_st1.head()"
      ],
      "metadata": {
        "colab": {
          "base_uri": "https://localhost:8080/",
          "height": 206
        },
        "id": "hC_vt5GmnL0f",
        "outputId": "24171f5b-3347-46a8-f897-87bd52d6d957"
      },
      "execution_count": 129,
      "outputs": [
        {
          "output_type": "execute_result",
          "data": {
            "text/plain": [
              "  symbol                                            message  \\\n",
              "0      T  uber say offer imminent thinks emotional whene...   \n",
              "1      T                 weird stock need close 30 4 rocket   \n",
              "2      T                          waiting go load calls smh   \n",
              "3      T  pretty good behavior today ideally end day see...   \n",
              "4      T  citi reiterates amp headed earnings expecting ...   \n",
              "\n",
              "             datetime     user  message_id        Date      Time    change  \\\n",
              "0 2020-07-21 20:32:35  2892577   229708771  2020-07-21  20:32:35  1.340032   \n",
              "1 2020-07-21 20:11:39  1194576   229699883  2020-07-21  20:11:39  1.340032   \n",
              "2 2020-07-21 19:12:10  3460289   229672486  2020-07-21  19:12:10  1.340032   \n",
              "3 2020-07-21 18:45:06  3393453   229660767  2020-07-21  18:45:06  1.340032   \n",
              "4 2020-07-21 18:34:05  3729123   229656088  2020-07-21  18:34:05  1.340032   \n",
              "\n",
              "   label  \n",
              "0      1  \n",
              "1      1  \n",
              "2      1  \n",
              "3      1  \n",
              "4      1  "
            ],
            "text/html": [
              "\n",
              "  <div id=\"df-23ed5aa6-5436-422a-bc37-09316aaf4482\">\n",
              "    <div class=\"colab-df-container\">\n",
              "      <div>\n",
              "<style scoped>\n",
              "    .dataframe tbody tr th:only-of-type {\n",
              "        vertical-align: middle;\n",
              "    }\n",
              "\n",
              "    .dataframe tbody tr th {\n",
              "        vertical-align: top;\n",
              "    }\n",
              "\n",
              "    .dataframe thead th {\n",
              "        text-align: right;\n",
              "    }\n",
              "</style>\n",
              "<table border=\"1\" class=\"dataframe\">\n",
              "  <thead>\n",
              "    <tr style=\"text-align: right;\">\n",
              "      <th></th>\n",
              "      <th>symbol</th>\n",
              "      <th>message</th>\n",
              "      <th>datetime</th>\n",
              "      <th>user</th>\n",
              "      <th>message_id</th>\n",
              "      <th>Date</th>\n",
              "      <th>Time</th>\n",
              "      <th>change</th>\n",
              "      <th>label</th>\n",
              "    </tr>\n",
              "  </thead>\n",
              "  <tbody>\n",
              "    <tr>\n",
              "      <th>0</th>\n",
              "      <td>T</td>\n",
              "      <td>uber say offer imminent thinks emotional whene...</td>\n",
              "      <td>2020-07-21 20:32:35</td>\n",
              "      <td>2892577</td>\n",
              "      <td>229708771</td>\n",
              "      <td>2020-07-21</td>\n",
              "      <td>20:32:35</td>\n",
              "      <td>1.340032</td>\n",
              "      <td>1</td>\n",
              "    </tr>\n",
              "    <tr>\n",
              "      <th>1</th>\n",
              "      <td>T</td>\n",
              "      <td>weird stock need close 30 4 rocket</td>\n",
              "      <td>2020-07-21 20:11:39</td>\n",
              "      <td>1194576</td>\n",
              "      <td>229699883</td>\n",
              "      <td>2020-07-21</td>\n",
              "      <td>20:11:39</td>\n",
              "      <td>1.340032</td>\n",
              "      <td>1</td>\n",
              "    </tr>\n",
              "    <tr>\n",
              "      <th>2</th>\n",
              "      <td>T</td>\n",
              "      <td>waiting go load calls smh</td>\n",
              "      <td>2020-07-21 19:12:10</td>\n",
              "      <td>3460289</td>\n",
              "      <td>229672486</td>\n",
              "      <td>2020-07-21</td>\n",
              "      <td>19:12:10</td>\n",
              "      <td>1.340032</td>\n",
              "      <td>1</td>\n",
              "    </tr>\n",
              "    <tr>\n",
              "      <th>3</th>\n",
              "      <td>T</td>\n",
              "      <td>pretty good behavior today ideally end day see...</td>\n",
              "      <td>2020-07-21 18:45:06</td>\n",
              "      <td>3393453</td>\n",
              "      <td>229660767</td>\n",
              "      <td>2020-07-21</td>\n",
              "      <td>18:45:06</td>\n",
              "      <td>1.340032</td>\n",
              "      <td>1</td>\n",
              "    </tr>\n",
              "    <tr>\n",
              "      <th>4</th>\n",
              "      <td>T</td>\n",
              "      <td>citi reiterates amp headed earnings expecting ...</td>\n",
              "      <td>2020-07-21 18:34:05</td>\n",
              "      <td>3729123</td>\n",
              "      <td>229656088</td>\n",
              "      <td>2020-07-21</td>\n",
              "      <td>18:34:05</td>\n",
              "      <td>1.340032</td>\n",
              "      <td>1</td>\n",
              "    </tr>\n",
              "  </tbody>\n",
              "</table>\n",
              "</div>\n",
              "      <button class=\"colab-df-convert\" onclick=\"convertToInteractive('df-23ed5aa6-5436-422a-bc37-09316aaf4482')\"\n",
              "              title=\"Convert this dataframe to an interactive table.\"\n",
              "              style=\"display:none;\">\n",
              "        \n",
              "  <svg xmlns=\"http://www.w3.org/2000/svg\" height=\"24px\"viewBox=\"0 0 24 24\"\n",
              "       width=\"24px\">\n",
              "    <path d=\"M0 0h24v24H0V0z\" fill=\"none\"/>\n",
              "    <path d=\"M18.56 5.44l.94 2.06.94-2.06 2.06-.94-2.06-.94-.94-2.06-.94 2.06-2.06.94zm-11 1L8.5 8.5l.94-2.06 2.06-.94-2.06-.94L8.5 2.5l-.94 2.06-2.06.94zm10 10l.94 2.06.94-2.06 2.06-.94-2.06-.94-.94-2.06-.94 2.06-2.06.94z\"/><path d=\"M17.41 7.96l-1.37-1.37c-.4-.4-.92-.59-1.43-.59-.52 0-1.04.2-1.43.59L10.3 9.45l-7.72 7.72c-.78.78-.78 2.05 0 2.83L4 21.41c.39.39.9.59 1.41.59.51 0 1.02-.2 1.41-.59l7.78-7.78 2.81-2.81c.8-.78.8-2.07 0-2.86zM5.41 20L4 18.59l7.72-7.72 1.47 1.35L5.41 20z\"/>\n",
              "  </svg>\n",
              "      </button>\n",
              "      \n",
              "  <style>\n",
              "    .colab-df-container {\n",
              "      display:flex;\n",
              "      flex-wrap:wrap;\n",
              "      gap: 12px;\n",
              "    }\n",
              "\n",
              "    .colab-df-convert {\n",
              "      background-color: #E8F0FE;\n",
              "      border: none;\n",
              "      border-radius: 50%;\n",
              "      cursor: pointer;\n",
              "      display: none;\n",
              "      fill: #1967D2;\n",
              "      height: 32px;\n",
              "      padding: 0 0 0 0;\n",
              "      width: 32px;\n",
              "    }\n",
              "\n",
              "    .colab-df-convert:hover {\n",
              "      background-color: #E2EBFA;\n",
              "      box-shadow: 0px 1px 2px rgba(60, 64, 67, 0.3), 0px 1px 3px 1px rgba(60, 64, 67, 0.15);\n",
              "      fill: #174EA6;\n",
              "    }\n",
              "\n",
              "    [theme=dark] .colab-df-convert {\n",
              "      background-color: #3B4455;\n",
              "      fill: #D2E3FC;\n",
              "    }\n",
              "\n",
              "    [theme=dark] .colab-df-convert:hover {\n",
              "      background-color: #434B5C;\n",
              "      box-shadow: 0px 1px 3px 1px rgba(0, 0, 0, 0.15);\n",
              "      filter: drop-shadow(0px 1px 2px rgba(0, 0, 0, 0.3));\n",
              "      fill: #FFFFFF;\n",
              "    }\n",
              "  </style>\n",
              "\n",
              "      <script>\n",
              "        const buttonEl =\n",
              "          document.querySelector('#df-23ed5aa6-5436-422a-bc37-09316aaf4482 button.colab-df-convert');\n",
              "        buttonEl.style.display =\n",
              "          google.colab.kernel.accessAllowed ? 'block' : 'none';\n",
              "\n",
              "        async function convertToInteractive(key) {\n",
              "          const element = document.querySelector('#df-23ed5aa6-5436-422a-bc37-09316aaf4482');\n",
              "          const dataTable =\n",
              "            await google.colab.kernel.invokeFunction('convertToInteractive',\n",
              "                                                     [key], {});\n",
              "          if (!dataTable) return;\n",
              "\n",
              "          const docLinkHtml = 'Like what you see? Visit the ' +\n",
              "            '<a target=\"_blank\" href=https://colab.research.google.com/notebooks/data_table.ipynb>data table notebook</a>'\n",
              "            + ' to learn more about interactive tables.';\n",
              "          element.innerHTML = '';\n",
              "          dataTable['output_type'] = 'display_data';\n",
              "          await google.colab.output.renderOutput(dataTable, element);\n",
              "          const docLink = document.createElement('div');\n",
              "          docLink.innerHTML = docLinkHtml;\n",
              "          element.appendChild(docLink);\n",
              "        }\n",
              "      </script>\n",
              "    </div>\n",
              "  </div>\n",
              "  "
            ]
          },
          "metadata": {},
          "execution_count": 129
        }
      ]
    },
    {
      "cell_type": "code",
      "source": [
        "df_st1['label'].value_counts()"
      ],
      "metadata": {
        "colab": {
          "base_uri": "https://localhost:8080/"
        },
        "id": "nzddcRoRnOnJ",
        "outputId": "224a51a8-8c98-4142-903d-8bcdfd2020da"
      },
      "execution_count": 130,
      "outputs": [
        {
          "output_type": "execute_result",
          "data": {
            "text/plain": [
              " 1    24701\n",
              " 0    23987\n",
              "-1    21403\n",
              "Name: label, dtype: int64"
            ]
          },
          "metadata": {},
          "execution_count": 130
        }
      ]
    },
    {
      "cell_type": "code",
      "source": [
        "df_st2.head()"
      ],
      "metadata": {
        "colab": {
          "base_uri": "https://localhost:8080/",
          "height": 206
        },
        "id": "M9U1oRcLnL_u",
        "outputId": "da8538e2-29b3-4a93-af1b-a3501c6ec671"
      },
      "execution_count": 131,
      "outputs": [
        {
          "output_type": "execute_result",
          "data": {
            "text/plain": [
              "  symbol                                            message  \\\n",
              "0      T  uber say offer imminent thinks emotional whene...   \n",
              "1      T                 weird stock need close 30 4 rocket   \n",
              "2      T                          waiting go load calls smh   \n",
              "3      T  pretty good behavior today ideally end day see...   \n",
              "4      T  citi reiterates amp headed earnings expecting ...   \n",
              "\n",
              "             datetime     user  message_id        Date      Time    change  \\\n",
              "0 2020-07-21 20:32:35  2892577   229708771  2020-07-21  20:32:35  1.340032   \n",
              "1 2020-07-21 20:11:39  1194576   229699883  2020-07-21  20:11:39  1.340032   \n",
              "2 2020-07-21 19:12:10  3460289   229672486  2020-07-21  19:12:10  1.340032   \n",
              "3 2020-07-21 18:45:06  3393453   229660767  2020-07-21  18:45:06  1.340032   \n",
              "4 2020-07-21 18:34:05  3729123   229656088  2020-07-21  18:34:05  1.340032   \n",
              "\n",
              "   label  \n",
              "0      1  \n",
              "1      1  \n",
              "2      1  \n",
              "3      1  \n",
              "4      1  "
            ],
            "text/html": [
              "\n",
              "  <div id=\"df-19bb9870-78af-483a-a7c4-c8b3bad46687\">\n",
              "    <div class=\"colab-df-container\">\n",
              "      <div>\n",
              "<style scoped>\n",
              "    .dataframe tbody tr th:only-of-type {\n",
              "        vertical-align: middle;\n",
              "    }\n",
              "\n",
              "    .dataframe tbody tr th {\n",
              "        vertical-align: top;\n",
              "    }\n",
              "\n",
              "    .dataframe thead th {\n",
              "        text-align: right;\n",
              "    }\n",
              "</style>\n",
              "<table border=\"1\" class=\"dataframe\">\n",
              "  <thead>\n",
              "    <tr style=\"text-align: right;\">\n",
              "      <th></th>\n",
              "      <th>symbol</th>\n",
              "      <th>message</th>\n",
              "      <th>datetime</th>\n",
              "      <th>user</th>\n",
              "      <th>message_id</th>\n",
              "      <th>Date</th>\n",
              "      <th>Time</th>\n",
              "      <th>change</th>\n",
              "      <th>label</th>\n",
              "    </tr>\n",
              "  </thead>\n",
              "  <tbody>\n",
              "    <tr>\n",
              "      <th>0</th>\n",
              "      <td>T</td>\n",
              "      <td>uber say offer imminent thinks emotional whene...</td>\n",
              "      <td>2020-07-21 20:32:35</td>\n",
              "      <td>2892577</td>\n",
              "      <td>229708771</td>\n",
              "      <td>2020-07-21</td>\n",
              "      <td>20:32:35</td>\n",
              "      <td>1.340032</td>\n",
              "      <td>1</td>\n",
              "    </tr>\n",
              "    <tr>\n",
              "      <th>1</th>\n",
              "      <td>T</td>\n",
              "      <td>weird stock need close 30 4 rocket</td>\n",
              "      <td>2020-07-21 20:11:39</td>\n",
              "      <td>1194576</td>\n",
              "      <td>229699883</td>\n",
              "      <td>2020-07-21</td>\n",
              "      <td>20:11:39</td>\n",
              "      <td>1.340032</td>\n",
              "      <td>1</td>\n",
              "    </tr>\n",
              "    <tr>\n",
              "      <th>2</th>\n",
              "      <td>T</td>\n",
              "      <td>waiting go load calls smh</td>\n",
              "      <td>2020-07-21 19:12:10</td>\n",
              "      <td>3460289</td>\n",
              "      <td>229672486</td>\n",
              "      <td>2020-07-21</td>\n",
              "      <td>19:12:10</td>\n",
              "      <td>1.340032</td>\n",
              "      <td>1</td>\n",
              "    </tr>\n",
              "    <tr>\n",
              "      <th>3</th>\n",
              "      <td>T</td>\n",
              "      <td>pretty good behavior today ideally end day see...</td>\n",
              "      <td>2020-07-21 18:45:06</td>\n",
              "      <td>3393453</td>\n",
              "      <td>229660767</td>\n",
              "      <td>2020-07-21</td>\n",
              "      <td>18:45:06</td>\n",
              "      <td>1.340032</td>\n",
              "      <td>1</td>\n",
              "    </tr>\n",
              "    <tr>\n",
              "      <th>4</th>\n",
              "      <td>T</td>\n",
              "      <td>citi reiterates amp headed earnings expecting ...</td>\n",
              "      <td>2020-07-21 18:34:05</td>\n",
              "      <td>3729123</td>\n",
              "      <td>229656088</td>\n",
              "      <td>2020-07-21</td>\n",
              "      <td>18:34:05</td>\n",
              "      <td>1.340032</td>\n",
              "      <td>1</td>\n",
              "    </tr>\n",
              "  </tbody>\n",
              "</table>\n",
              "</div>\n",
              "      <button class=\"colab-df-convert\" onclick=\"convertToInteractive('df-19bb9870-78af-483a-a7c4-c8b3bad46687')\"\n",
              "              title=\"Convert this dataframe to an interactive table.\"\n",
              "              style=\"display:none;\">\n",
              "        \n",
              "  <svg xmlns=\"http://www.w3.org/2000/svg\" height=\"24px\"viewBox=\"0 0 24 24\"\n",
              "       width=\"24px\">\n",
              "    <path d=\"M0 0h24v24H0V0z\" fill=\"none\"/>\n",
              "    <path d=\"M18.56 5.44l.94 2.06.94-2.06 2.06-.94-2.06-.94-.94-2.06-.94 2.06-2.06.94zm-11 1L8.5 8.5l.94-2.06 2.06-.94-2.06-.94L8.5 2.5l-.94 2.06-2.06.94zm10 10l.94 2.06.94-2.06 2.06-.94-2.06-.94-.94-2.06-.94 2.06-2.06.94z\"/><path d=\"M17.41 7.96l-1.37-1.37c-.4-.4-.92-.59-1.43-.59-.52 0-1.04.2-1.43.59L10.3 9.45l-7.72 7.72c-.78.78-.78 2.05 0 2.83L4 21.41c.39.39.9.59 1.41.59.51 0 1.02-.2 1.41-.59l7.78-7.78 2.81-2.81c.8-.78.8-2.07 0-2.86zM5.41 20L4 18.59l7.72-7.72 1.47 1.35L5.41 20z\"/>\n",
              "  </svg>\n",
              "      </button>\n",
              "      \n",
              "  <style>\n",
              "    .colab-df-container {\n",
              "      display:flex;\n",
              "      flex-wrap:wrap;\n",
              "      gap: 12px;\n",
              "    }\n",
              "\n",
              "    .colab-df-convert {\n",
              "      background-color: #E8F0FE;\n",
              "      border: none;\n",
              "      border-radius: 50%;\n",
              "      cursor: pointer;\n",
              "      display: none;\n",
              "      fill: #1967D2;\n",
              "      height: 32px;\n",
              "      padding: 0 0 0 0;\n",
              "      width: 32px;\n",
              "    }\n",
              "\n",
              "    .colab-df-convert:hover {\n",
              "      background-color: #E2EBFA;\n",
              "      box-shadow: 0px 1px 2px rgba(60, 64, 67, 0.3), 0px 1px 3px 1px rgba(60, 64, 67, 0.15);\n",
              "      fill: #174EA6;\n",
              "    }\n",
              "\n",
              "    [theme=dark] .colab-df-convert {\n",
              "      background-color: #3B4455;\n",
              "      fill: #D2E3FC;\n",
              "    }\n",
              "\n",
              "    [theme=dark] .colab-df-convert:hover {\n",
              "      background-color: #434B5C;\n",
              "      box-shadow: 0px 1px 3px 1px rgba(0, 0, 0, 0.15);\n",
              "      filter: drop-shadow(0px 1px 2px rgba(0, 0, 0, 0.3));\n",
              "      fill: #FFFFFF;\n",
              "    }\n",
              "  </style>\n",
              "\n",
              "      <script>\n",
              "        const buttonEl =\n",
              "          document.querySelector('#df-19bb9870-78af-483a-a7c4-c8b3bad46687 button.colab-df-convert');\n",
              "        buttonEl.style.display =\n",
              "          google.colab.kernel.accessAllowed ? 'block' : 'none';\n",
              "\n",
              "        async function convertToInteractive(key) {\n",
              "          const element = document.querySelector('#df-19bb9870-78af-483a-a7c4-c8b3bad46687');\n",
              "          const dataTable =\n",
              "            await google.colab.kernel.invokeFunction('convertToInteractive',\n",
              "                                                     [key], {});\n",
              "          if (!dataTable) return;\n",
              "\n",
              "          const docLinkHtml = 'Like what you see? Visit the ' +\n",
              "            '<a target=\"_blank\" href=https://colab.research.google.com/notebooks/data_table.ipynb>data table notebook</a>'\n",
              "            + ' to learn more about interactive tables.';\n",
              "          element.innerHTML = '';\n",
              "          dataTable['output_type'] = 'display_data';\n",
              "          await google.colab.output.renderOutput(dataTable, element);\n",
              "          const docLink = document.createElement('div');\n",
              "          docLink.innerHTML = docLinkHtml;\n",
              "          element.appendChild(docLink);\n",
              "        }\n",
              "      </script>\n",
              "    </div>\n",
              "  </div>\n",
              "  "
            ]
          },
          "metadata": {},
          "execution_count": 131
        }
      ]
    },
    {
      "cell_type": "code",
      "source": [
        "df_st2['label'].value_counts()"
      ],
      "metadata": {
        "colab": {
          "base_uri": "https://localhost:8080/"
        },
        "id": "240g5ugpnPdx",
        "outputId": "50cd9567-2c0e-4083-a875-ee15cedc1247"
      },
      "execution_count": 132,
      "outputs": [
        {
          "output_type": "execute_result",
          "data": {
            "text/plain": [
              " 0    27303\n",
              " 1    21680\n",
              "-1    21108\n",
              "Name: label, dtype: int64"
            ]
          },
          "metadata": {},
          "execution_count": 132
        }
      ]
    },
    {
      "cell_type": "markdown",
      "source": [
        "Lastly we will save the files as a .csv file. This file will be saved where we have our PATH2 and PATH are and we wrote that longer up in the code. "
      ],
      "metadata": {
        "id": "AHUP0Ki7nQ-m"
      }
    },
    {
      "cell_type": "code",
      "source": [
        "df_st1.to_csv(PATH2, header=True, index=False, encoding='utf_8')\n",
        "df_st2.to_csv(PATH, header=True, index=False, encoding='utf_8')"
      ],
      "metadata": {
        "id": "XwomCskmnREQ"
      },
      "execution_count": null,
      "outputs": []
    },
    {
      "cell_type": "markdown",
      "source": [
        "# Visualization, Combinding\n"
      ],
      "metadata": {
        "id": "9mHKBTPxAmuc"
      }
    },
    {
      "cell_type": "markdown",
      "source": [
        "Under in the next cells, we have the code where we first combine the dataset we made over and saved to drive. Then afterward visualize them so we know what data we will look at. For our paper, this is where most of our figures comes from. "
      ],
      "metadata": {
        "id": "zPF_T1vQAzn4"
      }
    },
    {
      "cell_type": "markdown",
      "source": [
        "First we need to generate the final dataset we will use for regression and visualization. For now, we only have 25*2*2 = 100 files (4 for each company). Now we will combine the ones we will use in our research and then save them in drive as their own CSV file."
      ],
      "metadata": {
        "id": "hgxN9dCqI4fx"
      }
    },
    {
      "cell_type": "code",
      "source": [
        "pb = '/content/drive/My Drive/StockTwits Data Binary/'\n",
        "pp = '/content/drive/My Drive/StockTwits Data Percentage/'\n",
        "l1 = 'label2.1.csv'\n",
        "l2 = 'label2.2.csv'"
      ],
      "metadata": {
        "id": "1xGMlURyAqZ9"
      },
      "execution_count": 1,
      "outputs": []
    },
    {
      "cell_type": "code",
      "source": [
        "binary_same = [pb+'HD_binary_'+l2,pb+'T_binary_'+l2,pb+'GOOG_binary_'+l2,pb+'BRK.A_binary_'+l2]\n",
        "binary_prev = [pb+'HD_binary_'+l1,pb+'T_binary_'+l1,pb+'GOOG_binary_'+l1,pb+'BRK.A_binary_'+l1]\n",
        "percentage_same = [pp+'HD_'+l2,pp+'T_'+l2,pp+'PG_'+l2,pp+'GOOG_'+l2,pp+'BRK.A_'+l2]\n",
        "percentage_prev = [pp+'HD_'+l1,pp+'T_'+l1,pp+'PG_'+l1,pp+'GOOG_'+l1,pp+'BRK.A_'+l1]"
      ],
      "metadata": {
        "id": "g1UeN-P3Japm"
      },
      "execution_count": null,
      "outputs": []
    },
    {
      "cell_type": "code",
      "source": [
        "binary_same = pd.read_csv('/content/combined_0.csv')\n",
        "binary_prev = pd.read_csv('/content/combined_1.csv')\n",
        "percentage_same = pd.read_csv('/content/combined_2.csv')\n",
        "percentage_prev = pd.read_csv('/content/combined_3.csv')\n",
        "\n",
        "binary_same.to_csv('/content/drive/MyDrive/HD_T_GOOG_BRK-A_TSLA_Binary_Sameday.csv', header=True, index=False, encoding='utf_8')\n",
        "binary_prev.to_csv('/content/drive/MyDrive/HD_T_GOOG_BRK-A_TSLA_Binary_Prevday.csv', header=True, index=False, encoding='utf_8')\n",
        "percentage_same.to_csv('/content/drive/MyDrive/HD_T_GOOG_BRK-A_TSLA_Percentage_Sameday.csv', header=True, index=False, encoding='utf_8')\n",
        "percentage_prev.to_csv('/content/drive/MyDrive/HD_T_GOOG_BRK-A_TSLA_Percentage_Prevday.csv', header=True, index=False, encoding='utf_8')"
      ],
      "metadata": {
        "id": "YHXiJTQ2JeQj"
      },
      "execution_count": null,
      "outputs": []
    },
    {
      "cell_type": "code",
      "source": [
        "binary_same.drop(binary_same[binary_same['Date'] <= '2019-07-20'].index, inplace = True)\n",
        "binary_same.reset_index(drop=True, inplace=True)\n",
        "\n",
        "binary_prev.drop(binary_prev[binary_prev['Date'] <= '2019-07-20'].index, inplace = True)\n",
        "binary_prev.reset_index(drop=True, inplace=True)\n",
        "\n",
        "percentage_same.drop(percentage_same[percentage_same['Date'] <= '2019-07-20'].index, inplace = True)\n",
        "percentage_same.reset_index(drop=True, inplace=True)\n",
        "\n",
        "percentage_prev.drop(percentage_prev[percentage_prev['Date'] <= '2019-07-20'].index, inplace = True)\n",
        "percentage_prev.reset_index(drop=True, inplace=True)"
      ],
      "metadata": {
        "id": "g_z59K55JiWG"
      },
      "execution_count": null,
      "outputs": []
    },
    {
      "cell_type": "code",
      "source": [
        "print('Binary same day value counts:')\n",
        "print(binary_same['label'].value_counts())\n",
        "print()\n",
        "print('Binary prev day value counts:')\n",
        "print(binary_prev['label'].value_counts())\n",
        "print()\n",
        "print('Percentage same day value counts:')\n",
        "print(percentage_same['label'].value_counts())\n",
        "print()\n",
        "print('Percentage prev day value counts:')\n",
        "print(percentage_prev['label'].value_counts())"
      ],
      "metadata": {
        "id": "DNw0I-TIJj3v"
      },
      "execution_count": null,
      "outputs": []
    },
    {
      "cell_type": "markdown",
      "source": [
        "Now to the visualization. Here we will make pie plots to see the percentage of labeling used in each of the different methods (same day/previous day) and for both methods. We will also look at a plot where we look at the count of how many messages we have posted to each company. Lastly, we have a word cloud, that shows what words its found most frequently in the combined dataset."
      ],
      "metadata": {
        "id": "xFcYyQiVJppM"
      }
    },
    {
      "cell_type": "code",
      "source": [
        "print('binary_same')\n",
        "plt.figure(figsize = (9,3))\n",
        "ax = plt.pie(binary_same['label'].value_counts(), colors = colors, autopct=\"%1.1f%%\", labels=[\"Positive\",\"Negative\"])"
      ],
      "metadata": {
        "id": "NEm2plu4KReU"
      },
      "execution_count": null,
      "outputs": []
    },
    {
      "cell_type": "code",
      "source": [
        "print('binary_prev')\n",
        "plt.figure(figsize = (9,3))\n",
        "ax = plt.pie(binary_prev['label'].value_counts(), colors = colors, autopct=\"%1.1f%%\", labels=[\"Positive\",\"Negative\"])"
      ],
      "metadata": {
        "id": "pTUrg4_ZKUkl"
      },
      "execution_count": null,
      "outputs": []
    },
    {
      "cell_type": "code",
      "source": [
        "print('percentage_same')\n",
        "colors = ['cornflowerblue', 'antiquewhite', 'lightcoral']\n",
        "plt.figure(figsize = (9,3))\n",
        "ax = plt.pie(percentage_same['label'].value_counts(), colors = colors, autopct=\"%1.1f%%\", labels=[\"Positive\",\"Netrual\",\"Negative\"])"
      ],
      "metadata": {
        "id": "cSUa1kH6KU5K"
      },
      "execution_count": null,
      "outputs": []
    },
    {
      "cell_type": "code",
      "source": [
        "print('percentage_prev')\n",
        "colors = ['antiquewhite', 'cornflowerblue', 'lightcoral']\n",
        "plt.figure(figsize = (9,3))\n",
        "ax = plt.pie(percentage_prev['label'].value_counts(), colors = colors, autopct=\"%1.1f%%\", labels=[\"Netrual\",\"Positive\",\"Negative\"])"
      ],
      "metadata": {
        "id": "BmnQ7xXwKU7w"
      },
      "execution_count": null,
      "outputs": []
    },
    {
      "cell_type": "code",
      "source": [
        "plt.figure(figsize = (9,3))\n",
        "plt.ticklabel_format(style='plain', axis='x')\n",
        "\n",
        "\n",
        "ax = sns.countplot(y=\"symbol\", data=df, palette=(\"coolwarm\"), order = df['symbol'].value_counts().index)\n",
        "ax.set(xlabel='Number of StockTwits messages', ylabel='')"
      ],
      "metadata": {
        "id": "PY_NC5UmKU-n"
      },
      "execution_count": null,
      "outputs": []
    },
    {
      "cell_type": "code",
      "source": [
        "from wordcloud import WordCloud, STOPWORDS\n",
        "import matplotlib.pyplot as plt\n",
        "import pandas as pd\n",
        "\n",
        "comment_words = ''\n",
        "set1 = set(STOPWORDS)\n",
        "set2 =  {\"aapl\",\"adbe\",\"amzn\",\"bac\",\"brk.a\",\"brk.b\",\"brk\",\"dia\",\"dis\",\"fb\",\"goog\",\"googl\",\"hd\",\"intc\",\"jnj\",\"nflx\",\"pg\",\"qqq\",\"spy\",\"t\",\"tsla\",\"unh\",\"v\",\"vix\",\"vz\",\"wmt\",\"quot\",\"home\",\"depot\",\"google\",\"amp\"}\n",
        "stopwords = set.union(set1, set2)\n",
        "#stopwords = set(STOPWORDS)\n",
        "\n",
        "for val in df.message:\n",
        "     \n",
        "    # typecaste each val to string\n",
        "    val = str(val)\n",
        " \n",
        "    # split the value\n",
        "    tokens = val.split()\n",
        "     \n",
        "    # Converts each token into lowercase\n",
        "    for i in range(len(tokens)):\n",
        "        tokens[i] = tokens[i].lower()\n",
        "     \n",
        "    comment_words += \" \".join(tokens)+\" \"\n",
        "  \n",
        "wordcloud = WordCloud(width = 2400, height = 1600, background_color ='white',stopwords = stopwords, min_font_size = 5).generate(comment_words)\n",
        "\n",
        "plt.figure(figsize = (8, 8), facecolor = None)\n",
        "plt.imshow(wordcloud)\n",
        "plt.axis(\"off\")\n",
        "plt.tight_layout(pad = 0)\n",
        "\n",
        "plt.show()"
      ],
      "metadata": {
        "id": "1wyCZ1PWKVC1"
      },
      "execution_count": null,
      "outputs": []
    },
    {
      "cell_type": "code",
      "source": [
        "result = {\"Model\":['Logistic Reggresion','Navis Bayes','Random Forest','BERT'],\"Time\":[33,65,100,185]}\n",
        "df_results = pd.DataFrame(result) \n",
        "\n",
        "plt.figure(figsize = (9,3))\n",
        "plt.ticklabel_format(style='plain', axis='x')\n",
        "\n",
        "\n",
        "sns.barplot(x=df_results['Model'], y=df_results['Time'], palette=(\"coolwarm\"))\n",
        "plt.title(\"Model running time in minuttes\")"
      ],
      "metadata": {
        "id": "fqO4tZb4KVFS"
      },
      "execution_count": null,
      "outputs": []
    },
    {
      "cell_type": "markdown",
      "source": [
        "# Regression"
      ],
      "metadata": {
        "id": "C4IMuN2ZARN3"
      }
    },
    {
      "cell_type": "markdown",
      "source": [
        "Under the next cells is the models we have used in our research. These models are Navis Bayes, Logistic regression, Random forest, and BERT.  "
      ],
      "metadata": {
        "id": "Bcns266NAlFx"
      }
    },
    {
      "cell_type": "markdown",
      "source": [
        "Firstly we need to read the correct dataframe for the method we will run all the regression for. We will also randomnise them and print the head to look at how it looks. "
      ],
      "metadata": {
        "id": "E6Qs3hO1tKIO"
      }
    },
    {
      "cell_type": "code",
      "source": [
        "#df = pd.read_csv('/content/drive/MyDrive/HD_T_GOOG_BRK-A_TSLA_Binary_Sameday.csv')\n",
        "#df = pd.read_csv('/content/drive/MyDrive/HD_T_GOOG_BRK-A_TSLA_Binary_Prevday.csv')\n",
        "#df = pd.read_csv('/content/drive/MyDrive/HD_T_GOOG_BRK-A_TSLA_Percentage_Sameday.csv')\n",
        "df = pd.read_csv('/content/drive/MyDrive/HD_T_GOOG_BRK-A_TSLA_Percentage_Prevday.csv')\n",
        "df = df.sample(frac=1)\n",
        "df.head()"
      ],
      "metadata": {
        "id": "PU650OUQCKj8"
      },
      "execution_count": null,
      "outputs": []
    },
    {
      "cell_type": "markdown",
      "source": [
        "Since for our research we will just look at data from the last year we will drop everything else. We can also change this to other dates and add or take away data. We also print out the labels value counts so we can see how many labels we will work with. "
      ],
      "metadata": {
        "id": "5GYM3tmrtTY4"
      }
    },
    {
      "cell_type": "code",
      "source": [
        "df.drop(df[df['Date'] <= '2019-07-20'].index, inplace = True)\n",
        "df['label'].value_counts()"
      ],
      "metadata": {
        "id": "2s8plqRNBU20"
      },
      "execution_count": null,
      "outputs": []
    },
    {
      "cell_type": "markdown",
      "source": [
        "Then we need to split the data so we can acutally work with it for our models. We will use random_state = 42, and the test size will be 10 percent. "
      ],
      "metadata": {
        "id": "l1Guy31YtkMj"
      }
    },
    {
      "cell_type": "code",
      "source": [
        "X_train, X_test, y_train, y_test = train_test_split(df['message'], df['label'], random_state = 42, test_size = 0.1)\n",
        "print('y_train value counts:')\n",
        "print(y_train.value_counts())\n",
        "print()\n",
        "print('y_test value counts:')\n",
        "print(y_test.value_counts())\n",
        "print()"
      ],
      "metadata": {
        "id": "vmXyTqLeBX6a"
      },
      "execution_count": null,
      "outputs": []
    },
    {
      "cell_type": "markdown",
      "source": [
        "Navis Bayes"
      ],
      "metadata": {
        "id": "mu6Bs3iVAYCO"
      }
    },
    {
      "cell_type": "code",
      "source": [
        "tf_idf = TfidfVectorizer(use_idf=True,ngram_range=(2,2))\n",
        "train_features = tf_idf.fit_transform(X_train.values.astype('U'))\n",
        "test_features = tf_idf.transform(X_test.values.astype('U'))"
      ],
      "metadata": {
        "id": "F2jL5KQCBmLD"
      },
      "execution_count": null,
      "outputs": []
    },
    {
      "cell_type": "code",
      "source": [
        "params = {'alpha': [0.01, 0.1, 0.5, 1.0, 10.0],}\n",
        "model = GridSearchCV(MultinomialNB(), param_grid=params, n_jobs=-1, cv=5, verbose=5)\n",
        "model.fit(train_features, y_train)"
      ],
      "metadata": {
        "id": "ClTe495bBnSS"
      },
      "execution_count": null,
      "outputs": []
    },
    {
      "cell_type": "code",
      "source": [
        "print('Train Accuracy : %.3f'%model.best_estimator_.score(train_features, y_train))\n",
        "print('Test Accuracy : %.3f'%model.best_estimator_.score(test_features, y_test))\n",
        "print('Best Accuracy Through Grid Search : %.3f'%model.best_score_)\n",
        "print('Best Parameters : ',model.best_params_)"
      ],
      "metadata": {
        "id": "XGx1OLFqBokf"
      },
      "execution_count": null,
      "outputs": []
    },
    {
      "cell_type": "code",
      "source": [
        "y_pred = model.predict(test_features)\n",
        "print(classification_report(y_test, y_pred))"
      ],
      "metadata": {
        "id": "_leC-tOoBpmk"
      },
      "execution_count": null,
      "outputs": []
    },
    {
      "cell_type": "markdown",
      "source": [
        "Logistic Regression"
      ],
      "metadata": {
        "id": "EWIbiFwjB-jO"
      }
    },
    {
      "cell_type": "code",
      "source": [
        "tuned_parameters = {'vect__ngram_range': [(1, 2),(2, 2)], 'clf__C':[0.01,0.1,1], 'clf__penalty':[\"l1\",\"l2\"]}\n",
        "\n",
        "text_clf = Pipeline([('vect', CountVectorizer()),('clf', LogisticRegression(max_iter=5000, solver='liblinear'))])\n",
        "\n",
        "score = 'f1_macro'\n",
        "logmodel_cv=GridSearchCV(text_clf,tuned_parameters,cv=5, scoring=score)\n",
        "logmodel_cv.fit(x_train.values.astype('U'), y_train)"
      ],
      "metadata": {
        "id": "mDJoifbTCCl_"
      },
      "execution_count": null,
      "outputs": []
    },
    {
      "cell_type": "code",
      "source": [
        "print(classification_report(y_test, logmodel_cv.predict(x_test.values.astype('U')), digits=4))"
      ],
      "metadata": {
        "id": "FphJoTosDu9G"
      },
      "execution_count": null,
      "outputs": []
    },
    {
      "cell_type": "code",
      "source": [
        "logmodel_cv.best_params_"
      ],
      "metadata": {
        "id": "ii2ZM8DnGH4s"
      },
      "execution_count": null,
      "outputs": []
    },
    {
      "cell_type": "code",
      "source": [
        "logmodel_cv.best_estimator_"
      ],
      "metadata": {
        "id": "nVvnThTVGIwM"
      },
      "execution_count": null,
      "outputs": []
    },
    {
      "cell_type": "markdown",
      "source": [
        "Random Forest"
      ],
      "metadata": {
        "id": "S62V20A_DeJ2"
      }
    },
    {
      "cell_type": "code",
      "source": [
        "RandomForestClassifier(class_weight='blanced')\n",
        "text_clf = Pipeline([('vect', CountVectorizer()), ('tfidf', TfidfTransformer()), ('clf', RandomForestClassifier())])\n",
        "tuned_parameters = {'tfidf__use_idf': ['True'], 'clf__max_features':['sqrt'], 'clf__max_depth' : [5], 'clf__n_estimators':[200], 'clf__class_weight': ['balanced']}\n",
        "text_clf.get_params().keys()\n",
        "clf = GridSearchCV(text_clf, tuned_parameters)\n",
        "clf.fit(X_train.values.astype('U'), y_train)\n",
        "print(classification_report(y_test, clf.predict(X_test.values.astype('U')), digits=4))"
      ],
      "metadata": {
        "id": "iBSAVktlDefP"
      },
      "execution_count": null,
      "outputs": []
    },
    {
      "cell_type": "code",
      "source": [
        "clf = GridSearchCV(text_clf, tuned_parameters)\n",
        "clf.fit(X_train.values.astype('U'), y_train)"
      ],
      "metadata": {
        "id": "uak_SOnxF-uk"
      },
      "execution_count": null,
      "outputs": []
    },
    {
      "cell_type": "code",
      "source": [
        "print(classification_report(y_test, clf.predict(X_test.values.astype('U')), digits=4))"
      ],
      "metadata": {
        "id": "X653AGnWF_40"
      },
      "execution_count": null,
      "outputs": []
    },
    {
      "cell_type": "code",
      "source": [
        "%matplotlib inline\n",
        "predicted_forest = clf.predict(X_test.values.astype('U'))\n",
        "plt.figure(dpi=100)\n",
        "mat = confusion_matrix(y_test, predicted_forest)\n",
        "sns.heatmap(mat.T, annot=True, fmt='d', cbar=False)\n",
        "plt.title('Confusion Matrix for Random Forest Classifier')\n",
        "plt.xlabel('true label')\n",
        "plt.ylabel('predicted label')\n",
        "plt.show()"
      ],
      "metadata": {
        "id": "DxyIDnbrIcya"
      },
      "execution_count": null,
      "outputs": []
    },
    {
      "cell_type": "markdown",
      "source": [
        "BERT"
      ],
      "metadata": {
        "id": "V-WK5QvqDerC"
      }
    },
    {
      "cell_type": "code",
      "source": [
        ""
      ],
      "metadata": {
        "id": "_GYVeaYVDe0j"
      },
      "execution_count": null,
      "outputs": []
    }
  ],
  "metadata": {
    "colab": {
      "collapsed_sections": [
        "IzhHzJMM09iU",
        "wc6Etpr21BH9"
      ],
      "name": "All code, description and commented.ipynb",
      "provenance": []
    },
    "kernelspec": {
      "display_name": "Python 3",
      "name": "python3"
    },
    "language_info": {
      "name": "python"
    }
  },
  "nbformat": 4,
  "nbformat_minor": 0
}