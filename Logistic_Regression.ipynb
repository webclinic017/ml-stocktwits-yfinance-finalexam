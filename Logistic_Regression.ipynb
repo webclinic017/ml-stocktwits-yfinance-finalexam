{
  "nbformat": 4,
  "nbformat_minor": 0,
  "metadata": {
    "colab": {
      "name": "Logistic Regression.ipynb",
      "provenance": []
    },
    "kernelspec": {
      "name": "python3",
      "display_name": "Python 3"
    },
    "language_info": {
      "name": "python"
    }
  },
  "cells": [
    {
      "cell_type": "code",
      "execution_count": null,
      "metadata": {
        "id": "dAPge6L6F99Y"
      },
      "outputs": [],
      "source": [
        "!pip install contractions\n",
        "!pip install emoji\n",
        "!pip install ekphrasis\n",
        "!pip install -U -q PyDrive\n",
        "!pip install yfinance --upgrade --no-cache-dir\n",
        "\n",
        "import pandas as pd\n",
        "import re\n",
        "import emoji\n",
        "import nltk\n",
        "import contractions\n",
        "import torch\n",
        "\n",
        "nltk.download('punkt')\n",
        "nltk.download('stopwords')\n",
        "from nltk.tokenize import TweetTokenizer \n",
        "from nltk.corpus import stopwords as sw\n",
        "from nltk.tokenize import word_tokenize \n",
        "from nltk.tokenize.treebank import TreebankWordDetokenizer\n",
        "import requests \n",
        "from pprint import pprint\n",
        "import numpy as np\n",
        "from nltk.stem import PorterStemmer\n",
        "\n",
        "import tensorflow as tf\n",
        "import tensorflow_hub as hub\n",
        "from datetime import datetime\n",
        "from tensorflow import keras\n",
        "\n",
        "import os\n",
        "import pprint\n",
        "import json\n",
        "import random\n",
        "import string\n",
        "import sys\n",
        "from ekphrasis.classes.segmenter import Segmenter\n",
        "import itertools\n",
        "\n",
        "\n",
        "from pydrive.auth import GoogleAuth\n",
        "from pydrive.drive import GoogleDrive\n",
        "from google.colab import auth\n",
        "from oauth2client.client import GoogleCredentials\n",
        "import pandas as pd\n",
        "\n",
        "from google.colab import drive\n",
        "\n",
        "import seaborn as sns\n",
        "import matplotlib.pyplot as plt\n",
        "from matplotlib.ticker import FormatStrFormatter, StrMethodFormatter\n",
        "\n",
        "import datetime\n",
        "from datetime import datetime, timedelta, date\n",
        "\n",
        "import yfinance as yf\n",
        "from datetime import datetime, timedelta, date\n",
        "\n",
        "#mount's to Google Drive\n",
        "drive.mount('/content/drive')\n",
        "\n",
        "#connect's to Google Cloud SDK\n",
        "auth.authenticate_user()\n",
        "gauth = GoogleAuth()\n",
        "gauth.credentials = GoogleCredentials.get_application_default()\n",
        "drive = GoogleDrive(gauth)"
      ]
    },
    {
      "cell_type": "code",
      "source": [
        "from sklearn.model_selection import train_test_split"
      ],
      "metadata": {
        "id": "w9bNUcICGjzu"
      },
      "execution_count": null,
      "outputs": []
    },
    {
      "cell_type": "code",
      "source": [
        "df = pd.read_csv('/content/combined_0.csv')\n",
        "df = df.sample(frac=1)\n",
        "df.head()"
      ],
      "metadata": {
        "colab": {
          "base_uri": "https://localhost:8080/",
          "height": 206
        },
        "id": "c6_pTpCRGA4R",
        "outputId": "c806a3e5-1863-4add-c751-9a1a597f10d4"
      },
      "execution_count": null,
      "outputs": [
        {
          "output_type": "execute_result",
          "data": {
            "text/plain": [
              "       symbol                                            message  \\\n",
              "200079      V             7 trades today dia ecte fb v amzn twtr   \n",
              "83313      HD  eu spent everyday shorting hd 39 open guess co...   \n",
              "37235       T  6 year low taking weekly pivots light volume b...   \n",
              "78559      HD        home depot another dip buy seeking alpha hd   \n",
              "178321      V                            v hammer 20 trend place   \n",
              "\n",
              "                   datetime     user  message_id        Date      Time  label  \n",
              "200079  2014-05-07 20:17:48   168386    22743737  2014-05-07  20:17:48      1  \n",
              "83313   2019-05-22 13:49:23   543250   165056055  2019-05-22  13:49:23      0  \n",
              "37235   2018-07-25 18:45:13   984264   131357673  2018-07-25  18:45:13      0  \n",
              "78559   2019-11-22 02:11:01  2178417   184648816  2019-11-22  02:11:01      0  \n",
              "178321  2018-08-16 02:01:15  1505519   134102862  2018-08-16  02:01:15      0  "
            ],
            "text/html": [
              "\n",
              "  <div id=\"df-723ca60b-f232-484d-bd47-cb3c07249f0a\">\n",
              "    <div class=\"colab-df-container\">\n",
              "      <div>\n",
              "<style scoped>\n",
              "    .dataframe tbody tr th:only-of-type {\n",
              "        vertical-align: middle;\n",
              "    }\n",
              "\n",
              "    .dataframe tbody tr th {\n",
              "        vertical-align: top;\n",
              "    }\n",
              "\n",
              "    .dataframe thead th {\n",
              "        text-align: right;\n",
              "    }\n",
              "</style>\n",
              "<table border=\"1\" class=\"dataframe\">\n",
              "  <thead>\n",
              "    <tr style=\"text-align: right;\">\n",
              "      <th></th>\n",
              "      <th>symbol</th>\n",
              "      <th>message</th>\n",
              "      <th>datetime</th>\n",
              "      <th>user</th>\n",
              "      <th>message_id</th>\n",
              "      <th>Date</th>\n",
              "      <th>Time</th>\n",
              "      <th>label</th>\n",
              "    </tr>\n",
              "  </thead>\n",
              "  <tbody>\n",
              "    <tr>\n",
              "      <th>200079</th>\n",
              "      <td>V</td>\n",
              "      <td>7 trades today dia ecte fb v amzn twtr</td>\n",
              "      <td>2014-05-07 20:17:48</td>\n",
              "      <td>168386</td>\n",
              "      <td>22743737</td>\n",
              "      <td>2014-05-07</td>\n",
              "      <td>20:17:48</td>\n",
              "      <td>1</td>\n",
              "    </tr>\n",
              "    <tr>\n",
              "      <th>83313</th>\n",
              "      <td>HD</td>\n",
              "      <td>eu spent everyday shorting hd 39 open guess co...</td>\n",
              "      <td>2019-05-22 13:49:23</td>\n",
              "      <td>543250</td>\n",
              "      <td>165056055</td>\n",
              "      <td>2019-05-22</td>\n",
              "      <td>13:49:23</td>\n",
              "      <td>0</td>\n",
              "    </tr>\n",
              "    <tr>\n",
              "      <th>37235</th>\n",
              "      <td>T</td>\n",
              "      <td>6 year low taking weekly pivots light volume b...</td>\n",
              "      <td>2018-07-25 18:45:13</td>\n",
              "      <td>984264</td>\n",
              "      <td>131357673</td>\n",
              "      <td>2018-07-25</td>\n",
              "      <td>18:45:13</td>\n",
              "      <td>0</td>\n",
              "    </tr>\n",
              "    <tr>\n",
              "      <th>78559</th>\n",
              "      <td>HD</td>\n",
              "      <td>home depot another dip buy seeking alpha hd</td>\n",
              "      <td>2019-11-22 02:11:01</td>\n",
              "      <td>2178417</td>\n",
              "      <td>184648816</td>\n",
              "      <td>2019-11-22</td>\n",
              "      <td>02:11:01</td>\n",
              "      <td>0</td>\n",
              "    </tr>\n",
              "    <tr>\n",
              "      <th>178321</th>\n",
              "      <td>V</td>\n",
              "      <td>v hammer 20 trend place</td>\n",
              "      <td>2018-08-16 02:01:15</td>\n",
              "      <td>1505519</td>\n",
              "      <td>134102862</td>\n",
              "      <td>2018-08-16</td>\n",
              "      <td>02:01:15</td>\n",
              "      <td>0</td>\n",
              "    </tr>\n",
              "  </tbody>\n",
              "</table>\n",
              "</div>\n",
              "      <button class=\"colab-df-convert\" onclick=\"convertToInteractive('df-723ca60b-f232-484d-bd47-cb3c07249f0a')\"\n",
              "              title=\"Convert this dataframe to an interactive table.\"\n",
              "              style=\"display:none;\">\n",
              "        \n",
              "  <svg xmlns=\"http://www.w3.org/2000/svg\" height=\"24px\"viewBox=\"0 0 24 24\"\n",
              "       width=\"24px\">\n",
              "    <path d=\"M0 0h24v24H0V0z\" fill=\"none\"/>\n",
              "    <path d=\"M18.56 5.44l.94 2.06.94-2.06 2.06-.94-2.06-.94-.94-2.06-.94 2.06-2.06.94zm-11 1L8.5 8.5l.94-2.06 2.06-.94-2.06-.94L8.5 2.5l-.94 2.06-2.06.94zm10 10l.94 2.06.94-2.06 2.06-.94-2.06-.94-.94-2.06-.94 2.06-2.06.94z\"/><path d=\"M17.41 7.96l-1.37-1.37c-.4-.4-.92-.59-1.43-.59-.52 0-1.04.2-1.43.59L10.3 9.45l-7.72 7.72c-.78.78-.78 2.05 0 2.83L4 21.41c.39.39.9.59 1.41.59.51 0 1.02-.2 1.41-.59l7.78-7.78 2.81-2.81c.8-.78.8-2.07 0-2.86zM5.41 20L4 18.59l7.72-7.72 1.47 1.35L5.41 20z\"/>\n",
              "  </svg>\n",
              "      </button>\n",
              "      \n",
              "  <style>\n",
              "    .colab-df-container {\n",
              "      display:flex;\n",
              "      flex-wrap:wrap;\n",
              "      gap: 12px;\n",
              "    }\n",
              "\n",
              "    .colab-df-convert {\n",
              "      background-color: #E8F0FE;\n",
              "      border: none;\n",
              "      border-radius: 50%;\n",
              "      cursor: pointer;\n",
              "      display: none;\n",
              "      fill: #1967D2;\n",
              "      height: 32px;\n",
              "      padding: 0 0 0 0;\n",
              "      width: 32px;\n",
              "    }\n",
              "\n",
              "    .colab-df-convert:hover {\n",
              "      background-color: #E2EBFA;\n",
              "      box-shadow: 0px 1px 2px rgba(60, 64, 67, 0.3), 0px 1px 3px 1px rgba(60, 64, 67, 0.15);\n",
              "      fill: #174EA6;\n",
              "    }\n",
              "\n",
              "    [theme=dark] .colab-df-convert {\n",
              "      background-color: #3B4455;\n",
              "      fill: #D2E3FC;\n",
              "    }\n",
              "\n",
              "    [theme=dark] .colab-df-convert:hover {\n",
              "      background-color: #434B5C;\n",
              "      box-shadow: 0px 1px 3px 1px rgba(0, 0, 0, 0.15);\n",
              "      filter: drop-shadow(0px 1px 2px rgba(0, 0, 0, 0.3));\n",
              "      fill: #FFFFFF;\n",
              "    }\n",
              "  </style>\n",
              "\n",
              "      <script>\n",
              "        const buttonEl =\n",
              "          document.querySelector('#df-723ca60b-f232-484d-bd47-cb3c07249f0a button.colab-df-convert');\n",
              "        buttonEl.style.display =\n",
              "          google.colab.kernel.accessAllowed ? 'block' : 'none';\n",
              "\n",
              "        async function convertToInteractive(key) {\n",
              "          const element = document.querySelector('#df-723ca60b-f232-484d-bd47-cb3c07249f0a');\n",
              "          const dataTable =\n",
              "            await google.colab.kernel.invokeFunction('convertToInteractive',\n",
              "                                                     [key], {});\n",
              "          if (!dataTable) return;\n",
              "\n",
              "          const docLinkHtml = 'Like what you see? Visit the ' +\n",
              "            '<a target=\"_blank\" href=https://colab.research.google.com/notebooks/data_table.ipynb>data table notebook</a>'\n",
              "            + ' to learn more about interactive tables.';\n",
              "          element.innerHTML = '';\n",
              "          dataTable['output_type'] = 'display_data';\n",
              "          await google.colab.output.renderOutput(dataTable, element);\n",
              "          const docLink = document.createElement('div');\n",
              "          docLink.innerHTML = docLinkHtml;\n",
              "          element.appendChild(docLink);\n",
              "        }\n",
              "      </script>\n",
              "    </div>\n",
              "  </div>\n",
              "  "
            ]
          },
          "metadata": {},
          "execution_count": 3
        }
      ]
    },
    {
      "cell_type": "code",
      "source": [
        "df.drop(df[df['Date'] <= '2019-07-20'].index, inplace = True)\n",
        "df['label'].value_counts()"
      ],
      "metadata": {
        "colab": {
          "base_uri": "https://localhost:8080/"
        },
        "id": "WiRWkglhGk4N",
        "outputId": "63f56de8-260c-499a-91bb-99dabfc7b211"
      },
      "execution_count": null,
      "outputs": [
        {
          "output_type": "execute_result",
          "data": {
            "text/plain": [
              "1    27545\n",
              "0    25205\n",
              "Name: label, dtype: int64"
            ]
          },
          "metadata": {},
          "execution_count": 4
        }
      ]
    },
    {
      "cell_type": "markdown",
      "source": [
        "Here we start the process with regression. \n",
        "1. Splitting\n",
        "2. train and predict\n",
        "3. Random forest\n",
        "\n",
        "4. Report"
      ],
      "metadata": {
        "id": "xJ469s8eHWcD"
      }
    },
    {
      "cell_type": "code",
      "source": [
        "from sklearn.model_selection import train_test_split\n",
        "x_train, x_test, y_train, y_test = train_test_split(df['message'], df['label'], test_size=0.10, random_state=42)"
      ],
      "metadata": {
        "id": "c0UlSIgtGm1A"
      },
      "execution_count": null,
      "outputs": []
    },
    {
      "cell_type": "code",
      "source": [
        "y_train.value_counts()"
      ],
      "metadata": {
        "colab": {
          "base_uri": "https://localhost:8080/"
        },
        "id": "yF5TZn6IHj9H",
        "outputId": "4603ef23-9e34-4ef3-e71f-e2df59b3479e"
      },
      "execution_count": null,
      "outputs": [
        {
          "output_type": "execute_result",
          "data": {
            "text/plain": [
              "1    24749\n",
              "0    22726\n",
              "Name: label, dtype: int64"
            ]
          },
          "metadata": {},
          "execution_count": 6
        }
      ]
    },
    {
      "cell_type": "code",
      "source": [
        "y_test.value_counts()"
      ],
      "metadata": {
        "colab": {
          "base_uri": "https://localhost:8080/"
        },
        "id": "K5vF9EbaICNr",
        "outputId": "e7ad13c4-f332-4522-c75f-83e668369a1f"
      },
      "execution_count": null,
      "outputs": [
        {
          "output_type": "execute_result",
          "data": {
            "text/plain": [
              "1    2796\n",
              "0    2479\n",
              "Name: label, dtype: int64"
            ]
          },
          "metadata": {},
          "execution_count": 7
        }
      ]
    },
    {
      "cell_type": "code",
      "source": [
        "from sklearn.pipeline import Pipeline\n",
        "from sklearn.linear_model import LogisticRegression\n",
        "from sklearn.feature_extraction.text import CountVectorizer, TfidfTransformer\n",
        "from sklearn.model_selection import GridSearchCV\n",
        "from sklearn import preprocessing\n",
        "from sklearn.model_selection import StratifiedKFold"
      ],
      "metadata": {
        "id": "NJDXopfRIFW6"
      },
      "execution_count": null,
      "outputs": []
    },
    {
      "cell_type": "code",
      "source": [
        "tuned_parameters = {'vect__ngram_range': [(1, 2),(2, 2)], 'clf__C':[0.01,0.1,1], 'clf__penalty':[\"l1\",\"l2\"]}\n",
        "\n",
        "text_clf = Pipeline([('vect', CountVectorizer()),('clf', LogisticRegression(max_iter=5000, solver='liblinear'))])\n",
        "\n",
        "score = 'f1_macro'\n",
        "logmodel_cv=GridSearchCV(text_clf,tuned_parameters,cv=5, scoring=score)\n",
        "logmodel_cv.fit(x_train.values.astype('U'), y_train)"
      ],
      "metadata": {
        "id": "gKSea3maOeiX",
        "colab": {
          "base_uri": "https://localhost:8080/"
        },
        "outputId": "3e01076e-b512-48b7-ba3b-78ec91814e97"
      },
      "execution_count": null,
      "outputs": [
        {
          "output_type": "execute_result",
          "data": {
            "text/plain": [
              "GridSearchCV(cv=5,\n",
              "             estimator=Pipeline(steps=[('vect', CountVectorizer()),\n",
              "                                       ('clf',\n",
              "                                        LogisticRegression(max_iter=5000,\n",
              "                                                           solver='liblinear'))]),\n",
              "             param_grid={'clf__C': [0.01, 0.1, 1], 'clf__penalty': ['l1', 'l2'],\n",
              "                         'vect__ngram_range': [(1, 2), (2, 2)]},\n",
              "             scoring='f1_macro')"
            ]
          },
          "metadata": {},
          "execution_count": 14
        }
      ]
    },
    {
      "cell_type": "code",
      "source": [
        "from sklearn.metrics import classification_report\n",
        "print(classification_report(y_test, logmodel_cv.predict(x_test.values.astype('U')), digits=4))"
      ],
      "metadata": {
        "colab": {
          "base_uri": "https://localhost:8080/"
        },
        "id": "fnz9im5SOr3d",
        "outputId": "ca6edcd6-4e86-4972-a001-7e02d1656dfd"
      },
      "execution_count": null,
      "outputs": [
        {
          "output_type": "stream",
          "name": "stdout",
          "text": [
            "              precision    recall  f1-score   support\n",
            "\n",
            "           0     0.5514    0.5038    0.5266      2479\n",
            "           1     0.5914    0.6366    0.6132      2796\n",
            "\n",
            "    accuracy                         0.5742      5275\n",
            "   macro avg     0.5714    0.5702    0.5699      5275\n",
            "weighted avg     0.5726    0.5742    0.5725      5275\n",
            "\n"
          ]
        }
      ]
    },
    {
      "cell_type": "code",
      "source": [
        "logmodel_cv.best_params_"
      ],
      "metadata": {
        "colab": {
          "base_uri": "https://localhost:8080/"
        },
        "id": "YkyMEKIbPMJA",
        "outputId": "0d7e5cb7-94fb-4116-87b8-3ba26eac003d"
      },
      "execution_count": null,
      "outputs": [
        {
          "output_type": "execute_result",
          "data": {
            "text/plain": [
              "{'clf__C': 1, 'clf__penalty': 'l2', 'vect__ngram_range': (1, 2)}"
            ]
          },
          "metadata": {},
          "execution_count": 20
        }
      ]
    },
    {
      "cell_type": "code",
      "source": [
        "logmodel_cv.best_estimator_"
      ],
      "metadata": {
        "id": "7KweaoXKL8mt",
        "colab": {
          "base_uri": "https://localhost:8080/"
        },
        "outputId": "26725a08-7535-44d6-dbc5-72d3f9c7172c"
      },
      "execution_count": null,
      "outputs": [
        {
          "output_type": "execute_result",
          "data": {
            "text/plain": [
              "Pipeline(steps=[('vect', CountVectorizer(ngram_range=(1, 2))),\n",
              "                ('clf',\n",
              "                 LogisticRegression(C=1, max_iter=5000, solver='liblinear'))])"
            ]
          },
          "metadata": {},
          "execution_count": 21
        }
      ]
    },
    {
      "cell_type": "code",
      "source": [
        ""
      ],
      "metadata": {
        "id": "VNvjVtHTP57C"
      },
      "execution_count": null,
      "outputs": []
    }
  ]
}