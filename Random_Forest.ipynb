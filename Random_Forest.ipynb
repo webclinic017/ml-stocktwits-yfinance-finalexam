{
  "nbformat": 4,
  "nbformat_minor": 0,
  "metadata": {
    "colab": {
      "name": "Random Forest.ipynb",
      "provenance": [],
      "collapsed_sections": []
    },
    "kernelspec": {
      "name": "python3",
      "display_name": "Python 3"
    },
    "language_info": {
      "name": "python"
    }
  },
  "cells": [
    {
      "cell_type": "code",
      "execution_count": null,
      "metadata": {
        "id": "dAPge6L6F99Y"
      },
      "outputs": [],
      "source": [
        "!pip install contractions\n",
        "!pip install emoji\n",
        "!pip install ekphrasis\n",
        "!pip install -U -q PyDrive\n",
        "!pip install yfinance --upgrade --no-cache-dir\n",
        "\n",
        "import contractions\n",
        "import datetime\n",
        "from datetime import datetime , timedelta, date\n",
        "import emoji\n",
        "import itertools\n",
        "import json\n",
        "import matplotlib.pyplot as plt\n",
        "from matplotlib.ticker import FormatStrFormatter, StrMethodFormatter\n",
        "import nltk\n",
        "nltk.download('punkt')\n",
        "nltk.download('stopwords')\n",
        "from nltk.corpus import stopwords as sw\n",
        "from nltk.stem import PorterStemmer\n",
        "from nltk.tokenize import TweetTokenizer, word_tokenize\n",
        "from nltk.tokenize.treebank import TreebankWordDetokenizer\n",
        "import numpy as np\n",
        "import os\n",
        "import pandas as pd\n",
        "import pprint\n",
        "from pprint import pprint\n",
        "import random\n",
        "import re\n",
        "import requests \n",
        "import seaborn as sns\n",
        "import string\n",
        "import sys\n",
        "import tensorflow as tf\n",
        "import tensorflow_hub as hub\n",
        "from tensorflow import keras\n",
        "import torch\n",
        "import yfinance as yf\n",
        "from ekphrasis.classes.segmenter import Segmenter\n",
        "from pydrive.auth  import GoogleAuth\n",
        "from pydrive.drive import GoogleDrive\n",
        "from google.colab import auth,  drive\n",
        "from oauth2client.client import GoogleCredentials\n",
        "from sklearn.ensemble import RandomForestClassifier\n",
        "from sklearn.feature_extraction.text import CountVectorizer, TfidfTransformer, TfidfVectorizer\n",
        "from sklearn.metrics import classification_report, confusion_matrix\n",
        "from sklearn.model_selection import GridSearchCV, train_test_split\n",
        "from sklearn.naive_bayes import MultinomialNB\n",
        "from sklearn.pipeline import Pipeline\n",
        "\n",
        "drive.mount('/content/drive')\n",
        "auth.authenticate_user()\n",
        "gauth = GoogleAuth()\n",
        "gauth.credentials = GoogleCredentials.get_application_default()\n",
        "drive = GoogleDrive(gauth)"
      ]
    },
    {
      "cell_type": "code",
      "source": [
        "#df = pd.read_csv('/content/drive/MyDrive/HD_T_GOOG_BRK-A_TSLA_Binary_Sameday.csv')\n",
        "#df = pd.read_csv('/content/drive/MyDrive/HD_T_GOOG_BRK-A_TSLA_Binary_Prevday.csv')\n",
        "#df = pd.read_csv('/content/drive/MyDrive/HD_T_GOOG_BRK-A_TSLA_Percentage_Sameday.csv')\n",
        "df = pd.read_csv('/content/drive/MyDrive/HD_T_GOOG_BRK-A_TSLA_Percentage_Prevday.csv')\n",
        "df = df.sample(frac=1)\n",
        "df.drop(df[df['Date'] <= '2019-07-20'].index, inplace = True)\n",
        "X_train, X_test, y_train, y_test = train_test_split(df['message'], df['label'], random_state = 42, test_size = 0.1)"
      ],
      "metadata": {
        "id": "50_8-WTXFmGi"
      },
      "execution_count": null,
      "outputs": []
    },
    {
      "cell_type": "code",
      "source": [
        "RandomForestClassifier(class_weight='blanced')\n",
        "text_clf = Pipeline([('vect', CountVectorizer()), ('tfidf', TfidfTransformer()), ('clf', RandomForestClassifier())])\n",
        "tuned_parameters = {'tfidf__use_idf': ['True'], 'clf__max_features':['sqrt'], 'clf__max_depth' : [5], 'clf__n_estimators':[200], 'clf__class_weight': ['balanced']}\n",
        "text_clf.get_params().keys()\n",
        "clf = GridSearchCV(text_clf, tuned_parameters)\n",
        "clf.fit(X_train.values.astype('U'), y_train)\n",
        "print(classification_report(y_test, clf.predict(X_test.values.astype('U')), digits=4))"
      ],
      "metadata": {
        "id": "gKSea3maOeiX"
      },
      "execution_count": null,
      "outputs": []
    },
    {
      "cell_type": "code",
      "source": [
        "%matplotlib inline\n",
        "predicted_forest = clf.predict(X_test.values.astype('U'))\n",
        "plt.figure(dpi=100)\n",
        "mat = confusion_matrix(y_test, predicted_forest)\n",
        "sns.heatmap(mat.T, annot=True, fmt='d', cbar=False)\n",
        "plt.title('Confusion Matrix for Random Forest Classifier')\n",
        "plt.xlabel('true label')\n",
        "plt.ylabel('predicted label')\n",
        "plt.show()"
      ],
      "metadata": {
        "id": "7KweaoXKL8mt"
      },
      "execution_count": null,
      "outputs": []
    }
  ]
}